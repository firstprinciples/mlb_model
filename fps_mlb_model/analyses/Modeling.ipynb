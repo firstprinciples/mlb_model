{
 "cells": [
  {
   "cell_type": "code",
   "execution_count": 1,
   "metadata": {},
   "outputs": [],
   "source": [
    "import pandas as pd\n",
    "import numpy as np\n",
    "import datetime\n",
    "import matplotlib.pyplot as plt\n",
    "import tensorflow as tf\n",
    "from tensorflow.keras.layers import Input, Activation, Dense, Dropout, RNN, Reshape, Embedding, concatenate\n",
    "from tensorflow.keras import Model, Sequential\n",
    "from keras_model import build_model_parallel"
   ]
  },
  {
   "cell_type": "code",
   "execution_count": 2,
   "metadata": {},
   "outputs": [],
   "source": [
    "df = pd.read_csv('..\\\\data\\\\processed2\\\\processed_data2.csv', index_col=0)"
   ]
  },
  {
   "cell_type": "code",
   "execution_count": 3,
   "metadata": {},
   "outputs": [],
   "source": [
    "df.sort_values(by=['date', 'gameid'], inplace=True)\n",
    "df.reset_index(0, drop=True, inplace=True)"
   ]
  },
  {
   "cell_type": "code",
   "execution_count": 4,
   "metadata": {},
   "outputs": [],
   "source": [
    "df['event_final'] = df['event_final'].astype('category')"
   ]
  },
  {
   "cell_type": "code",
   "execution_count": 5,
   "metadata": {},
   "outputs": [],
   "source": [
    "df['event_final_code'] = df['event_final'].cat.codes"
   ]
  },
  {
   "cell_type": "code",
   "execution_count": 6,
   "metadata": {},
   "outputs": [],
   "source": [
    "situation = df[['inning', 'batting team', 'outs', 'visiting_score', 'home_score', 'first', 'second', 'third']].values\n",
    "batter = df['res batter'].astype('category').cat.codes.values\n",
    "pitcher = df['res pitcher'].astype('category').cat.codes.values\n",
    "balls = df['balls'].values\n",
    "strikes = df['strikes'].values\n",
    "fouls = df['fouls'].values\n",
    "outcome = df['event_final_code'].values\n",
    "outcome_onehot = pd.get_dummies(df['event_final_code']).values"
   ]
  },
  {
   "cell_type": "code",
   "execution_count": 7,
   "metadata": {},
   "outputs": [],
   "source": [
    "situation[:, 0] -= 1"
   ]
  },
  {
   "cell_type": "code",
   "execution_count": 8,
   "metadata": {},
   "outputs": [
    {
     "output_type": "execute_result",
     "data": {
      "text/plain": "array(['BOS201004040', 'ANA201004050', 'ARI201004050', ...,\n       'TEX201909290', 'TOR201909290', 'WAS201909290'], dtype=object)"
     },
     "metadata": {},
     "execution_count": 8
    }
   ],
   "source": [
    "df.gameid.unique()"
   ]
  },
  {
   "cell_type": "code",
   "execution_count": 9,
   "metadata": {},
   "outputs": [],
   "source": [
    "class AtBatCell(tf.keras.layers.Layer):\n",
    "\n",
    "    def __init__(self, n_batters, n_pitchers, situation_size, states):\n",
    "        super(AtBatCell, self).__init__()\n",
    "        self.n_batters = n_batters\n",
    "        self.n_pitchers = n_pitchers\n",
    "        self.situation_size = situation_size\n",
    "        self.states = states\n",
    "        self.state_size = tf.TensorShape([self.n_batters + self.n_pitchers, states])\n",
    "\n",
    "    def build( self, input_shape ):\n",
    "        self.Wz = self.add_weight('input z',\n",
    "                                    shape=[self.states*2, self.situation_size])\n",
    "        self.Wr = self.add_weight('input r',\n",
    "                                    shape=[self.states*2, self.situation_size])\n",
    "        self.Wh = self.add_weight('input h',\n",
    "                                    shape=[self.states*2, self.situation_size])\n",
    "        self.Uz = self.add_weight('state z',\n",
    "                                    shape=[self.states*2, self.states*2],\n",
    "                                    initializer=tf.keras.initializers.Identity(gain=0.8))\n",
    "        self.Ur = self.add_weight('state r',\n",
    "                                    shape=[self.states*2, self.states*2],\n",
    "                                    initializer=tf.keras.initializers.Identity(gain=0.8))\n",
    "        self.Uh = self.add_weight('state h',\n",
    "                                    shape=[self.states*2, self.states*2],\n",
    "                                    initializer=tf.keras.initializers.Identity(gain=0.8))\n",
    "        self.bz = self.add_weight('const z',\n",
    "                                    shape=[self.states*2, 1],\n",
    "                                    initializer=tf.keras.initializers.Zeros)\n",
    "        self.br = self.add_weight('const r',\n",
    "                                    shape=[self.states*2, 1],\n",
    "                                    initializer=tf.keras.initializers.Ones())\n",
    "        self.bh = self.add_weight('const h',\n",
    "                                    shape=[self.states*2, 1],\n",
    "                                    initializer=tf.keras.initializers.Zeros)\n",
    "        super(AtBatCell, self).build(input_shape)\n",
    "    \n",
    "    def call(self, inputs, state):\n",
    "        x, b, p = inputs\n",
    "        x = tf.reshape(x, (-1, 1))\n",
    "        state = state[0]\n",
    "        h = self.get_states(state, b, p)\n",
    "        hp = self.GRU(x, h)\n",
    "        state = self.update_states(state, b, p, hp, h)\n",
    "        state = tf.reshape(state, (1, state.shape[0], state.shape[1]))\n",
    "        return state, [state]\n",
    "\n",
    "    def GRU(self, x, h):\n",
    "        z = self.Wz @ x + self.Uz @ h + self.bz\n",
    "        z = tf.math.sigmoid(z)\n",
    "        r = self.Wr @ x + self.Ur @ h - self.br\n",
    "        r = tf.math.sigmoid(r)\n",
    "        m = self.Wh @ x + self.Uh @ (r * h) + self.bh\n",
    "        m = tf.math.tanh(m)\n",
    "        hp = z * h + (1-z) * m\n",
    "        return hp\n",
    "\n",
    "    def get_states(self, states, batter, pitcher):\n",
    "        state_batter = tf.gather_nd(states[0], batter)\n",
    "        state_pitcher = tf.gather_nd(states[0], pitcher)\n",
    "        h = tf.concat((state_batter, state_pitcher), axis=0)\n",
    "        return tf.reshape(h, (-1, 1))\n",
    "    \n",
    "    def update_states(self, states, batter, pitcher, hp, h):\n",
    "        dh = hp - h\n",
    "        dh = tf.reshape(dh, (2, -1))\n",
    "        indices = tf.reshape([batter, pitcher], (2, 1))\n",
    "        states = states[0] + tf.scatter_nd(indices, dh, states[0].shape)\n",
    "        return states\n",
    "\n",
    "class AtBatRNN(RNN):\n",
    "    \n",
    "    def __init__(self, n_batters, n_pitchers, situation_size, states, \n",
    "                 return_sequences=True, return_state=False,\n",
    "                 stateful=True, unroll=False):\n",
    "        self.n_batters = n_batters\n",
    "        self.n_pitchers = n_pitchers\n",
    "        self.situation_size = situation_size\n",
    "        self.states = states\n",
    "        cell = AtBatCell(n_batters, n_pitchers, situation_size, states)\n",
    "        super(AtBatRNN, self).__init__(cell, \n",
    "            return_sequences=return_sequences, return_state=return_state,\n",
    "            stateful=stateful, unroll=unroll)\n",
    "        \n",
    "    def call(self, inputs, initial_state=None, constants=None):\n",
    "        return super(AtBatRNN, self).call(inputs, initial_state=initial_state, constants=constants)"
   ]
  },
  {
   "cell_type": "code",
   "execution_count": 10,
   "metadata": {},
   "outputs": [],
   "source": [
    "class PredictionLayer(tf.keras.layers.Layer):\n",
    "\n",
    "    def __init__(self, situation_size, states, classes):\n",
    "        super(PredictionLayer, self).__init__()\n",
    "        self.situation_size = situation_size\n",
    "        self.states = states\n",
    "        self.classes = classes\n",
    "\n",
    "    def build( self, input_shape ):\n",
    "        self.W = self.add_weight('input',\n",
    "                                   shape=[self.classes, self.situation_size])\n",
    "        self.U = self.add_weight('state',\n",
    "                                   shape=[self.classes, self.states*2])\n",
    "        self.b = self.add_weight('const',\n",
    "                                   shape=[self.classes, 1])\n",
    "        super(PredictionLayer, self).build(input_shape)\n",
    "\n",
    "    def call(self, inputs):\n",
    "        xp, states, bp, pp = inputs\n",
    "        xp = tf.expand_dims(xp, axis=-1)\n",
    "        hp = self.get_states(states, bp, pp)\n",
    "        return self.W @ xp + self.U @ hp + self.b\n",
    "\n",
    "    def get_states(self, states, batters, pitchers):\n",
    "        seq_len = batters.shape[1]\n",
    "        seq_len_range = tf.expand_dims(tf.range(seq_len, dtype=tf.int32), axis=1)\n",
    "        batter_indices = tf.concat((seq_len_range, batters[0]),\n",
    "                                   axis=1)\n",
    "        pitcher_indices = tf.concat((seq_len_range, pitchers[0]),\n",
    "                                    axis=1)\n",
    "        state_batters = tf.gather_nd(states[0], batter_indices)\n",
    "        state_pitchers = tf.gather_nd(states[0], pitcher_indices)\n",
    "        h = tf.concat((state_batters, state_pitchers), axis=1)\n",
    "        return tf.reshape(h, (seq_len, -1, 1))"
   ]
  },
  {
   "cell_type": "code",
   "execution_count": 11,
   "metadata": {},
   "outputs": [],
   "source": [
    "def build_model( n_batters, n_pitchers, situation_size, emb, states, classes, seq_len, state_model=False ):\n",
    "    \n",
    "    '''\n",
    "    This function builds the tensorflow model.\n",
    "    '''\n",
    "    b = Input(batch_shape=(1, seq_len, 1), dtype=tf.int32)\n",
    "    p = Input(batch_shape=(1, seq_len, 1), dtype=tf.int32)\n",
    "    sit = Input(batch_shape=(1, seq_len, situation_size))\n",
    "    event = Input(batch_shape=(1, seq_len), dtype=tf.int32)\n",
    "    pitch = Input(batch_shape=(1, seq_len, 3))\n",
    "\n",
    "    ev = Embedding(classes, emb)(event)\n",
    "    ev = Reshape((seq_len, emb))(ev)\n",
    "\n",
    "    x = concatenate([sit, ev, pitch], axis=-1)\n",
    "\n",
    "    if state_model:\n",
    "        sequences = False\n",
    "    else:\n",
    "        sequences = True\n",
    "    \n",
    "    h_p = AtBatRNN(n_batters, n_pitchers, situation_size+emb+3, states, return_sequences=sequences)(tuple([x, b, p]))\n",
    "\n",
    "    if state_model:\n",
    "        return Model(inputs=[b, p, sit, event, pitch],\n",
    "                     outputs=[h_p])\n",
    "    \n",
    "    b_p = Input(batch_shape=(1, seq_len, 1), dtype=tf.int32)\n",
    "    p_p = Input(batch_shape=(1, seq_len, 1), dtype=tf.int32)\n",
    "    sit_p = Input(batch_shape=(1, seq_len, situation_size))\n",
    "    \n",
    "    result = PredictionLayer(situation_size, states, classes)([sit_p, h_p, b_p, p_p])\n",
    "    \n",
    "    result = Reshape((seq_len, -1))(result)\n",
    "\n",
    "    result = Activation('softmax')(result)\n",
    "\n",
    "    pitch_count = PredictionLayer(situation_size, states, 3)([sit_p, h_p, b_p, p_p])\n",
    "    \n",
    "    model = Model(inputs=[b, p, sit, event, pitch, b_p, p_p, sit_p],\n",
    "                  outputs=[result, pitch_count])\n",
    "    \n",
    "    return model"
   ]
  },
  {
   "cell_type": "code",
   "execution_count": 12,
   "metadata": {},
   "outputs": [],
   "source": [
    "class PredictionLayerParallel(tf.keras.layers.Layer):\n",
    "\n",
    "    def __init__(self, situation_size, states, classes):\n",
    "        super(PredictionLayerParallel, self).__init__()\n",
    "        self.situation_size = situation_size\n",
    "        self.states = states\n",
    "        self.classes = classes\n",
    "\n",
    "    def build( self, input_shape ):\n",
    "        self.W = self.add_weight('input',\n",
    "                                   shape=[self.classes, self.situation_size])\n",
    "        self.U = self.add_weight('state',\n",
    "                                   shape=[self.classes, self.states*2])\n",
    "        self.b = self.add_weight('const',\n",
    "                                   shape=[self.classes, 1])\n",
    "        super(PredictionLayerParallel, self).build(input_shape)\n",
    "\n",
    "    def call(self, inputs):\n",
    "        xp, states, bp, pp = inputs\n",
    "        xp = tf.expand_dims(xp, axis=-1)\n",
    "        hp = self.get_states(states, bp, pp)\n",
    "        return self.W @ xp + self.U @ hp + self.b\n",
    "\n",
    "    def get_states(self, states, batters, pitchers):\n",
    "        seq_len = batters.shape[1]\n",
    "        seq_len_range = tf.expand_dims(tf.range(seq_len, dtype=tf.int32), axis=1)\n",
    "        batter_indices = tf.concat((seq_len_range, batters[0]),\n",
    "                                axis=1)\n",
    "        pitcher_indices = tf.concat((seq_len_range, pitchers[0]),\n",
    "                                    axis=1)\n",
    "        state_batters = []\n",
    "        state_pitchers = []\n",
    "        for state in states:\n",
    "            state_batters += [tf.gather_nd(state[0], batter_indices)]\n",
    "            state_pitchers += [tf.gather_nd(state[0], pitcher_indices)]\n",
    "        state_batters = tf.concat(state_batters, axis=-1)\n",
    "        state_pitchers = tf.concat(state_pitchers, axis=-1)\n",
    "        h = tf.concat((state_batters, state_pitchers), axis=1)\n",
    "        h = tf.reshape(h, (seq_len, -1, 1))\n",
    "        return h"
   ]
  },
  {
   "cell_type": "code",
   "execution_count": 13,
   "metadata": {},
   "outputs": [],
   "source": [
    "def build_model_parallel( n_batters, n_pitchers, situation_size, emb, states, classes, seq_len, parallel_rnns, state_model=False ):\n",
    "    \n",
    "    '''\n",
    "    This function builds the tensorflow model.\n",
    "    '''\n",
    "    b = Input(batch_shape=(1, seq_len, 1), dtype=tf.int32)\n",
    "    p = Input(batch_shape=(1, seq_len, 1), dtype=tf.int32)\n",
    "    sit = Input(batch_shape=(1, seq_len, situation_size))\n",
    "    event = Input(batch_shape=(1, seq_len), dtype=tf.int32)\n",
    "    pitch = Input(batch_shape=(1, seq_len, 3))\n",
    "\n",
    "    ev = Embedding(classes, emb)(event)\n",
    "    ev = Reshape((seq_len, emb))(ev)\n",
    "\n",
    "    x = concatenate([sit, ev, pitch], axis=-1)\n",
    "\n",
    "    if state_model:\n",
    "        sequences = False\n",
    "    else:\n",
    "        sequences = True\n",
    "    \n",
    "    h_p = []\n",
    "    for i in range(parallel_rnns):\n",
    "        h_p += [AtBatRNN(n_batters, n_pitchers, situation_size+emb+3, states, return_sequences=sequences)(tuple([x, b, p]))]\n",
    "\n",
    "    if state_model:\n",
    "        return Model(inputs=[b, p, sit, event, pitch],\n",
    "                     outputs=h_p)\n",
    "\n",
    "    b_p = Input(batch_shape=(1, seq_len, 1), dtype=tf.int32)\n",
    "    p_p = Input(batch_shape=(1, seq_len, 1), dtype=tf.int32)\n",
    "    sit_p = Input(batch_shape=(1, seq_len, situation_size))\n",
    "    \n",
    "    result = PredictionLayerParallel(situation_size, states*parallel_rnns, classes)([sit_p, h_p, b_p, p_p])\n",
    "    \n",
    "    result = Reshape((seq_len, -1))(result)\n",
    "\n",
    "    result = Activation('softmax')(result)\n",
    "\n",
    "    pitch_count = PredictionLayerParallel(situation_size, states*parallel_rnns, 3)([sit_p, h_p, b_p, p_p])\n",
    "    \n",
    "    model = Model(inputs=[b, p, sit, event, pitch, b_p, p_p, sit_p],\n",
    "                  outputs=[result, pitch_count])\n",
    "    \n",
    "    return model"
   ]
  },
  {
   "cell_type": "code",
   "execution_count": 14,
   "metadata": {},
   "outputs": [],
   "source": [
    "train = range(2*840000)\n",
    "test = range(2*839995, len(df))"
   ]
  },
  {
   "cell_type": "code",
   "execution_count": 15,
   "metadata": {},
   "outputs": [
    {
     "output_type": "execute_result",
     "data": {
      "text/plain": "range(0, 1680000)"
     },
     "metadata": {},
     "execution_count": 15
    }
   ],
   "source": [
    "train"
   ]
  },
  {
   "cell_type": "code",
   "execution_count": 16,
   "metadata": {},
   "outputs": [],
   "source": [
    "seq_len = 8000"
   ]
  },
  {
   "cell_type": "code",
   "execution_count": 17,
   "metadata": {},
   "outputs": [],
   "source": [
    "seq_start = [len(train)%seq_len + seq_len*i for i in range(len(train)//seq_len)]\n",
    "time_series = [range(start, start+seq_len) for start in seq_start]\n",
    "time_series_plus = [range(start+1, start+1+seq_len) for start in seq_start]\n",
    "seq_start_test = [test[0] + seq_len*i for i in range(len(test)//seq_len)]\n",
    "time_series_test = [range(start, start+seq_len) for start in seq_start_test]\n",
    "time_series_plus_test = [range(start+1, start+1+seq_len) for start in seq_start_test]\n",
    "# time_series_test = [range(len(test))]\n",
    "# time_series_plus_test = [range(1,len(test)+1)]"
   ]
  },
  {
   "cell_type": "code",
   "execution_count": 18,
   "metadata": {},
   "outputs": [],
   "source": [
    "def convert_to_time_series(tensor, time_series_list):\n",
    "    tensor_list = []\n",
    "    for r in time_series_list:\n",
    "        tensor_list += [tensor[r]]\n",
    "    return np.stack(tensor_list)"
   ]
  },
  {
   "cell_type": "code",
   "execution_count": 19,
   "metadata": {},
   "outputs": [],
   "source": [
    "batter_ex = np.expand_dims(batter, axis=1).astype(np.int32)\n",
    "pitcher_ex = np.expand_dims(pitcher + np.unique(batter).shape[0], axis=1).astype(np.int32)"
   ]
  },
  {
   "cell_type": "code",
   "execution_count": 20,
   "metadata": {},
   "outputs": [],
   "source": [
    "situation_batched = convert_to_time_series(situation, time_series)\n",
    "batters_batched = convert_to_time_series(batter_ex, time_series)\n",
    "pitchers_batched = convert_to_time_series(pitcher_ex, time_series)\n",
    "situation_batched_plus = convert_to_time_series(situation, time_series_plus)\n",
    "batters_batched_plus = convert_to_time_series(batter_ex, time_series_plus)\n",
    "pitchers_batched_plus = convert_to_time_series(pitcher_ex, time_series_plus)"
   ]
  },
  {
   "cell_type": "code",
   "execution_count": 21,
   "metadata": {},
   "outputs": [],
   "source": [
    "pitch_count = np.concatenate(\n",
    "    (np.expand_dims(balls, axis=1), np.expand_dims(strikes, axis=1), np.expand_dims(fouls, axis=1)), axis=1\n",
    ")"
   ]
  },
  {
   "cell_type": "code",
   "execution_count": 22,
   "metadata": {},
   "outputs": [],
   "source": [
    "pitch_count_batched = convert_to_time_series(pitch_count, time_series)\n",
    "outcome_batched = convert_to_time_series(outcome, time_series)\n",
    "pitch_count_batched_plus = convert_to_time_series(pitch_count, time_series_plus)\n",
    "outcome_onehot_batched_plus = convert_to_time_series(outcome_onehot, time_series_plus)"
   ]
  },
  {
   "cell_type": "code",
   "execution_count": 23,
   "metadata": {},
   "outputs": [],
   "source": [
    "situation_batched_test = convert_to_time_series(situation, time_series_test)\n",
    "batters_batched_test = convert_to_time_series(batter_ex, time_series_test)\n",
    "pitchers_batched_test = convert_to_time_series(pitcher_ex, time_series_test)\n",
    "situation_batched_plus_test = convert_to_time_series(situation, time_series_plus_test)\n",
    "batters_batched_plus_test = convert_to_time_series(batter_ex, time_series_plus_test)\n",
    "pitchers_batched_plus_test = convert_to_time_series(pitcher_ex, time_series_plus_test)"
   ]
  },
  {
   "cell_type": "code",
   "execution_count": 24,
   "metadata": {},
   "outputs": [],
   "source": [
    "pitch_count_batched_test = convert_to_time_series(pitch_count, time_series_test)\n",
    "outcome_batched_test = convert_to_time_series(outcome, time_series_test)\n",
    "pitch_count_batched_plus_test = convert_to_time_series(pitch_count, time_series_plus_test)\n",
    "outcome_onehot_batched_plus_test = convert_to_time_series(outcome_onehot, time_series_plus_test)"
   ]
  },
  {
   "cell_type": "code",
   "execution_count": 25,
   "metadata": {},
   "outputs": [],
   "source": [
    "n_batters = np.unique(batter).shape[0]\n",
    "n_pitchers = np.unique(pitcher).shape[0]\n",
    "situation_size = situation.shape[1]\n",
    "states = 10\n",
    "embedding_dim = 12\n",
    "parallel_rnns = 2\n",
    "classes = outcome_onehot.shape[1]"
   ]
  },
  {
   "cell_type": "code",
   "execution_count": 144,
   "metadata": {},
   "outputs": [],
   "source": [
    "model = build_model( n_batters, n_pitchers, situation_size, embedding_dim, states, classes, seq_len )"
   ]
  },
  {
   "cell_type": "code",
   "execution_count": 26,
   "metadata": {
    "tags": []
   },
   "outputs": [],
   "source": [
    "model = build_model_parallel( n_batters, n_pitchers, situation_size, embedding_dim, states, classes, seq_len, parallel_rnns )"
   ]
  },
  {
   "cell_type": "code",
   "execution_count": 27,
   "metadata": {},
   "outputs": [],
   "source": [
    "def compile_model(model, LR):\n",
    "    adam = tf.keras.optimizers.Adam(lr=LR)\n",
    "    sgd = tf.keras.optimizers.SGD(lr=LR)\n",
    "    model.compile(\n",
    "        optimizer=sgd,\n",
    "        loss=['categorical_crossentropy', 'mean_squared_error'],\n",
    "        metrics=['accuracy'])\n",
    "    return model"
   ]
  },
  {
   "cell_type": "code",
   "execution_count": 35,
   "metadata": {
    "tags": []
   },
   "outputs": [
    {
     "output_type": "execute_result",
     "data": {
      "text/plain": "<tensorflow.python.training.tracking.util.CheckpointLoadStatus at 0x1e0552d9b08>"
     },
     "metadata": {},
     "execution_count": 35
    }
   ],
   "source": [
    "model.load_weights('..\\\\models\\\\prediction_model_v2_69')"
   ]
  },
  {
   "cell_type": "code",
   "execution_count": 36,
   "metadata": {},
   "outputs": [],
   "source": [
    "model = compile_model(model, 1e-3)"
   ]
  },
  {
   "cell_type": "code",
   "execution_count": 37,
   "metadata": {
    "tags": []
   },
   "outputs": [
    {
     "output_type": "stream",
     "name": "stdout",
     "text": "epoch: 1\n168/168 [==============================] - 5671s 34s/step - loss: 4.0803 - activation_loss: 3.3351 - prediction_layer_1_loss: 0.7452 - activation_accuracy: 0.1592 - prediction_layer_1_accuracy: 0.4682\nepoch: 2\n168/168 [==============================] - 5729s 34s/step - loss: 4.0788 - activation_loss: 3.3338 - prediction_layer_1_loss: 0.7450 - activation_accuracy: 0.1595 - prediction_layer_1_accuracy: 0.4682\nepoch: 3\n168/168 [==============================] - 5882s 35s/step - loss: 4.0781 - activation_loss: 3.3331 - prediction_layer_1_loss: 0.7450 - activation_accuracy: 0.1594 - prediction_layer_1_accuracy: 0.4682\nepoch: 4\n168/168 [==============================] - 5612s 33s/step - loss: 4.0777 - activation_loss: 3.3327 - prediction_layer_1_loss: 0.7450 - activation_accuracy: 0.1596 - prediction_layer_1_accuracy: 0.4682\nepoch: 5\n 14/168 [=>............................] - ETA: 1:25:43 - loss: 4.1149 - activation_loss: 3.3630 - prediction_layer_1_loss: 0.7520 - activation_accuracy: 0.1592 - prediction_layer_1_accuracy: 0.4675"
    },
    {
     "output_type": "error",
     "ename": "ResourceExhaustedError",
     "evalue": " OOM when allocating tensor with shape[1,10000,4939,12] and type float on /job:localhost/replica:0/task:0/device:CPU:0 by allocator cpu\n\t [[node gradient_tape/model/prediction_layer/strided_slice_2/StridedSliceGrad (defined at <ipython-input-37-d1eed5f6a961>:10) ]]\nHint: If you want to see a list of allocated tensors when OOM happens, add report_tensor_allocations_upon_oom to RunOptions for current allocation info.\n [Op:__inference_train_function_3715]\n\nFunction call stack:\ntrain_function\n",
     "traceback": [
      "\u001b[1;31m---------------------------------------------------------------------------\u001b[0m",
      "\u001b[1;31mResourceExhaustedError\u001b[0m                    Traceback (most recent call last)",
      "\u001b[1;32m<ipython-input-37-d1eed5f6a961>\u001b[0m in \u001b[0;36m<module>\u001b[1;34m\u001b[0m\n\u001b[0;32m      8\u001b[0m               \u001b[0mbatch_size\u001b[0m\u001b[1;33m=\u001b[0m\u001b[1;36m1\u001b[0m\u001b[1;33m,\u001b[0m\u001b[1;33m\u001b[0m\u001b[1;33m\u001b[0m\u001b[0m\n\u001b[0;32m      9\u001b[0m               \u001b[0mepochs\u001b[0m\u001b[1;33m=\u001b[0m\u001b[1;36m1\u001b[0m\u001b[1;33m,\u001b[0m\u001b[1;33m\u001b[0m\u001b[1;33m\u001b[0m\u001b[0m\n\u001b[1;32m---> 10\u001b[1;33m               verbose=1)\n\u001b[0m\u001b[0;32m     11\u001b[0m     \u001b[0mmodel\u001b[0m\u001b[1;33m.\u001b[0m\u001b[0msave_weights\u001b[0m\u001b[1;33m(\u001b[0m\u001b[0mmodel_name\u001b[0m \u001b[1;33m+\u001b[0m \u001b[1;34m'_'\u001b[0m \u001b[1;33m+\u001b[0m \u001b[0mstr\u001b[0m\u001b[1;33m(\u001b[0m\u001b[0mi\u001b[0m\u001b[1;33m+\u001b[0m\u001b[1;36m1\u001b[0m\u001b[1;33m)\u001b[0m\u001b[1;33m)\u001b[0m\u001b[1;33m\u001b[0m\u001b[1;33m\u001b[0m\u001b[0m\n",
      "\u001b[1;32m~\\Anaconda3\\envs\\mlb_model\\lib\\site-packages\\tensorflow\\python\\keras\\engine\\training.py\u001b[0m in \u001b[0;36m_method_wrapper\u001b[1;34m(self, *args, **kwargs)\u001b[0m\n\u001b[0;32m     64\u001b[0m   \u001b[1;32mdef\u001b[0m \u001b[0m_method_wrapper\u001b[0m\u001b[1;33m(\u001b[0m\u001b[0mself\u001b[0m\u001b[1;33m,\u001b[0m \u001b[1;33m*\u001b[0m\u001b[0margs\u001b[0m\u001b[1;33m,\u001b[0m \u001b[1;33m**\u001b[0m\u001b[0mkwargs\u001b[0m\u001b[1;33m)\u001b[0m\u001b[1;33m:\u001b[0m\u001b[1;33m\u001b[0m\u001b[1;33m\u001b[0m\u001b[0m\n\u001b[0;32m     65\u001b[0m     \u001b[1;32mif\u001b[0m \u001b[1;32mnot\u001b[0m \u001b[0mself\u001b[0m\u001b[1;33m.\u001b[0m\u001b[0m_in_multi_worker_mode\u001b[0m\u001b[1;33m(\u001b[0m\u001b[1;33m)\u001b[0m\u001b[1;33m:\u001b[0m  \u001b[1;31m# pylint: disable=protected-access\u001b[0m\u001b[1;33m\u001b[0m\u001b[1;33m\u001b[0m\u001b[0m\n\u001b[1;32m---> 66\u001b[1;33m       \u001b[1;32mreturn\u001b[0m \u001b[0mmethod\u001b[0m\u001b[1;33m(\u001b[0m\u001b[0mself\u001b[0m\u001b[1;33m,\u001b[0m \u001b[1;33m*\u001b[0m\u001b[0margs\u001b[0m\u001b[1;33m,\u001b[0m \u001b[1;33m**\u001b[0m\u001b[0mkwargs\u001b[0m\u001b[1;33m)\u001b[0m\u001b[1;33m\u001b[0m\u001b[1;33m\u001b[0m\u001b[0m\n\u001b[0m\u001b[0;32m     67\u001b[0m \u001b[1;33m\u001b[0m\u001b[0m\n\u001b[0;32m     68\u001b[0m     \u001b[1;31m# Running inside `run_distribute_coordinator` already.\u001b[0m\u001b[1;33m\u001b[0m\u001b[1;33m\u001b[0m\u001b[1;33m\u001b[0m\u001b[0m\n",
      "\u001b[1;32m~\\Anaconda3\\envs\\mlb_model\\lib\\site-packages\\tensorflow\\python\\keras\\engine\\training.py\u001b[0m in \u001b[0;36mfit\u001b[1;34m(self, x, y, batch_size, epochs, verbose, callbacks, validation_split, validation_data, shuffle, class_weight, sample_weight, initial_epoch, steps_per_epoch, validation_steps, validation_batch_size, validation_freq, max_queue_size, workers, use_multiprocessing)\u001b[0m\n\u001b[0;32m    846\u001b[0m                 batch_size=batch_size):\n\u001b[0;32m    847\u001b[0m               \u001b[0mcallbacks\u001b[0m\u001b[1;33m.\u001b[0m\u001b[0mon_train_batch_begin\u001b[0m\u001b[1;33m(\u001b[0m\u001b[0mstep\u001b[0m\u001b[1;33m)\u001b[0m\u001b[1;33m\u001b[0m\u001b[1;33m\u001b[0m\u001b[0m\n\u001b[1;32m--> 848\u001b[1;33m               \u001b[0mtmp_logs\u001b[0m \u001b[1;33m=\u001b[0m \u001b[0mtrain_function\u001b[0m\u001b[1;33m(\u001b[0m\u001b[0miterator\u001b[0m\u001b[1;33m)\u001b[0m\u001b[1;33m\u001b[0m\u001b[1;33m\u001b[0m\u001b[0m\n\u001b[0m\u001b[0;32m    849\u001b[0m               \u001b[1;31m# Catch OutOfRangeError for Datasets of unknown size.\u001b[0m\u001b[1;33m\u001b[0m\u001b[1;33m\u001b[0m\u001b[1;33m\u001b[0m\u001b[0m\n\u001b[0;32m    850\u001b[0m               \u001b[1;31m# This blocks until the batch has finished executing.\u001b[0m\u001b[1;33m\u001b[0m\u001b[1;33m\u001b[0m\u001b[1;33m\u001b[0m\u001b[0m\n",
      "\u001b[1;32m~\\Anaconda3\\envs\\mlb_model\\lib\\site-packages\\tensorflow\\python\\eager\\def_function.py\u001b[0m in \u001b[0;36m__call__\u001b[1;34m(self, *args, **kwds)\u001b[0m\n\u001b[0;32m    578\u001b[0m         \u001b[0mxla_context\u001b[0m\u001b[1;33m.\u001b[0m\u001b[0mExit\u001b[0m\u001b[1;33m(\u001b[0m\u001b[1;33m)\u001b[0m\u001b[1;33m\u001b[0m\u001b[1;33m\u001b[0m\u001b[0m\n\u001b[0;32m    579\u001b[0m     \u001b[1;32melse\u001b[0m\u001b[1;33m:\u001b[0m\u001b[1;33m\u001b[0m\u001b[1;33m\u001b[0m\u001b[0m\n\u001b[1;32m--> 580\u001b[1;33m       \u001b[0mresult\u001b[0m \u001b[1;33m=\u001b[0m \u001b[0mself\u001b[0m\u001b[1;33m.\u001b[0m\u001b[0m_call\u001b[0m\u001b[1;33m(\u001b[0m\u001b[1;33m*\u001b[0m\u001b[0margs\u001b[0m\u001b[1;33m,\u001b[0m \u001b[1;33m**\u001b[0m\u001b[0mkwds\u001b[0m\u001b[1;33m)\u001b[0m\u001b[1;33m\u001b[0m\u001b[1;33m\u001b[0m\u001b[0m\n\u001b[0m\u001b[0;32m    581\u001b[0m \u001b[1;33m\u001b[0m\u001b[0m\n\u001b[0;32m    582\u001b[0m     \u001b[1;32mif\u001b[0m \u001b[0mtracing_count\u001b[0m \u001b[1;33m==\u001b[0m \u001b[0mself\u001b[0m\u001b[1;33m.\u001b[0m\u001b[0m_get_tracing_count\u001b[0m\u001b[1;33m(\u001b[0m\u001b[1;33m)\u001b[0m\u001b[1;33m:\u001b[0m\u001b[1;33m\u001b[0m\u001b[1;33m\u001b[0m\u001b[0m\n",
      "\u001b[1;32m~\\Anaconda3\\envs\\mlb_model\\lib\\site-packages\\tensorflow\\python\\eager\\def_function.py\u001b[0m in \u001b[0;36m_call\u001b[1;34m(self, *args, **kwds)\u001b[0m\n\u001b[0;32m    609\u001b[0m       \u001b[1;31m# In this case we have created variables on the first call, so we run the\u001b[0m\u001b[1;33m\u001b[0m\u001b[1;33m\u001b[0m\u001b[1;33m\u001b[0m\u001b[0m\n\u001b[0;32m    610\u001b[0m       \u001b[1;31m# defunned version which is guaranteed to never create variables.\u001b[0m\u001b[1;33m\u001b[0m\u001b[1;33m\u001b[0m\u001b[1;33m\u001b[0m\u001b[0m\n\u001b[1;32m--> 611\u001b[1;33m       \u001b[1;32mreturn\u001b[0m \u001b[0mself\u001b[0m\u001b[1;33m.\u001b[0m\u001b[0m_stateless_fn\u001b[0m\u001b[1;33m(\u001b[0m\u001b[1;33m*\u001b[0m\u001b[0margs\u001b[0m\u001b[1;33m,\u001b[0m \u001b[1;33m**\u001b[0m\u001b[0mkwds\u001b[0m\u001b[1;33m)\u001b[0m  \u001b[1;31m# pylint: disable=not-callable\u001b[0m\u001b[1;33m\u001b[0m\u001b[1;33m\u001b[0m\u001b[0m\n\u001b[0m\u001b[0;32m    612\u001b[0m     \u001b[1;32melif\u001b[0m \u001b[0mself\u001b[0m\u001b[1;33m.\u001b[0m\u001b[0m_stateful_fn\u001b[0m \u001b[1;32mis\u001b[0m \u001b[1;32mnot\u001b[0m \u001b[1;32mNone\u001b[0m\u001b[1;33m:\u001b[0m\u001b[1;33m\u001b[0m\u001b[1;33m\u001b[0m\u001b[0m\n\u001b[0;32m    613\u001b[0m       \u001b[1;31m# Release the lock early so that multiple threads can perform the call\u001b[0m\u001b[1;33m\u001b[0m\u001b[1;33m\u001b[0m\u001b[1;33m\u001b[0m\u001b[0m\n",
      "\u001b[1;32m~\\Anaconda3\\envs\\mlb_model\\lib\\site-packages\\tensorflow\\python\\eager\\function.py\u001b[0m in \u001b[0;36m__call__\u001b[1;34m(self, *args, **kwargs)\u001b[0m\n\u001b[0;32m   2418\u001b[0m     \u001b[1;32mwith\u001b[0m \u001b[0mself\u001b[0m\u001b[1;33m.\u001b[0m\u001b[0m_lock\u001b[0m\u001b[1;33m:\u001b[0m\u001b[1;33m\u001b[0m\u001b[1;33m\u001b[0m\u001b[0m\n\u001b[0;32m   2419\u001b[0m       \u001b[0mgraph_function\u001b[0m\u001b[1;33m,\u001b[0m \u001b[0margs\u001b[0m\u001b[1;33m,\u001b[0m \u001b[0mkwargs\u001b[0m \u001b[1;33m=\u001b[0m \u001b[0mself\u001b[0m\u001b[1;33m.\u001b[0m\u001b[0m_maybe_define_function\u001b[0m\u001b[1;33m(\u001b[0m\u001b[0margs\u001b[0m\u001b[1;33m,\u001b[0m \u001b[0mkwargs\u001b[0m\u001b[1;33m)\u001b[0m\u001b[1;33m\u001b[0m\u001b[1;33m\u001b[0m\u001b[0m\n\u001b[1;32m-> 2420\u001b[1;33m     \u001b[1;32mreturn\u001b[0m \u001b[0mgraph_function\u001b[0m\u001b[1;33m.\u001b[0m\u001b[0m_filtered_call\u001b[0m\u001b[1;33m(\u001b[0m\u001b[0margs\u001b[0m\u001b[1;33m,\u001b[0m \u001b[0mkwargs\u001b[0m\u001b[1;33m)\u001b[0m  \u001b[1;31m# pylint: disable=protected-access\u001b[0m\u001b[1;33m\u001b[0m\u001b[1;33m\u001b[0m\u001b[0m\n\u001b[0m\u001b[0;32m   2421\u001b[0m \u001b[1;33m\u001b[0m\u001b[0m\n\u001b[0;32m   2422\u001b[0m   \u001b[1;33m@\u001b[0m\u001b[0mproperty\u001b[0m\u001b[1;33m\u001b[0m\u001b[1;33m\u001b[0m\u001b[0m\n",
      "\u001b[1;32m~\\Anaconda3\\envs\\mlb_model\\lib\\site-packages\\tensorflow\\python\\eager\\function.py\u001b[0m in \u001b[0;36m_filtered_call\u001b[1;34m(self, args, kwargs)\u001b[0m\n\u001b[0;32m   1663\u001b[0m          if isinstance(t, (ops.Tensor,\n\u001b[0;32m   1664\u001b[0m                            resource_variable_ops.BaseResourceVariable))),\n\u001b[1;32m-> 1665\u001b[1;33m         self.captured_inputs)\n\u001b[0m\u001b[0;32m   1666\u001b[0m \u001b[1;33m\u001b[0m\u001b[0m\n\u001b[0;32m   1667\u001b[0m   \u001b[1;32mdef\u001b[0m \u001b[0m_call_flat\u001b[0m\u001b[1;33m(\u001b[0m\u001b[0mself\u001b[0m\u001b[1;33m,\u001b[0m \u001b[0margs\u001b[0m\u001b[1;33m,\u001b[0m \u001b[0mcaptured_inputs\u001b[0m\u001b[1;33m,\u001b[0m \u001b[0mcancellation_manager\u001b[0m\u001b[1;33m=\u001b[0m\u001b[1;32mNone\u001b[0m\u001b[1;33m)\u001b[0m\u001b[1;33m:\u001b[0m\u001b[1;33m\u001b[0m\u001b[1;33m\u001b[0m\u001b[0m\n",
      "\u001b[1;32m~\\Anaconda3\\envs\\mlb_model\\lib\\site-packages\\tensorflow\\python\\eager\\function.py\u001b[0m in \u001b[0;36m_call_flat\u001b[1;34m(self, args, captured_inputs, cancellation_manager)\u001b[0m\n\u001b[0;32m   1744\u001b[0m       \u001b[1;31m# No tape is watching; skip to running the function.\u001b[0m\u001b[1;33m\u001b[0m\u001b[1;33m\u001b[0m\u001b[1;33m\u001b[0m\u001b[0m\n\u001b[0;32m   1745\u001b[0m       return self._build_call_outputs(self._inference_function.call(\n\u001b[1;32m-> 1746\u001b[1;33m           ctx, args, cancellation_manager=cancellation_manager))\n\u001b[0m\u001b[0;32m   1747\u001b[0m     forward_backward = self._select_forward_and_backward_functions(\n\u001b[0;32m   1748\u001b[0m         \u001b[0margs\u001b[0m\u001b[1;33m,\u001b[0m\u001b[1;33m\u001b[0m\u001b[1;33m\u001b[0m\u001b[0m\n",
      "\u001b[1;32m~\\Anaconda3\\envs\\mlb_model\\lib\\site-packages\\tensorflow\\python\\eager\\function.py\u001b[0m in \u001b[0;36mcall\u001b[1;34m(self, ctx, args, cancellation_manager)\u001b[0m\n\u001b[0;32m    596\u001b[0m               \u001b[0minputs\u001b[0m\u001b[1;33m=\u001b[0m\u001b[0margs\u001b[0m\u001b[1;33m,\u001b[0m\u001b[1;33m\u001b[0m\u001b[1;33m\u001b[0m\u001b[0m\n\u001b[0;32m    597\u001b[0m               \u001b[0mattrs\u001b[0m\u001b[1;33m=\u001b[0m\u001b[0mattrs\u001b[0m\u001b[1;33m,\u001b[0m\u001b[1;33m\u001b[0m\u001b[1;33m\u001b[0m\u001b[0m\n\u001b[1;32m--> 598\u001b[1;33m               ctx=ctx)\n\u001b[0m\u001b[0;32m    599\u001b[0m         \u001b[1;32melse\u001b[0m\u001b[1;33m:\u001b[0m\u001b[1;33m\u001b[0m\u001b[1;33m\u001b[0m\u001b[0m\n\u001b[0;32m    600\u001b[0m           outputs = execute.execute_with_cancellation(\n",
      "\u001b[1;32m~\\Anaconda3\\envs\\mlb_model\\lib\\site-packages\\tensorflow\\python\\eager\\execute.py\u001b[0m in \u001b[0;36mquick_execute\u001b[1;34m(op_name, num_outputs, inputs, attrs, ctx, name)\u001b[0m\n\u001b[0;32m     58\u001b[0m     \u001b[0mctx\u001b[0m\u001b[1;33m.\u001b[0m\u001b[0mensure_initialized\u001b[0m\u001b[1;33m(\u001b[0m\u001b[1;33m)\u001b[0m\u001b[1;33m\u001b[0m\u001b[1;33m\u001b[0m\u001b[0m\n\u001b[0;32m     59\u001b[0m     tensors = pywrap_tfe.TFE_Py_Execute(ctx._handle, device_name, op_name,\n\u001b[1;32m---> 60\u001b[1;33m                                         inputs, attrs, num_outputs)\n\u001b[0m\u001b[0;32m     61\u001b[0m   \u001b[1;32mexcept\u001b[0m \u001b[0mcore\u001b[0m\u001b[1;33m.\u001b[0m\u001b[0m_NotOkStatusException\u001b[0m \u001b[1;32mas\u001b[0m \u001b[0me\u001b[0m\u001b[1;33m:\u001b[0m\u001b[1;33m\u001b[0m\u001b[1;33m\u001b[0m\u001b[0m\n\u001b[0;32m     62\u001b[0m     \u001b[1;32mif\u001b[0m \u001b[0mname\u001b[0m \u001b[1;32mis\u001b[0m \u001b[1;32mnot\u001b[0m \u001b[1;32mNone\u001b[0m\u001b[1;33m:\u001b[0m\u001b[1;33m\u001b[0m\u001b[1;33m\u001b[0m\u001b[0m\n",
      "\u001b[1;31mResourceExhaustedError\u001b[0m:  OOM when allocating tensor with shape[1,10000,4939,12] and type float on /job:localhost/replica:0/task:0/device:CPU:0 by allocator cpu\n\t [[node gradient_tape/model/prediction_layer/strided_slice_2/StridedSliceGrad (defined at <ipython-input-37-d1eed5f6a961>:10) ]]\nHint: If you want to see a list of allocated tensors when OOM happens, add report_tensor_allocations_upon_oom to RunOptions for current allocation info.\n [Op:__inference_train_function_3715]\n\nFunction call stack:\ntrain_function\n"
     ]
    }
   ],
   "source": [
    "model_name = '..\\\\models\\\\prediction_model_v2'\n",
    "for i in range(200):\n",
    "    print('epoch: '+str(i+1))\n",
    "    model.reset_states()\n",
    "    model.fit(x=[batters_batched, pitchers_batched, situation_batched, outcome_batched, pitch_count_batched,\n",
    "                 batters_batched_plus, pitchers_batched_plus, situation_batched_plus],\n",
    "              y=[outcome_onehot_batched_plus, pitch_count_batched_plus], \n",
    "              batch_size=1,\n",
    "              epochs=1,\n",
    "              verbose=1)\n",
    "    model.save_weights(model_name + '_' + str(i+1))"
   ]
  },
  {
   "cell_type": "code",
   "execution_count": 38,
   "metadata": {},
   "outputs": [],
   "source": [
    "model.save_weights('..\\\\models\\\\prediction_model_v2')"
   ]
  },
  {
   "cell_type": "code",
   "execution_count": 39,
   "metadata": {
    "tags": []
   },
   "outputs": [
    {
     "output_type": "stream",
     "name": "stdout",
     "text": "Model: \"model\"\n__________________________________________________________________________________________________\nLayer (type)                    Output Shape         Param #     Connected to                     \n==================================================================================================\ninput_4 (InputLayer)            [(1, 10000)]         0                                            \n__________________________________________________________________________________________________\nembedding (Embedding)           (1, 10000, 6)        678         input_4[0][0]                    \n__________________________________________________________________________________________________\ninput_3 (InputLayer)            [(1, 10000, 8)]      0                                            \n__________________________________________________________________________________________________\nreshape (Reshape)               (1, 10000, 6)        0           embedding[0][0]                  \n__________________________________________________________________________________________________\ninput_5 (InputLayer)            [(1, 10000, 3)]      0                                            \n__________________________________________________________________________________________________\nconcatenate (Concatenate)       (1, 10000, 17)       0           input_3[0][0]                    \n                                                                 reshape[0][0]                    \n                                                                 input_5[0][0]                    \n__________________________________________________________________________________________________\ninput_1 (InputLayer)            [(1, 10000, 1)]      0                                            \n__________________________________________________________________________________________________\ninput_2 (InputLayer)            [(1, 10000, 1)]      0                                            \n__________________________________________________________________________________________________\ninput_8 (InputLayer)            [(1, 10000, 8)]      0                                            \n__________________________________________________________________________________________________\nat_bat_rnn (AtBatRNN)           (1, 10000, 4939, 12) 3024        concatenate[0][0]                \n                                                                 input_1[0][0]                    \n                                                                 input_2[0][0]                    \n__________________________________________________________________________________________________\ninput_6 (InputLayer)            [(1, 10000, 1)]      0                                            \n__________________________________________________________________________________________________\ninput_7 (InputLayer)            [(1, 10000, 1)]      0                                            \n__________________________________________________________________________________________________\nprediction_layer (PredictionLay (1, 10000, 113, 1)   3729        input_8[0][0]                    \n                                                                 at_bat_rnn[0][0]                 \n                                                                 input_6[0][0]                    \n                                                                 input_7[0][0]                    \n__________________________________________________________________________________________________\nreshape_1 (Reshape)             (1, 10000, 113)      0           prediction_layer[0][0]           \n__________________________________________________________________________________________________\nactivation (Activation)         (1, 10000, 113)      0           reshape_1[0][0]                  \n__________________________________________________________________________________________________\nprediction_layer_1 (PredictionL (1, 10000, 3, 1)     99          input_8[0][0]                    \n                                                                 at_bat_rnn[0][0]                 \n                                                                 input_6[0][0]                    \n                                                                 input_7[0][0]                    \n==================================================================================================\nTotal params: 7,530\nTrainable params: 7,530\nNon-trainable params: 0\n__________________________________________________________________________________________________\n"
    }
   ],
   "source": [
    "model.summary()"
   ]
  },
  {
   "cell_type": "code",
   "execution_count": 45,
   "metadata": {
    "tags": []
   },
   "outputs": [
    {
     "output_type": "stream",
     "name": "stdout",
     "text": "WARNING:tensorflow:Inconsistent references when loading the checkpoint into this object graph. Either the Trackable object references in the Python program have changed in an incompatible way, or the checkpoint was generated in an incompatible program.\n\nTwo checkpoint references resolved to different objects (<__main__.AtBatRNN object at 0x000002D464E423C8> and <__main__.AtBatRNN object at 0x000002D463CBF688>).\n"
    },
    {
     "output_type": "execute_result",
     "data": {
      "text/plain": "<tensorflow.python.training.tracking.util.CheckpointLoadStatus at 0x2d4cb2d3d48>"
     },
     "metadata": {},
     "execution_count": 45
    }
   ],
   "source": [
    "state_model = build_model_parallel( n_batters, n_pitchers, situation_size, embedding_dim, states, classes, seq_len, parallel_rnns, True )\n",
    "state_model2 = build_model_parallel( n_batters, n_pitchers, situation_size, embedding_dim, states, classes, seq_len, parallel_rnns)\n",
    "state_model.load_weights('..\\\\models\\\\prediction_model_v4_51')\n",
    "state_model2.load_weights('..\\\\models\\\\prediction_model_v4_51')"
   ]
  },
  {
   "cell_type": "code",
   "execution_count": 26,
   "metadata": {
    "tags": []
   },
   "outputs": [
    {
     "output_type": "execute_result",
     "data": {
      "text/plain": "<tensorflow.python.training.tracking.util.CheckpointLoadStatus at 0x2748b26b648>"
     },
     "metadata": {},
     "execution_count": 26
    }
   ],
   "source": [
    "state_model = build_model( n_batters, n_pitchers, situation_size, embedding_dim, states, classes, seq_len, True )\n",
    "state_model.load_weights('..\\\\models\\\\prediction_model_v2_4')"
   ]
  },
  {
   "cell_type": "code",
   "execution_count": 46,
   "metadata": {},
   "outputs": [
    {
     "output_type": "execute_result",
     "data": {
      "text/plain": "(210, 8000, 1)"
     },
     "metadata": {},
     "execution_count": 46
    }
   ],
   "source": [
    "batters_batched.shape"
   ]
  },
  {
   "cell_type": "code",
   "execution_count": 47,
   "metadata": {
    "tags": []
   },
   "outputs": [
    {
     "output_type": "stream",
     "name": "stdout",
     "text": "160\n161\n[0. 0. 0. 0. 0. 0. 0. 0. 0. 0.]\n[-0.996306   -0.02258144 -0.99999934 -0.76673555  0.00505257  0.1332661\n  0.7818012   0.6566525   0.21312894 -0.35587108]\n[-0.996306   -0.02258144 -0.99999934 -0.76673555  0.00505257  0.1332661\n  0.7818012   0.6566525   0.21312894 -0.35587108]\n161\n162\n[-0.996306   -0.02258144 -0.99999934 -0.76673555  0.00505257  0.1332661\n  0.7818012   0.6566525   0.21312894 -0.35587108]\n[-0.99747384 -0.01454293 -0.99996287 -0.88742435  0.00499301 -0.0544954\n  0.7845624   0.8140287   0.15185441 -0.36102653]\n[-0.99747384 -0.01454293 -0.99996287 -0.88742435  0.00499301 -0.0544954\n  0.7845624   0.8140287   0.15185441 -0.36102653]\n162\n163\n[-0.99747384 -0.01454293 -0.99996287 -0.88742435  0.00499301 -0.0544954\n  0.7845624   0.8140287   0.15185441 -0.36102653]\n[-0.99488485 -0.00267913 -0.9999994  -0.9247679  -0.0182273  -0.2552957\n  0.8046247   0.78349936  0.2875257  -0.3591353 ]\n[-0.99488485 -0.00267913 -0.9999994  -0.9247679  -0.0182273  -0.2552957\n  0.8046247   0.78349936  0.2875257  -0.3591353 ]\n163\n164\n[-0.99488485 -0.00267913 -0.9999994  -0.9247679  -0.0182273  -0.2552957\n  0.8046247   0.78349936  0.2875257  -0.3591353 ]\n[-0.968989    0.00691551 -0.9999986  -0.9612877  -0.05211782  0.08641543\n  0.7792119   0.84192085  0.42747122 -0.4476656 ]\n[-0.968989    0.00691551 -0.9999986  -0.9612877  -0.05211782  0.08641543\n  0.7792119   0.84192085  0.42747122 -0.4476656 ]\n164\n165\n[-0.968989    0.00691551 -0.9999986  -0.9612877  -0.05211782  0.08641543\n  0.7792119   0.84192085  0.42747122 -0.4476656 ]\n[-0.99591637  0.04412501 -0.9999996  -0.91807425 -0.00713894 -0.2513932\n  0.8455113   0.9862194   0.14790621 -0.3822343 ]\n[-0.99591637  0.04412501 -0.9999996  -0.91807425 -0.00713894 -0.2513932\n  0.8455113   0.9862194   0.14790621 -0.3822343 ]\n165\n166\n[-0.99591637  0.04412501 -0.9999996  -0.91807425 -0.00713894 -0.2513932\n  0.8455113   0.9862194   0.14790621 -0.3822343 ]\n[-0.9945576   0.05515644 -0.99999726 -0.9083726  -0.00140237 -0.42931548\n  0.86513513  0.91236126  0.22912215 -0.363748  ]\n[-0.9945576   0.05515644 -0.99999726 -0.9083726  -0.00140237 -0.42931548\n  0.86513513  0.91236126  0.22912215 -0.363748  ]\n166\n167\n[-0.9945576   0.05515644 -0.99999726 -0.9083726  -0.00140237 -0.42931548\n  0.86513513  0.91236126  0.22912215 -0.363748  ]\n[-0.99848765  0.06529997 -0.99999917 -0.94454235 -0.02437809 -0.11523939\n  0.86791885  0.8859402   0.13830392 -0.28153786]\n[-0.99848765  0.06529997 -0.99999917 -0.94454235 -0.02437809 -0.11523939\n  0.86791885  0.8859402   0.13830392 -0.28153786]\n167\n168\n[-0.99848765  0.06529997 -0.99999917 -0.94454235 -0.02437809 -0.11523939\n  0.86791885  0.8859402   0.13830392 -0.28153786]\n[-0.997781    0.08779422 -0.9999998  -0.9036748  -0.01818678  0.07823938\n  0.91275924  0.9936753   0.21523139 -0.48880237]\n[-0.997781    0.08779422 -0.9999998  -0.9036748  -0.01818678  0.07823938\n  0.91275924  0.9936753   0.21523139 -0.48880237]\n168\n169\n[-0.997781    0.08779422 -0.9999998  -0.9036748  -0.01818678  0.07823938\n  0.91275924  0.9936753   0.21523139 -0.48880237]\n[-9.9573100e-01  1.0043103e-01 -9.9999619e-01 -8.2375199e-01\n -4.5861094e-04  3.0342275e-01  8.9993894e-01  8.1266952e-01\n -9.7827673e-02 -6.5838051e-01]\n[-9.9573100e-01  1.0043103e-01 -9.9999619e-01 -8.2375199e-01\n -4.5861094e-04  3.0342275e-01  8.9993894e-01  8.1266952e-01\n -9.7827673e-02 -6.5838051e-01]\n169\n170\n[-9.9573100e-01  1.0043103e-01 -9.9999619e-01 -8.2375199e-01\n -4.5861094e-04  3.0342275e-01  8.9993894e-01  8.1266952e-01\n -9.7827673e-02 -6.5838051e-01]\n[-0.9969721   0.10142557 -0.9999993  -0.87909734  0.00894672  0.23379892\n  0.8951146   0.7979135   0.17362694 -0.47169986]\n[-0.9969721   0.10142557 -0.9999993  -0.87909734  0.00894672  0.23379892\n  0.8951146   0.7979135   0.17362694 -0.47169986]\n170\n171\n[-0.9969721   0.10142557 -0.9999993  -0.87909734  0.00894672  0.23379892\n  0.8951146   0.7979135   0.17362694 -0.47169986]\n[-0.9919107   0.11722579 -0.99999654 -0.8986934   0.03095861 -0.09179006\n  0.9196662   0.9704655   0.24644008 -0.47604004]\n[-0.9919107   0.11722579 -0.99999654 -0.8986934   0.03095861 -0.09179006\n  0.9196662   0.9704655   0.24644008 -0.47604004]\n171\n172\n[-0.9919107   0.11722579 -0.99999654 -0.8986934   0.03095861 -0.09179006\n  0.9196662   0.9704655   0.24644008 -0.47604004]\n[-0.99387884  0.14923538 -0.99999326 -0.89147264  0.03312785  0.14524853\n  0.8578139   0.7700646   0.262667   -0.52459306]\n[-0.99387884  0.14923538 -0.99999326 -0.89147264  0.03312785  0.14524853\n  0.8578139   0.7700646   0.262667   -0.52459306]\n172\n173\n[-0.99387884  0.14923538 -0.99999326 -0.89147264  0.03312785  0.14524853\n  0.8578139   0.7700646   0.262667   -0.52459306]\n[-0.99786836  0.1646135  -0.9999999  -0.94869006  0.02667339  0.00824902\n  0.7920687   0.8826045   0.08572117 -0.26252547]\n[-0.99786836  0.1646135  -0.9999999  -0.94869006  0.02667339  0.00824902\n  0.7920687   0.8826045   0.08572117 -0.26252547]\n173\n174\n[-0.99786836  0.1646135  -0.9999999  -0.94869006  0.02667339  0.00824902\n  0.7920687   0.8826045   0.08572117 -0.26252547]\n[-0.9768059   0.1791699  -0.9999997  -0.87220615 -0.00197315  0.04635028\n  0.8619245   0.870065    0.39491153 -0.48808014]\n[-0.9768059   0.1791699  -0.9999997  -0.87220615 -0.00197315  0.04635028\n  0.8619245   0.870065    0.39491153 -0.48808014]\n174\n175\n[-0.9768059   0.1791699  -0.9999997  -0.87220615 -0.00197315  0.04635028\n  0.8619245   0.870065    0.39491153 -0.48808014]\n[-0.97367656  0.17859486 -0.9999999  -0.88962245 -0.01811927  0.06656169\n  0.81788534  0.73061216  0.45542017 -0.5759683 ]\n[-0.97367656  0.17859486 -0.9999999  -0.88962245 -0.01811927  0.06656169\n  0.81788534  0.73061216  0.45542017 -0.5759683 ]\n175\n176\n[-0.97367656  0.17859486 -0.9999999  -0.88962245 -0.01811927  0.06656169\n  0.81788534  0.73061216  0.45542017 -0.5759683 ]\n[-0.95258224  0.18281458 -0.9999987  -0.87505245 -0.02795752 -0.35901186\n  0.80962795  0.98545355  0.33779585 -0.28420052]\n[-0.95258224  0.18281458 -0.9999987  -0.87505245 -0.02795752 -0.35901186\n  0.80962795  0.98545355  0.33779585 -0.28420052]\n176\n177\n[-0.95258224  0.18281458 -0.9999987  -0.87505245 -0.02795752 -0.35901186\n  0.80962795  0.98545355  0.33779585 -0.28420052]\n[-0.99630356  0.18942991 -0.9999978  -0.8683162  -0.03455985 -0.23583469\n  0.81238246  0.94410694  0.2224618  -0.32647222]\n[-0.99630356  0.18942991 -0.9999978  -0.8683162  -0.03455985 -0.23583469\n  0.81238246  0.94410694  0.2224618  -0.32647222]\n177\n178\n[-0.99630356  0.18942991 -0.9999978  -0.8683162  -0.03455985 -0.23583469\n  0.81238246  0.94410694  0.2224618  -0.32647222]\n[-0.9739254   0.18734637 -0.999984   -0.9401391  -0.0692284   0.13116969\n  0.70621634  0.91199946  0.37618276 -0.28426296]\n[-0.9739254   0.18734637 -0.999984   -0.9401391  -0.0692284   0.13116969\n  0.70621634  0.91199946  0.37618276 -0.28426296]\n178\n179\n[-0.9739254   0.18734637 -0.999984   -0.9401391  -0.0692284   0.13116969\n  0.70621634  0.91199946  0.37618276 -0.28426296]\n[-0.9985149   0.19016676 -1.         -0.9444625  -0.06575251  0.31579477\n  0.81856334  0.96167356  0.34565893 -0.48397744]\n[-0.9985149   0.19016676 -1.         -0.9444625  -0.06575251  0.31579477\n  0.81856334  0.96167356  0.34565893 -0.48397744]\n179\n180\n[-0.9985149   0.19016676 -1.         -0.9444625  -0.06575251  0.31579477\n  0.81856334  0.96167356  0.34565893 -0.48397744]\n[-0.9808539   0.24300446 -0.9999656  -0.8742309  -0.07948922  0.31875145\n  0.8382922   0.83715004  0.42676085 -0.26012617]\n[-0.9808539   0.24300446 -0.9999656  -0.8742309  -0.07948922  0.31875145\n  0.8382922   0.83715004  0.42676085 -0.26012617]\n180\n181\n[-0.9808539   0.24300446 -0.9999656  -0.8742309  -0.07948922  0.31875145\n  0.8382922   0.83715004  0.42676085 -0.26012617]\n[-0.9867048   0.24699125 -0.99999774 -0.9087459  -0.07872166  0.23111646\n  0.819819    0.82018906  0.49713606 -0.27998427]\n[-0.9867048   0.24699125 -0.99999774 -0.9087459  -0.07872166  0.23111646\n  0.819819    0.82018906  0.49713606 -0.27998427]\n181\n182\n[-0.9867048   0.24699125 -0.99999774 -0.9087459  -0.07872166  0.23111646\n  0.819819    0.82018906  0.49713606 -0.27998427]\n[-0.9858564   0.25520197 -0.99996734 -0.88381976 -0.08656273  0.07816601\n  0.839553    0.9974402   0.29639736 -0.436739  ]\n[-0.9858564   0.25520197 -0.99996734 -0.88381976 -0.08656273  0.07816601\n  0.839553    0.9974402   0.29639736 -0.436739  ]\n182\n183\n[-0.9858564   0.25520197 -0.99996734 -0.88381976 -0.08656273  0.07816601\n  0.839553    0.9974402   0.29639736 -0.436739  ]\n[-0.9993018   0.24872413 -0.9999873  -0.8978456  -0.10204867  0.02144891\n  0.86065185  0.83484364  0.40366235 -0.56136286]\n[-0.9993018   0.24872413 -0.9999873  -0.8978456  -0.10204867  0.02144891\n  0.86065185  0.83484364  0.40366235 -0.56136286]\n183\n184\n[-0.9993018   0.24872413 -0.9999873  -0.8978456  -0.10204867  0.02144891\n  0.86065185  0.83484364  0.40366235 -0.56136286]\n[-0.9684793   0.24078797 -0.99999994 -0.9292696  -0.09992742  0.00127305\n  0.8978717   0.94539434  0.48562804 -0.25742382]\n[-0.9684793   0.24078797 -0.99999994 -0.9292696  -0.09992742  0.00127305\n  0.8978717   0.94539434  0.48562804 -0.25742382]\n184\n185\n[-0.9684793   0.24078797 -0.99999994 -0.9292696  -0.09992742  0.00127305\n  0.8978717   0.94539434  0.48562804 -0.25742382]\n[-0.9957597   0.2500423  -0.9999966  -0.91023636 -0.11148492  0.20523784\n  0.88226265  0.8645398   0.36947966 -0.52642155]\n[-0.9957597   0.2500423  -0.9999966  -0.91023636 -0.11148492  0.20523784\n  0.88226265  0.8645398   0.36947966 -0.52642155]\n185\n186\n[-0.9957597   0.2500423  -0.9999966  -0.91023636 -0.11148492  0.20523784\n  0.88226265  0.8645398   0.36947966 -0.52642155]\n[-0.9994904   0.24850944 -0.9999993  -0.9153496  -0.12254693  0.16831999\n  0.8503818   0.81833965  0.48400092 -0.52676237]\n[-0.9994904   0.24850944 -0.9999993  -0.9153496  -0.12254693  0.16831999\n  0.8503818   0.81833965  0.48400092 -0.52676237]\n186\n187\n[-0.9994904   0.24850944 -0.9999993  -0.9153496  -0.12254693  0.16831999\n  0.8503818   0.81833965  0.48400092 -0.52676237]\n[-0.99571264  0.23792785 -0.9999678  -0.92149645 -0.11229225  0.11651567\n  0.8105203   0.8865772   0.3669139  -0.43482074]\n[-0.99571264  0.23792785 -0.9999678  -0.92149645 -0.11229225  0.11651567\n  0.8105203   0.8865772   0.3669139  -0.43482074]\n187\n188\n[-0.99571264  0.23792785 -0.9999678  -0.92149645 -0.11229225  0.11651567\n  0.8105203   0.8865772   0.3669139  -0.43482074]\n[-0.99315584  0.23389076 -0.9999716  -0.9539553  -0.11735416 -0.03908952\n  0.8599448   0.6744014   0.45700452 -0.4539646 ]\n[-0.99315584  0.23389076 -0.9999716  -0.9539553  -0.11735416 -0.03908952\n  0.8599448   0.6744014   0.45700452 -0.4539646 ]\n188\n189\n[-0.99315584  0.23389076 -0.9999716  -0.9539553  -0.11735416 -0.03908952\n  0.8599448   0.6744014   0.45700452 -0.4539646 ]\n[-0.9886576   0.22338775 -0.9999976  -0.948851   -0.14835782 -0.0130219\n  0.8426976   0.7868193   0.5050159  -0.3612391 ]\n[-0.9886576   0.22338775 -0.9999976  -0.948851   -0.14835782 -0.0130219\n  0.8426976   0.7868193   0.5050159  -0.3612391 ]\n189\n190\n[-0.9886576   0.22338775 -0.9999976  -0.948851   -0.14835782 -0.0130219\n  0.8426976   0.7868193   0.5050159  -0.3612391 ]\n[-0.99828553  0.22494224 -0.99999636 -0.9134555  -0.15525189 -0.39722407\n  0.83862406  0.9499656   0.36133763 -0.5235814 ]\n[-0.99828553  0.22494224 -0.99999636 -0.9134555  -0.15525189 -0.39722407\n  0.83862406  0.9499656   0.36133763 -0.5235814 ]\n190\n191\n[-0.99828553  0.22494224 -0.99999636 -0.9134555  -0.15525189 -0.39722407\n  0.83862406  0.9499656   0.36133763 -0.5235814 ]\n[-0.9877304   0.23236826 -0.99999726 -0.8466995  -0.17116533 -0.08228515\n  0.86948097  0.9945605   0.39067754 -0.13389881]\n[-0.9877304   0.23236826 -0.99999726 -0.8466995  -0.17116533 -0.08228515\n  0.86948097  0.9945605   0.39067754 -0.13389881]\n191\n192\n[-0.9877304   0.23236826 -0.99999726 -0.8466995  -0.17116533 -0.08228515\n  0.86948097  0.9945605   0.39067754 -0.13389881]\n[-0.99434626  0.24089143 -0.99999994 -0.74287057 -0.16525635 -0.19460699\n  0.82107794  0.99022865  0.24005887 -0.28044212]\n[-0.99434626  0.24089143 -0.99999994 -0.74287057 -0.16525635 -0.19460699\n  0.82107794  0.99022865  0.24005887 -0.28044212]\n192\n193\n[-0.99434626  0.24089143 -0.99999994 -0.74287057 -0.16525635 -0.19460699\n  0.82107794  0.99022865  0.24005887 -0.28044212]\n[-0.9941204   0.2298257  -0.9999978  -0.7863756  -0.16615939 -0.3469878\n  0.8044934   0.87078804  0.35587323 -0.44414216]\n[-0.9941204   0.2298257  -0.9999978  -0.7863756  -0.16615939 -0.3469878\n  0.8044934   0.87078804  0.35587323 -0.44414216]\n193\n194\n[-0.9941204   0.2298257  -0.9999978  -0.7863756  -0.16615939 -0.3469878\n  0.8044934   0.87078804  0.35587323 -0.44414216]\n[-0.98467165  0.2358088  -0.99999666 -0.6887103  -0.14105943  0.10557567\n  0.84825     0.8050824   0.4172972  -0.5210505 ]\n[-0.98467165  0.2358088  -0.99999666 -0.6887103  -0.14105943  0.10557567\n  0.84825     0.8050824   0.4172972  -0.5210505 ]\n194\n195\n[-0.98467165  0.2358088  -0.99999666 -0.6887103  -0.14105943  0.10557567\n  0.84825     0.8050824   0.4172972  -0.5210505 ]\n[-0.99841547  0.25383595 -0.999999   -0.7413134  -0.12801695  0.26328313\n  0.8446515   0.7826733   0.47980085 -0.39007846]\n[-0.99841547  0.25383595 -0.999999   -0.7413134  -0.12801695  0.26328313\n  0.8446515   0.7826733   0.47980085 -0.39007846]\n195\n196\n[-0.99841547  0.25383595 -0.999999   -0.7413134  -0.12801695  0.26328313\n  0.8446515   0.7826733   0.47980085 -0.39007846]\n[-9.7766662e-01  2.5867280e-01 -9.9997622e-01 -8.9371914e-01\n -1.3293000e-01  3.2423995e-04  8.2651407e-01  9.7866940e-01\n  2.8394103e-01 -3.5968029e-01]\n[-9.7766662e-01  2.5867280e-01 -9.9997622e-01 -8.9371914e-01\n -1.3293000e-01  3.2423995e-04  8.2651407e-01  9.7866940e-01\n  2.8394103e-01 -3.5968029e-01]\n196\n197\n[-9.7766662e-01  2.5867280e-01 -9.9997622e-01 -8.9371914e-01\n -1.3293000e-01  3.2423995e-04  8.2651407e-01  9.7866940e-01\n  2.8394103e-01 -3.5968029e-01]\n[-0.9846152   0.2464121  -0.99994946 -0.86110544 -0.12143157  0.09445608\n  0.858948    0.7204169   0.12128119 -0.6086797 ]\n[-0.9846152   0.2464121  -0.99994946 -0.86110544 -0.12143157  0.09445608\n  0.858948    0.7204169   0.12128119 -0.6086797 ]\n197\n198\n[-0.9846152   0.2464121  -0.99994946 -0.86110544 -0.12143157  0.09445608\n  0.858948    0.7204169   0.12128119 -0.6086797 ]\n[-0.9921266   0.24523604 -0.99998736 -0.86260533 -0.1250241   0.3776552\n  0.9080802   0.8095457   0.21356352 -0.6412599 ]\n[-0.9921266   0.24523604 -0.99998736 -0.86260533 -0.1250241   0.3776552\n  0.9080802   0.8095457   0.21356352 -0.6412599 ]\n198\n199\n[-0.9921266   0.24523604 -0.99998736 -0.86260533 -0.1250241   0.3776552\n  0.9080802   0.8095457   0.21356352 -0.6412599 ]\n[-0.9904243   0.25351244 -0.99997336 -0.8552969  -0.12062462 -0.44416633\n  0.82738715  0.9616612   0.1766017  -0.22366458]\n[-0.9904243   0.25351244 -0.99997336 -0.8552969  -0.12062462 -0.44416633\n  0.82738715  0.9616612   0.1766017  -0.22366458]\n199\n200\n[-0.9904243   0.25351244 -0.99997336 -0.8552969  -0.12062462 -0.44416633\n  0.82738715  0.9616612   0.1766017  -0.22366458]\n[-0.9907003   0.2579007  -0.99999845 -0.920111   -0.1195161  -0.47731\n  0.8017233   0.8535314   0.2821758  -0.29169077]\n[-0.9907003   0.2579007  -0.99999845 -0.920111   -0.1195161  -0.47731\n  0.8017233   0.8535314   0.2821758  -0.29169077]\n200\n201\n[-0.9907003   0.2579007  -0.99999845 -0.920111   -0.1195161  -0.47731\n  0.8017233   0.8535314   0.2821758  -0.29169077]\n[-0.9994392   0.25722945 -0.99999994 -0.8689738  -0.12129807 -0.14044783\n  0.77823085  0.95931816  0.39680412 -0.305905  ]\n[-0.9994392   0.25722945 -0.99999994 -0.8689738  -0.12129807 -0.14044783\n  0.77823085  0.95931816  0.39680412 -0.305905  ]\n201\n202\n[-0.9994392   0.25722945 -0.99999994 -0.8689738  -0.12129807 -0.14044783\n  0.77823085  0.95931816  0.39680412 -0.305905  ]\n[-0.98211026  0.26538607 -0.99999976 -0.78847814 -0.11851135  0.30227417\n  0.80274874  0.9581965   0.34427804 -0.47699866]\n[-0.98211026  0.26538607 -0.99999976 -0.78847814 -0.11851135  0.30227417\n  0.80274874  0.9581965   0.34427804 -0.47699866]\n202\n203\n[-0.98211026  0.26538607 -0.99999976 -0.78847814 -0.11851135  0.30227417\n  0.80274874  0.9581965   0.34427804 -0.47699866]\n[-0.997995    0.26393896 -1.         -0.9005066  -0.1179659  -0.33519608\n  0.82623076  0.86692476  0.44303772 -0.42752716]\n[-0.997995    0.26393896 -1.         -0.9005066  -0.1179659  -0.33519608\n  0.82623076  0.86692476  0.44303772 -0.42752716]\n203\n204\n[-0.997995    0.26393896 -1.         -0.9005066  -0.1179659  -0.33519608\n  0.82623076  0.86692476  0.44303772 -0.42752716]\n[-0.997995    0.26393896 -1.         -0.9005066  -0.1179659  -0.33519608\n  0.82623076  0.86692476  0.44303772 -0.42752716]\n[-0.997995    0.26393896 -1.         -0.9005066  -0.1179659  -0.33519608\n  0.82623076  0.86692476  0.44303772 -0.42752716]\n204\n205\n[-0.997995    0.26393896 -1.         -0.9005066  -0.1179659  -0.33519608\n  0.82623076  0.86692476  0.44303772 -0.42752716]\n[-0.997995    0.26393896 -1.         -0.9005066  -0.1179659  -0.33519608\n  0.82623076  0.86692476  0.44303772 -0.42752716]\n[-0.997995    0.26393896 -1.         -0.9005066  -0.1179659  -0.33519608\n  0.82623076  0.86692476  0.44303772 -0.42752716]\n205\n206\n[-0.997995    0.26393896 -1.         -0.9005066  -0.1179659  -0.33519608\n  0.82623076  0.86692476  0.44303772 -0.42752716]\n[-0.99976593  0.2576749  -0.9999907  -0.94574386 -0.1121668  -0.07481836\n  0.78021336  0.84567416  0.346008   -0.4511775 ]\n[-0.99976593  0.2576749  -0.9999907  -0.94574386 -0.1121668  -0.07481836\n  0.78021336  0.84567416  0.346008   -0.4511775 ]\n206\n207\n[-0.99976593  0.2576749  -0.9999907  -0.94574386 -0.1121668  -0.07481836\n  0.78021336  0.84567416  0.346008   -0.4511775 ]\n[-0.99976593  0.2576749  -0.9999907  -0.94574386 -0.1121668  -0.07481836\n  0.78021336  0.84567416  0.346008   -0.4511775 ]\n[-0.99976593  0.2576749  -0.9999907  -0.94574386 -0.1121668  -0.07481836\n  0.78021336  0.84567416  0.346008   -0.4511775 ]\n207\n208\n[-0.99976593  0.2576749  -0.9999907  -0.94574386 -0.1121668  -0.07481836\n  0.78021336  0.84567416  0.346008   -0.4511775 ]\n[-0.9832129   0.25845513 -0.99999404 -0.95796067 -0.11286643  0.05394486\n  0.7934897   0.76763713  0.44070503 -0.45707685]\n[-0.9832129   0.25845513 -0.99999404 -0.95796067 -0.11286643  0.05394486\n  0.7934897   0.76763713  0.44070503 -0.45707685]\n208\n209\n[-0.9832129   0.25845513 -0.99999404 -0.95796067 -0.11286643  0.05394486\n  0.7934897   0.76763713  0.44070503 -0.45707685]\n[-0.99741185  0.24687247 -1.         -0.94996977 -0.10294628 -0.3753629\n  0.76004833  0.9255317   0.31415075 -0.29745218]\n[-0.99741185  0.24687247 -1.         -0.94996977 -0.10294628 -0.3753629\n  0.76004833  0.9255317   0.31415075 -0.29745218]\n209\n210\n[-0.99741185  0.24687247 -1.         -0.94996977 -0.10294628 -0.3753629\n  0.76004833  0.9255317   0.31415075 -0.29745218]\n[-0.9968288   0.24278381 -0.9999904  -0.9636567  -0.10997012 -0.42347768\n  0.74530005  0.78894687  0.24508296 -0.29910755]\n[-0.9968288   0.24278381 -0.9999904  -0.9636567  -0.10997012 -0.42347768\n  0.74530005  0.78894687  0.24508296 -0.29910755]\n"
    }
   ],
   "source": [
    "state_old = state_model.layers[8].states[0].numpy()\n",
    "for step in range(160, 210):\n",
    "    start = step\n",
    "    stop = start + 1\n",
    "    print(start)\n",
    "    print(stop)\n",
    "    print(state_model.layers[-2].states[0].numpy()[0,3])\n",
    "    #state_model.layers[8].reset_states(states=state_old)\n",
    "    #print(state_model.layers[8].states[0].numpy()[0,3])\n",
    "    state = state_model.predict([batters_batched[start:stop], pitchers_batched[start:stop], situation_batched[start:stop], outcome_batched[start:stop], pitch_count_batched[start:stop]])\n",
    "    print(state_model.layers[-2].states[0].numpy()[0,3])\n",
    "    print(state[0][0, 3])\n",
    "    state_old = state"
   ]
  },
  {
   "cell_type": "code",
   "execution_count": 48,
   "metadata": {},
   "outputs": [],
   "source": [
    "state_final = state_model.layers[-2].states[0][0].numpy()\n",
    "state_final2 = state_model.layers[-1].states[0][0].numpy()"
   ]
  },
  {
   "cell_type": "code",
   "execution_count": 39,
   "metadata": {},
   "outputs": [
    {
     "output_type": "execute_result",
     "data": {
      "text/plain": "[<tensorflow.python.keras.engine.input_layer.InputLayer at 0x21a3dc95808>,\n <tensorflow.python.keras.layers.embeddings.Embedding at 0x21a5267cb48>,\n <tensorflow.python.keras.engine.input_layer.InputLayer at 0x21a58b94a08>,\n <tensorflow.python.keras.layers.core.Reshape at 0x21a3e64ea88>,\n <tensorflow.python.keras.engine.input_layer.InputLayer at 0x21a3dc956c8>,\n <tensorflow.python.keras.layers.merge.Concatenate at 0x21a3d717888>,\n <tensorflow.python.keras.engine.input_layer.InputLayer at 0x21a3dc25508>,\n <tensorflow.python.keras.engine.input_layer.InputLayer at 0x21a55904948>,\n <__main__.AtBatRNN at 0x21a62262948>]"
     },
     "metadata": {},
     "execution_count": 39
    }
   ],
   "source": [
    "state_model.layers"
   ]
  },
  {
   "cell_type": "code",
   "execution_count": 30,
   "metadata": {},
   "outputs": [],
   "source": [
    "state = np.load('..\\\\models\\\\prediction_model_v2_state_3.npy')"
   ]
  },
  {
   "cell_type": "code",
   "execution_count": 50,
   "metadata": {},
   "outputs": [],
   "source": [
    "np.save('..\\\\models\\\\prediction_model_v4_state2', state_final2)"
   ]
  },
  {
   "cell_type": "code",
   "execution_count": 155,
   "metadata": {},
   "outputs": [],
   "source": [
    "state0 = np.load('..\\\\models\\\\prediction_model_v2_state.npy')"
   ]
  },
  {
   "cell_type": "code",
   "execution_count": 160,
   "metadata": {},
   "outputs": [
    {
     "output_type": "execute_result",
     "data": {
      "text/plain": "<matplotlib.colorbar.Colorbar at 0x1e017636b88>"
     },
     "metadata": {},
     "execution_count": 160
    },
    {
     "output_type": "display_data",
     "data": {
      "text/plain": "<Figure size 432x288 with 2 Axes>",
      "image/svg+xml": "<?xml version=\"1.0\" encoding=\"utf-8\" standalone=\"no\"?>\r\n<!DOCTYPE svg PUBLIC \"-//W3C//DTD SVG 1.1//EN\"\r\n  \"http://www.w3.org/Graphics/SVG/1.1/DTD/svg11.dtd\">\r\n<!-- Created with matplotlib (https://matplotlib.org/) -->\r\n<svg height=\"250.142944pt\" version=\"1.1\" viewBox=\"0 0 145.205412 250.142944\" width=\"145.205412pt\" xmlns=\"http://www.w3.org/2000/svg\" xmlns:xlink=\"http://www.w3.org/1999/xlink\">\r\n <defs>\r\n  <style type=\"text/css\">\r\n*{stroke-linecap:butt;stroke-linejoin:round;}\r\n  </style>\r\n </defs>\r\n <g id=\"figure_1\">\r\n  <g id=\"patch_1\">\r\n   <path d=\"M 0 250.142944 \r\nL 145.205412 250.142944 \r\nL 145.205412 0 \r\nL 0 0 \r\nz\r\n\" style=\"fill:none;\"/>\r\n  </g>\r\n  <g id=\"axes_1\">\r\n   <g id=\"patch_2\">\r\n    <path d=\"M 26.925 226.264819 \r\nL 79.1106 226.264819 \r\nL 79.1106 8.824819 \r\nL 26.925 8.824819 \r\nz\r\n\" style=\"fill:#ffffff;\"/>\r\n   </g>\r\n   <g clip-path=\"url(#p6578174690)\">\r\n    <image height=\"218\" id=\"imageda252b61c9\" transform=\"scale(1 -1)translate(0 -218)\" width=\"53\" x=\"26.925\" xlink:href=\"data:image/png;base64,\r\niVBORw0KGgoAAAANSUhEUgAAADUAAADaCAYAAAAG9AonAAAABHNCSVQICAgIfAhkiAAABdpJREFUeJztnUtsG1UUhq/H14/EieM4zcOQuMUkJLQUKkGiSg1BBUQRSFkihIQEK95sEBI7BBskHhIUgVQWdEGlAkUgIVFREMqiKWqDoa8UqkCUhrgP5+GkiZ3YnnjMlv+ekaDLc3W+3Rn9Y/vz9Xjm3rkzE+g78kZd/Qs3F1Mm/W/+AfXcwZtJpi22DvXl0ymoQ6sBsk45VYM6NhskmVK3B7VTpa/TkMdlDklYgEhxQVcKDbDg0XtPk9DRD3ZA7azXSWZ2HrfFQNTI0FVU1zhuC/N301DyHGaGn/+FZMYODeHno2/FH5HigpVSOnZJw4Jj8dtJKP5rFOq20RzJfDFyGOr7Pn4Vagf3s0oppeYH8Y8hXKA71sIuXPH9VJZkHjpp/JHRt+KPSHEhsHX/uz67Rd5Y2VIixQWR4oJIcUGkuCBSXBApLogUF0SKCzpgjPLELlPP7kN/Qb34aQvJLOQSUEfyOEoVXaAjRcU0droTU/QDrnfheu1nNkmmFpFTOTyxUkpGk7ggUlwQKS6IFBdEigsixQUrpbSzpYILpqMk5GbKUHvFEMk4Zfx+gutGx4327ZQbx2Npcx2llFLGopuO0xda2o6fx8qWEikuaG8xAguqLT59xiXM+PzyVd1YuBm78b7n/1nn7310nq1SxjzbG35nBogUF0SKCyLFBSuldPMl9Fq7q0JCsUnc+dZ2r5LMls8aoV7ciWc9Isv0zX987R2ozXm3Sim1YVzkMvA6PTVSGu6D2sqWEikuyFkPLogUF0SKCyLFBZHigkhxQaS4IFJcECkuiBQXRIoLIsUFkeKCSHFBpLhgpZROnsdJRZHrHgkNvHIB6rHsDpJ5ee8xqD85/AjUHp0iqNrP4KnPcoJ+x4vDLtRTDx8gmX1PPwO1lS0lUlyQ06NcECkuiBQXRIoLVkrpxqvo1fPhWRK6uB/voxnY8Jnw3oQXloRyYVyHHierGk4jVPUgPQ4wb1DtNyE/Po0OVraUSHFBDmi5IFJcsFJKh7rwKQ/hbBMJVRP4X9J5zzWSaQrjJP2L59JQByv0+rjUCRxNyg/SnXpkGde7/4kJkvnhG7mzPU+slJKdLxdEigtad+J+quNIAwnlh9C9becCydzWOg/1+MR2qAM+W675dJXC3jLNjOFdF/a8QJ/A8v13g1Bb2VIixQUrpQK3vvUebMJemG7R0cwa1J5HD04rOTwQjizi91UzH92k6MhQXdNMuIAHudUEHZYyR8SsbCmR4oI2tZxNn85cC16BPZ1rJ5mWW1agXnNb8Y18bh/04J4zUI/PZUimnsd73j4+8jPJHD04DLWVLSVSXLBSSnq+XBApLogUF0SKCzpqdOYyD8yQ0OwyHpwWV+iIU9iYYmDOmfWbcmCOMLlN/z3lwK8Tm5yUByvwRKS4oEM4UKT+PLGNhGJzxoIhl2Q2m3EDDq0ak/iXaM93rRdPj3acopmVPlxW9fujuIBD51a2lEhxQTqJXBApLogUF0SKC1ZK6ZYp9Or4iJ4qKT62G+qrI3R/nUjjqZzS+SQGfHbxbhy7w4nf6Xdc3Ia15zPPv/fLItRWtpRIcUFf78eO2uhZ2gH86nPj6SrJdZIpTuI25BlTDMwpCEop5caxLvXQD1g3VvMbTSqm8WbZVraUSHFBOolcECkuiBQXRIoLIsUFkeKCSHFBpLggUlwQKS6IFBe03jDm04Xo4FL3TziKe+0pepVn5qU81DPP9mLAZ8yq3GOMBtfoNJ5g0bjgy+cCm84JeZ4vT0SKC9rJ4KlFz9UkVH4RJwVW5lpJZuY5/GNwm3HjDa/Q788p4blOL0pnD0eWcL2NLppZyeDrWNlSIsUF3ZXA7WX16xQJFdJ4+4TYAH2e7513XIH6ZLYfAz4739RxXLiwi84ncHC/r0aHsyQjt27gipVSgfSBt+GHvfVb+uO/8mQVanc1TDLmwWjQ2Ac1LNAD0VIaNxgnSZ/P3ZjF6QTFTI1k2n6TuxzwRKS4IPMouCBSXPgHylt0+T9kHsIAAAAASUVORK5CYII=\" y=\"-8.264819\"/>\r\n   </g>\r\n   <g id=\"matplotlib.axis_1\">\r\n    <g id=\"xtick_1\">\r\n     <g id=\"line2d_1\">\r\n      <defs>\r\n       <path d=\"M 0 0 \r\nL 0 3.5 \r\n\" id=\"m7946f75390\" style=\"stroke:#000000;stroke-width:0.8;\"/>\r\n      </defs>\r\n      <g>\r\n       <use style=\"stroke:#000000;stroke-width:0.8;\" x=\"29.0994\" xlink:href=\"#m7946f75390\" y=\"226.264819\"/>\r\n      </g>\r\n     </g>\r\n     <g id=\"text_1\">\r\n      <!-- 0 -->\r\n      <defs>\r\n       <path d=\"M 31.78125 66.40625 \r\nQ 24.171875 66.40625 20.328125 58.90625 \r\nQ 16.5 51.421875 16.5 36.375 \r\nQ 16.5 21.390625 20.328125 13.890625 \r\nQ 24.171875 6.390625 31.78125 6.390625 \r\nQ 39.453125 6.390625 43.28125 13.890625 \r\nQ 47.125 21.390625 47.125 36.375 \r\nQ 47.125 51.421875 43.28125 58.90625 \r\nQ 39.453125 66.40625 31.78125 66.40625 \r\nz\r\nM 31.78125 74.21875 \r\nQ 44.046875 74.21875 50.515625 64.515625 \r\nQ 56.984375 54.828125 56.984375 36.375 \r\nQ 56.984375 17.96875 50.515625 8.265625 \r\nQ 44.046875 -1.421875 31.78125 -1.421875 \r\nQ 19.53125 -1.421875 13.0625 8.265625 \r\nQ 6.59375 17.96875 6.59375 36.375 \r\nQ 6.59375 54.828125 13.0625 64.515625 \r\nQ 19.53125 74.21875 31.78125 74.21875 \r\nz\r\n\" id=\"DejaVuSans-48\"/>\r\n      </defs>\r\n      <g transform=\"translate(25.91815 240.863256)scale(0.1 -0.1)\">\r\n       <use xlink:href=\"#DejaVuSans-48\"/>\r\n      </g>\r\n     </g>\r\n    </g>\r\n    <g id=\"xtick_2\">\r\n     <g id=\"line2d_2\">\r\n      <g>\r\n       <use style=\"stroke:#000000;stroke-width:0.8;\" x=\"72.5874\" xlink:href=\"#m7946f75390\" y=\"226.264819\"/>\r\n      </g>\r\n     </g>\r\n     <g id=\"text_2\">\r\n      <!-- 10 -->\r\n      <defs>\r\n       <path d=\"M 12.40625 8.296875 \r\nL 28.515625 8.296875 \r\nL 28.515625 63.921875 \r\nL 10.984375 60.40625 \r\nL 10.984375 69.390625 \r\nL 28.421875 72.90625 \r\nL 38.28125 72.90625 \r\nL 38.28125 8.296875 \r\nL 54.390625 8.296875 \r\nL 54.390625 0 \r\nL 12.40625 0 \r\nz\r\n\" id=\"DejaVuSans-49\"/>\r\n      </defs>\r\n      <g transform=\"translate(66.2249 240.863256)scale(0.1 -0.1)\">\r\n       <use xlink:href=\"#DejaVuSans-49\"/>\r\n       <use x=\"63.623047\" xlink:href=\"#DejaVuSans-48\"/>\r\n      </g>\r\n     </g>\r\n    </g>\r\n   </g>\r\n   <g id=\"matplotlib.axis_2\">\r\n    <g id=\"ytick_1\">\r\n     <g id=\"line2d_3\">\r\n      <defs>\r\n       <path d=\"M 0 0 \r\nL -3.5 0 \r\n\" id=\"m77c61d32fb\" style=\"stroke:#000000;stroke-width:0.8;\"/>\r\n      </defs>\r\n      <g>\r\n       <use style=\"stroke:#000000;stroke-width:0.8;\" x=\"26.925\" xlink:href=\"#m77c61d32fb\" y=\"10.999219\"/>\r\n      </g>\r\n     </g>\r\n     <g id=\"text_3\">\r\n      <!-- 0 -->\r\n      <g transform=\"translate(13.5625 14.798437)scale(0.1 -0.1)\">\r\n       <use xlink:href=\"#DejaVuSans-48\"/>\r\n      </g>\r\n     </g>\r\n    </g>\r\n    <g id=\"ytick_2\">\r\n     <g id=\"line2d_4\">\r\n      <g>\r\n       <use style=\"stroke:#000000;stroke-width:0.8;\" x=\"26.925\" xlink:href=\"#m77c61d32fb\" y=\"54.487219\"/>\r\n      </g>\r\n     </g>\r\n     <g id=\"text_4\">\r\n      <!-- 10 -->\r\n      <g transform=\"translate(7.2 58.286437)scale(0.1 -0.1)\">\r\n       <use xlink:href=\"#DejaVuSans-49\"/>\r\n       <use x=\"63.623047\" xlink:href=\"#DejaVuSans-48\"/>\r\n      </g>\r\n     </g>\r\n    </g>\r\n    <g id=\"ytick_3\">\r\n     <g id=\"line2d_5\">\r\n      <g>\r\n       <use style=\"stroke:#000000;stroke-width:0.8;\" x=\"26.925\" xlink:href=\"#m77c61d32fb\" y=\"97.975219\"/>\r\n      </g>\r\n     </g>\r\n     <g id=\"text_5\">\r\n      <!-- 20 -->\r\n      <defs>\r\n       <path d=\"M 19.1875 8.296875 \r\nL 53.609375 8.296875 \r\nL 53.609375 0 \r\nL 7.328125 0 \r\nL 7.328125 8.296875 \r\nQ 12.9375 14.109375 22.625 23.890625 \r\nQ 32.328125 33.6875 34.8125 36.53125 \r\nQ 39.546875 41.84375 41.421875 45.53125 \r\nQ 43.3125 49.21875 43.3125 52.78125 \r\nQ 43.3125 58.59375 39.234375 62.25 \r\nQ 35.15625 65.921875 28.609375 65.921875 \r\nQ 23.96875 65.921875 18.8125 64.3125 \r\nQ 13.671875 62.703125 7.8125 59.421875 \r\nL 7.8125 69.390625 \r\nQ 13.765625 71.78125 18.9375 73 \r\nQ 24.125 74.21875 28.421875 74.21875 \r\nQ 39.75 74.21875 46.484375 68.546875 \r\nQ 53.21875 62.890625 53.21875 53.421875 \r\nQ 53.21875 48.921875 51.53125 44.890625 \r\nQ 49.859375 40.875 45.40625 35.40625 \r\nQ 44.1875 33.984375 37.640625 27.21875 \r\nQ 31.109375 20.453125 19.1875 8.296875 \r\nz\r\n\" id=\"DejaVuSans-50\"/>\r\n      </defs>\r\n      <g transform=\"translate(7.2 101.774437)scale(0.1 -0.1)\">\r\n       <use xlink:href=\"#DejaVuSans-50\"/>\r\n       <use x=\"63.623047\" xlink:href=\"#DejaVuSans-48\"/>\r\n      </g>\r\n     </g>\r\n    </g>\r\n    <g id=\"ytick_4\">\r\n     <g id=\"line2d_6\">\r\n      <g>\r\n       <use style=\"stroke:#000000;stroke-width:0.8;\" x=\"26.925\" xlink:href=\"#m77c61d32fb\" y=\"141.463219\"/>\r\n      </g>\r\n     </g>\r\n     <g id=\"text_6\">\r\n      <!-- 30 -->\r\n      <defs>\r\n       <path d=\"M 40.578125 39.3125 \r\nQ 47.65625 37.796875 51.625 33 \r\nQ 55.609375 28.21875 55.609375 21.1875 \r\nQ 55.609375 10.40625 48.1875 4.484375 \r\nQ 40.765625 -1.421875 27.09375 -1.421875 \r\nQ 22.515625 -1.421875 17.65625 -0.515625 \r\nQ 12.796875 0.390625 7.625 2.203125 \r\nL 7.625 11.71875 \r\nQ 11.71875 9.328125 16.59375 8.109375 \r\nQ 21.484375 6.890625 26.8125 6.890625 \r\nQ 36.078125 6.890625 40.9375 10.546875 \r\nQ 45.796875 14.203125 45.796875 21.1875 \r\nQ 45.796875 27.640625 41.28125 31.265625 \r\nQ 36.765625 34.90625 28.71875 34.90625 \r\nL 20.21875 34.90625 \r\nL 20.21875 43.015625 \r\nL 29.109375 43.015625 \r\nQ 36.375 43.015625 40.234375 45.921875 \r\nQ 44.09375 48.828125 44.09375 54.296875 \r\nQ 44.09375 59.90625 40.109375 62.90625 \r\nQ 36.140625 65.921875 28.71875 65.921875 \r\nQ 24.65625 65.921875 20.015625 65.03125 \r\nQ 15.375 64.15625 9.8125 62.3125 \r\nL 9.8125 71.09375 \r\nQ 15.4375 72.65625 20.34375 73.4375 \r\nQ 25.25 74.21875 29.59375 74.21875 \r\nQ 40.828125 74.21875 47.359375 69.109375 \r\nQ 53.90625 64.015625 53.90625 55.328125 \r\nQ 53.90625 49.265625 50.4375 45.09375 \r\nQ 46.96875 40.921875 40.578125 39.3125 \r\nz\r\n\" id=\"DejaVuSans-51\"/>\r\n      </defs>\r\n      <g transform=\"translate(7.2 145.262437)scale(0.1 -0.1)\">\r\n       <use xlink:href=\"#DejaVuSans-51\"/>\r\n       <use x=\"63.623047\" xlink:href=\"#DejaVuSans-48\"/>\r\n      </g>\r\n     </g>\r\n    </g>\r\n    <g id=\"ytick_5\">\r\n     <g id=\"line2d_7\">\r\n      <g>\r\n       <use style=\"stroke:#000000;stroke-width:0.8;\" x=\"26.925\" xlink:href=\"#m77c61d32fb\" y=\"184.951219\"/>\r\n      </g>\r\n     </g>\r\n     <g id=\"text_7\">\r\n      <!-- 40 -->\r\n      <defs>\r\n       <path d=\"M 37.796875 64.3125 \r\nL 12.890625 25.390625 \r\nL 37.796875 25.390625 \r\nz\r\nM 35.203125 72.90625 \r\nL 47.609375 72.90625 \r\nL 47.609375 25.390625 \r\nL 58.015625 25.390625 \r\nL 58.015625 17.1875 \r\nL 47.609375 17.1875 \r\nL 47.609375 0 \r\nL 37.796875 0 \r\nL 37.796875 17.1875 \r\nL 4.890625 17.1875 \r\nL 4.890625 26.703125 \r\nz\r\n\" id=\"DejaVuSans-52\"/>\r\n      </defs>\r\n      <g transform=\"translate(7.2 188.750437)scale(0.1 -0.1)\">\r\n       <use xlink:href=\"#DejaVuSans-52\"/>\r\n       <use x=\"63.623047\" xlink:href=\"#DejaVuSans-48\"/>\r\n      </g>\r\n     </g>\r\n    </g>\r\n   </g>\r\n   <g id=\"patch_3\">\r\n    <path d=\"M 26.925 226.264819 \r\nL 26.925 8.824819 \r\n\" style=\"fill:none;stroke:#000000;stroke-linecap:square;stroke-linejoin:miter;stroke-width:0.8;\"/>\r\n   </g>\r\n   <g id=\"patch_4\">\r\n    <path d=\"M 79.1106 226.264819 \r\nL 79.1106 8.824819 \r\n\" style=\"fill:none;stroke:#000000;stroke-linecap:square;stroke-linejoin:miter;stroke-width:0.8;\"/>\r\n   </g>\r\n   <g id=\"patch_5\">\r\n    <path d=\"M 26.925 226.264819 \r\nL 79.1106 226.264819 \r\n\" style=\"fill:none;stroke:#000000;stroke-linecap:square;stroke-linejoin:miter;stroke-width:0.8;\"/>\r\n   </g>\r\n   <g id=\"patch_6\">\r\n    <path d=\"M 26.925 8.824819 \r\nL 79.1106 8.824819 \r\n\" style=\"fill:none;stroke:#000000;stroke-linecap:square;stroke-linejoin:miter;stroke-width:0.8;\"/>\r\n   </g>\r\n  </g>\r\n  <g id=\"axes_2\">\r\n   <g id=\"patch_7\">\r\n    <path clip-path=\"url(#p048261afc8)\" d=\"M 95.8506 226.264819 \r\nL 95.8506 225.415444 \r\nL 95.8506 9.674194 \r\nL 95.8506 8.824819 \r\nL 106.7226 8.824819 \r\nL 106.7226 9.674194 \r\nL 106.7226 225.415444 \r\nL 106.7226 226.264819 \r\nz\r\n\" style=\"fill:#ffffff;stroke:#ffffff;stroke-linejoin:miter;stroke-width:0.01;\"/>\r\n   </g>\r\n   <image height=\"217\" id=\"imagefaaabcb6bb\" transform=\"scale(1 -1)translate(0 -217)\" width=\"11\" x=\"96\" xlink:href=\"data:image/png;base64,\r\niVBORw0KGgoAAAANSUhEUgAAAAsAAADZCAYAAAD2WsoCAAAABHNCSVQICAgIfAhkiAAAAUhJREFUaIHdmsENAjEMBGM7R2XUQP+NQGjB8xjJd7yt1e6sQ9Bx8c7PWc3Pjozu7Norsj/MlKuIDaAcCTwj5aUpB6LBGtSGh3AWaWg2RHQWjcNstGdNGqJn7VidmtFgf9YMeDQbKKC3SIccWI8GVAbDcJ+J8h1piHUjG5qyRsPcDUvZ5HxDdDO2boqyR6M/iy96YgPdg5qN59f9eHQ3DOjVvaJ/vsegux8N4JgHBJ69UkTOM2iAn0huKV7AEcrgORmkwWzMQJdiQIuG5zmTDHs2loWu8gdseAFFGmB4azS8gJ4NRkP0bJWymTIYLrFui8YVX0kZ0rACFlG+ktAgDZa3dcQGrBvZGNEg4sxoMBtWQFTKSwyo7YZ2rK4FaMCA1j3Ilp99FXgB27NUuS+89ov83YCUiymD4SLDSPkK8LoO80zeOUnwkOoPXoiBaF8nrs8AAAAASUVORK5CYII=\" y=\"-9\"/>\r\n   <g id=\"matplotlib.axis_3\"/>\r\n   <g id=\"matplotlib.axis_4\">\r\n    <g id=\"ytick_6\">\r\n     <g id=\"line2d_8\">\r\n      <defs>\r\n       <path d=\"M 0 0 \r\nL 3.5 0 \r\n\" id=\"mc54b5a27d8\" style=\"stroke:#000000;stroke-width:0.8;\"/>\r\n      </defs>\r\n      <g>\r\n       <use style=\"stroke:#000000;stroke-width:0.8;\" x=\"106.7226\" xlink:href=\"#mc54b5a27d8\" y=\"202.696324\"/>\r\n      </g>\r\n     </g>\r\n     <g id=\"text_8\">\r\n      <!-- −1.5 -->\r\n      <defs>\r\n       <path d=\"M 10.59375 35.5 \r\nL 73.1875 35.5 \r\nL 73.1875 27.203125 \r\nL 10.59375 27.203125 \r\nz\r\n\" id=\"DejaVuSans-8722\"/>\r\n       <path d=\"M 10.6875 12.40625 \r\nL 21 12.40625 \r\nL 21 0 \r\nL 10.6875 0 \r\nz\r\n\" id=\"DejaVuSans-46\"/>\r\n       <path d=\"M 10.796875 72.90625 \r\nL 49.515625 72.90625 \r\nL 49.515625 64.59375 \r\nL 19.828125 64.59375 \r\nL 19.828125 46.734375 \r\nQ 21.96875 47.46875 24.109375 47.828125 \r\nQ 26.265625 48.1875 28.421875 48.1875 \r\nQ 40.625 48.1875 47.75 41.5 \r\nQ 54.890625 34.8125 54.890625 23.390625 \r\nQ 54.890625 11.625 47.5625 5.09375 \r\nQ 40.234375 -1.421875 26.90625 -1.421875 \r\nQ 22.3125 -1.421875 17.546875 -0.640625 \r\nQ 12.796875 0.140625 7.71875 1.703125 \r\nL 7.71875 11.625 \r\nQ 12.109375 9.234375 16.796875 8.0625 \r\nQ 21.484375 6.890625 26.703125 6.890625 \r\nQ 35.15625 6.890625 40.078125 11.328125 \r\nQ 45.015625 15.765625 45.015625 23.390625 \r\nQ 45.015625 31 40.078125 35.4375 \r\nQ 35.15625 39.890625 26.703125 39.890625 \r\nQ 22.75 39.890625 18.8125 39.015625 \r\nQ 14.890625 38.140625 10.796875 36.28125 \r\nz\r\n\" id=\"DejaVuSans-53\"/>\r\n      </defs>\r\n      <g transform=\"translate(113.7226 206.495543)scale(0.1 -0.1)\">\r\n       <use xlink:href=\"#DejaVuSans-8722\"/>\r\n       <use x=\"83.789062\" xlink:href=\"#DejaVuSans-49\"/>\r\n       <use x=\"147.412109\" xlink:href=\"#DejaVuSans-46\"/>\r\n       <use x=\"179.199219\" xlink:href=\"#DejaVuSans-53\"/>\r\n      </g>\r\n     </g>\r\n    </g>\r\n    <g id=\"ytick_7\">\r\n     <g id=\"line2d_9\">\r\n      <g>\r\n       <use style=\"stroke:#000000;stroke-width:0.8;\" x=\"106.7226\" xlink:href=\"#mc54b5a27d8\" y=\"173.549124\"/>\r\n      </g>\r\n     </g>\r\n     <g id=\"text_9\">\r\n      <!-- −1.0 -->\r\n      <g transform=\"translate(113.7226 177.348343)scale(0.1 -0.1)\">\r\n       <use xlink:href=\"#DejaVuSans-8722\"/>\r\n       <use x=\"83.789062\" xlink:href=\"#DejaVuSans-49\"/>\r\n       <use x=\"147.412109\" xlink:href=\"#DejaVuSans-46\"/>\r\n       <use x=\"179.199219\" xlink:href=\"#DejaVuSans-48\"/>\r\n      </g>\r\n     </g>\r\n    </g>\r\n    <g id=\"ytick_8\">\r\n     <g id=\"line2d_10\">\r\n      <g>\r\n       <use style=\"stroke:#000000;stroke-width:0.8;\" x=\"106.7226\" xlink:href=\"#mc54b5a27d8\" y=\"144.401923\"/>\r\n      </g>\r\n     </g>\r\n     <g id=\"text_10\">\r\n      <!-- −0.5 -->\r\n      <g transform=\"translate(113.7226 148.201142)scale(0.1 -0.1)\">\r\n       <use xlink:href=\"#DejaVuSans-8722\"/>\r\n       <use x=\"83.789062\" xlink:href=\"#DejaVuSans-48\"/>\r\n       <use x=\"147.412109\" xlink:href=\"#DejaVuSans-46\"/>\r\n       <use x=\"179.199219\" xlink:href=\"#DejaVuSans-53\"/>\r\n      </g>\r\n     </g>\r\n    </g>\r\n    <g id=\"ytick_9\">\r\n     <g id=\"line2d_11\">\r\n      <g>\r\n       <use style=\"stroke:#000000;stroke-width:0.8;\" x=\"106.7226\" xlink:href=\"#mc54b5a27d8\" y=\"115.254723\"/>\r\n      </g>\r\n     </g>\r\n     <g id=\"text_11\">\r\n      <!-- 0.0 -->\r\n      <g transform=\"translate(113.7226 119.053942)scale(0.1 -0.1)\">\r\n       <use xlink:href=\"#DejaVuSans-48\"/>\r\n       <use x=\"63.623047\" xlink:href=\"#DejaVuSans-46\"/>\r\n       <use x=\"95.410156\" xlink:href=\"#DejaVuSans-48\"/>\r\n      </g>\r\n     </g>\r\n    </g>\r\n    <g id=\"ytick_10\">\r\n     <g id=\"line2d_12\">\r\n      <g>\r\n       <use style=\"stroke:#000000;stroke-width:0.8;\" x=\"106.7226\" xlink:href=\"#mc54b5a27d8\" y=\"86.107522\"/>\r\n      </g>\r\n     </g>\r\n     <g id=\"text_12\">\r\n      <!-- 0.5 -->\r\n      <g transform=\"translate(113.7226 89.906741)scale(0.1 -0.1)\">\r\n       <use xlink:href=\"#DejaVuSans-48\"/>\r\n       <use x=\"63.623047\" xlink:href=\"#DejaVuSans-46\"/>\r\n       <use x=\"95.410156\" xlink:href=\"#DejaVuSans-53\"/>\r\n      </g>\r\n     </g>\r\n    </g>\r\n    <g id=\"ytick_11\">\r\n     <g id=\"line2d_13\">\r\n      <g>\r\n       <use style=\"stroke:#000000;stroke-width:0.8;\" x=\"106.7226\" xlink:href=\"#mc54b5a27d8\" y=\"56.960322\"/>\r\n      </g>\r\n     </g>\r\n     <g id=\"text_13\">\r\n      <!-- 1.0 -->\r\n      <g transform=\"translate(113.7226 60.759541)scale(0.1 -0.1)\">\r\n       <use xlink:href=\"#DejaVuSans-49\"/>\r\n       <use x=\"63.623047\" xlink:href=\"#DejaVuSans-46\"/>\r\n       <use x=\"95.410156\" xlink:href=\"#DejaVuSans-48\"/>\r\n      </g>\r\n     </g>\r\n    </g>\r\n    <g id=\"ytick_12\">\r\n     <g id=\"line2d_14\">\r\n      <g>\r\n       <use style=\"stroke:#000000;stroke-width:0.8;\" x=\"106.7226\" xlink:href=\"#mc54b5a27d8\" y=\"27.813122\"/>\r\n      </g>\r\n     </g>\r\n     <g id=\"text_14\">\r\n      <!-- 1.5 -->\r\n      <g transform=\"translate(113.7226 31.61234)scale(0.1 -0.1)\">\r\n       <use xlink:href=\"#DejaVuSans-49\"/>\r\n       <use x=\"63.623047\" xlink:href=\"#DejaVuSans-46\"/>\r\n       <use x=\"95.410156\" xlink:href=\"#DejaVuSans-53\"/>\r\n      </g>\r\n     </g>\r\n    </g>\r\n   </g>\r\n   <g id=\"patch_8\">\r\n    <path d=\"M 95.8506 226.264819 \r\nL 95.8506 225.415444 \r\nL 95.8506 9.674194 \r\nL 95.8506 8.824819 \r\nL 106.7226 8.824819 \r\nL 106.7226 9.674194 \r\nL 106.7226 225.415444 \r\nL 106.7226 226.264819 \r\nz\r\n\" style=\"fill:none;stroke:#000000;stroke-linejoin:miter;stroke-width:0.8;\"/>\r\n   </g>\r\n  </g>\r\n </g>\r\n <defs>\r\n  <clipPath id=\"p6578174690\">\r\n   <rect height=\"217.44\" width=\"52.1856\" x=\"26.925\" y=\"8.824819\"/>\r\n  </clipPath>\r\n  <clipPath id=\"p048261afc8\">\r\n   <rect height=\"217.44\" width=\"10.872\" x=\"95.8506\" y=\"8.824819\"/>\r\n  </clipPath>\r\n </defs>\r\n</svg>\r\n",
      "image/png": "[encoded data removed]"
     },
     "metadata": {
      "needs_background": "light"
     }
    }
   ],
   "source": [
    "plt.imshow((state_final - state0)[3000:3050])\n",
    "plt.colorbar()"
   ]
  },
  {
   "cell_type": "code",
   "execution_count": null,
   "metadata": {},
   "outputs": [],
   "source": [
    "model_test = build_model( n_batters, n_pitchers, situation_size, embedding_dim, states, classes, seq_len )\n",
    "model_test.load_weights('..\\\\models\\\\prediction_model_v1')"
   ]
  },
  {
   "cell_type": "code",
   "execution_count": null,
   "metadata": {},
   "outputs": [],
   "source": [
    "model_test.layers[9].reset_states(states=np.expand_dims(state_final, axis=0))"
   ]
  },
  {
   "cell_type": "code",
   "execution_count": null,
   "metadata": {},
   "outputs": [],
   "source": [
    "outcome_preds = []\n",
    "pitch_count_preds = []\n",
    "for batch in range(batters_batched_test.shape[0]):\n",
    "    print(batch)\n",
    "    outcome_pred, pitch_count_pred = model_test([batters_batched_test.astype(np.int32)[batch:batch+1], pitchers_batched_test.astype(np.int32)[batch:batch+1], situation_batched_test.astype(np.float32)[batch:batch+1], outcome_batched_test.astype(np.int32)[batch:batch+1], pitch_count_batched_test.astype(np.float32)[batch:batch+1], batters_batched_plus_test.astype(np.int32)[batch:batch+1], pitchers_batched_plus_test.astype(np.int32)[batch:batch+1], situation_batched_plus_test.astype(np.float32)[batch:batch+1]])\n",
    "    outcome_preds += [outcome_pred.numpy()]\n",
    "    pitch_count_preds += [pitch_count_pred.numpy()]\n",
    "outcome_preds = np.stack(outcome_preds)\n",
    "pitch_count_preds = np.stack(pitch_count_preds)"
   ]
  },
  {
   "cell_type": "code",
   "execution_count": null,
   "metadata": {},
   "outputs": [],
   "source": [
    "outcomes_pred = np.reshape(outcome_preds, (-1, outcome_preds.shape[-1]))\n",
    "pitch_count_pred = np.reshape(pitch_count_preds, (-1, 3))"
   ]
  },
  {
   "cell_type": "code",
   "execution_count": null,
   "metadata": {},
   "outputs": [],
   "source": [
    "np.save('..\\\\data\\\\processed2\\\\model_v1_preds\\\\outcomes', outcomes_pred)\n",
    "np.save('..\\\\data\\\\processed2\\\\model_v1_preds\\\\pitch_counts', pitch_count_pred)"
   ]
  },
  {
   "cell_type": "code",
   "execution_count": null,
   "metadata": {
    "tags": [
     "outputPrepend"
    ]
   },
   "outputs": [],
   "source": [
    "for layer in model_test.layers:\n",
    "    for weight in layer.trainable_weights:\n",
    "        print(weight.name)\n",
    "        plt.imshow(weight.numpy())\n",
    "        plt.colorbar()\n",
    "        plt.show()"
   ]
  },
  {
   "cell_type": "code",
   "execution_count": null,
   "metadata": {},
   "outputs": [],
   "source": [
    "def get_sit_feed(X, outcome_dict):\n",
    "    sit_feed = {'inning' : int(round(X[0]) + 1),\n",
    "                'half inning' : int(round(X[1])),\n",
    "                'outs' : int(round(X[2])),\n",
    "                'visiting score' : int(round(X[3])),\n",
    "                'home score' : int(round(X[4])),\n",
    "                'first' : int(round(X[5])),\n",
    "                'second' : int(round(X[6])),\n",
    "                'third' : int(round(X[7]))}\n",
    "    return sit_feed\n",
    "\n",
    "def get_sit_out_test(y_test, ind):\n",
    "    test = [t[ind] for t in y_test]\n",
    "    sit_out = {'inning' : np.where(test[0])[0][0]+1,\n",
    "                'half inning' : int(round(test[1])),\n",
    "                'outs' : np.where(test[2])[0][0],\n",
    "                'visiting score' : np.where(test[3])[0][0],\n",
    "                'home score' : np.where(test[4])[0][0],\n",
    "                'first' : int(round(test[5])),\n",
    "                'second' : int(round(test[6])),\n",
    "                'third' : int(round(test[7]))}\n",
    "    return sit_out"
   ]
  },
  {
   "cell_type": "code",
   "execution_count": null,
   "metadata": {},
   "outputs": [],
   "source": [
    "cats = df['event_final'].astype('category')\n",
    "bats = df['res batter'].astype('category')\n",
    "pits = df['res pitcher'].astype('category')\n",
    "\n",
    "outcome_dict = {}\n",
    "for i, cat in enumerate(cats.cat.categories):\n",
    "    outcome_dict[cat] = i\n",
    "outcome_dict_rev = dict(enumerate(cats.cat.categories))\n",
    "N_outcomes = len(outcome_dict)\n",
    "\n",
    "bat_dict = {}\n",
    "for i, bat in enumerate(bats.cat.categories):\n",
    "    bat_dict[cat] = i\n",
    "bat_dict_rev = dict(enumerate(bats.cat.categories))\n",
    "\n",
    "pit_dict = {}\n",
    "for i, pit in enumerate(pits.cat.categories):\n",
    "    pit_dict[cat] = i\n",
    "pit_dict_rev = dict(enumerate(pits.cat.categories))"
   ]
  },
  {
   "cell_type": "code",
   "execution_count": null,
   "metadata": {},
   "outputs": [],
   "source": [
    "ev_order=df['event_final'].value_counts().index\n",
    "order = []\n",
    "for ev in ev_order:\n",
    "    order += [outcome_dict[ev]]"
   ]
  },
  {
   "cell_type": "code",
   "execution_count": null,
   "metadata": {},
   "outputs": [],
   "source": [
    "ind = 40020"
   ]
  },
  {
   "cell_type": "code",
   "execution_count": null,
   "metadata": {},
   "outputs": [],
   "source": [
    "ind += 1"
   ]
  },
  {
   "cell_type": "code",
   "execution_count": null,
   "metadata": {},
   "outputs": [],
   "source": [
    "sit_feed = get_sit_feed(situation_batched_test[ind // seq_len, ind % seq_len], outcome_dict_rev)"
   ]
  },
  {
   "cell_type": "code",
   "execution_count": null,
   "metadata": {},
   "outputs": [],
   "source": [
    "print(sit_feed)\n",
    "print(bat_dict_rev[batters_batched_test[ind // seq_len, ind % seq_len][0]])\n",
    "print(pit_dict_rev[pitchers_batched_test[ind // seq_len, ind % seq_len][0]-np.unique(batter).shape[0]])"
   ]
  },
  {
   "cell_type": "code",
   "execution_count": null,
   "metadata": {},
   "outputs": [],
   "source": [
    "plt.rcParams['figure.figsize'] = 16,8\n",
    "plt.bar(np.arange(20), outcomes_pred[ind][np.array(order)[:20]])\n",
    "plt.xticks(np.arange(20), ev_order[:20])\n",
    "plt.title('Probability of event')\n",
    "plt.ylim([0, 0.3])\n",
    "plt.show()"
   ]
  },
  {
   "cell_type": "code",
   "execution_count": null,
   "metadata": {},
   "outputs": [],
   "source": []
  }
 ],
 "metadata": {
  "language_info": {
   "name": "python",
   "codemirror_mode": {
    "name": "ipython",
    "version": 3
   },
   "version": "3.7.6-final"
  },
  "orig_nbformat": 2,
  "file_extension": ".py",
  "mimetype": "text/x-python",
  "name": "python",
  "npconvert_exporter": "python",
  "pygments_lexer": "ipython3",
  "version": 3,
  "kernelspec": {
   "name": "python37664bitmlbmodelconda994681d99e564ab3a8a565eb49518441",
   "display_name": "Python 3.7.6 64-bit ('mlb_model': conda)"
  }
 },
 "nbformat": 4,
 "nbformat_minor": 2
}