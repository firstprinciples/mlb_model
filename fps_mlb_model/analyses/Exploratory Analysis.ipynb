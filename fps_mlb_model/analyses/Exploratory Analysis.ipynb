{
 "nbformat": 4,
 "nbformat_minor": 2,
 "metadata": {
  "language_info": {
   "name": "python",
   "codemirror_mode": {
    "name": "ipython",
    "version": 3
   },
   "version": "3.7.3-final"
  },
  "orig_nbformat": 2,
  "file_extension": ".py",
  "mimetype": "text/x-python",
  "name": "python",
  "npconvert_exporter": "python",
  "pygments_lexer": "ipython3",
  "version": 3,
  "kernelspec": {
   "name": "python37664bitretroconda5edbee28fa404aa59e7e2665892ecb3c",
   "display_name": "Python 3.7.6 64-bit ('retro': conda)"
  }
 },
 "cells": [
  {
   "cell_type": "code",
   "execution_count": 1,
   "metadata": {},
   "outputs": [],
   "source": [
    "import pandas as pd\n",
    "import numpy as np"
   ]
  },
  {
   "cell_type": "code",
   "execution_count": 66,
   "metadata": {},
   "outputs": [],
   "source": [
    "df = pd.read_csv('..\\\\data\\\\processed\\\\final_dataset.csv', index_col=0)\n",
    "df = df[df['batter event flag']=='T']\n",
    "df.reset_index(0, inplace=True, drop=True)"
   ]
  },
  {
   "cell_type": "code",
   "execution_count": 33,
   "metadata": {},
   "outputs": [],
   "source": [
    "batter_event = []\n",
    "advances = []\n",
    "for event in df['event text']:\n",
    "    s = event.split('.')\n",
    "    if len(s) > 1:\n",
    "        batter_event += [s[0]]\n",
    "        advances += [s[-1]]\n",
    "    else:\n",
    "        batter_event += s\n",
    "        advances += ['']\n",
    "df['batter_event'] = batter_event\n",
    "df['advances'] = advances"
   ]
  },
  {
   "cell_type": "code",
   "execution_count": 14,
   "metadata": {},
   "outputs": [],
   "source": [
    "games = df.gameid.unique()\n",
    "batters = df['res batter'].unique()\n",
    "pitchers = df['res pitcher'].unique()"
   ]
  },
  {
   "cell_type": "code",
   "execution_count": 65,
   "metadata": {},
   "outputs": [
    {
     "output_type": "execute_result",
     "data": {
      "text/plain": "array(['S7/L', '53/G', 'D7/F', '43/G', '3/G', 'W', 'S7/G', 'K', '31/G',\n       '6/P', '8/F', '4/P', 'S9/F', '5/LDP', '64(1)3/GDP', '9/F', '63/G',\n       '8/L', '13/G-', 'HR/9/L'], dtype=object)"
     },
     "metadata": {},
     "execution_count": 65
    }
   ],
   "source": [
    "df[df['batter event flag']=='T']['batter_event'].unique()[:20]"
   ]
  },
  {
   "cell_type": "code",
   "execution_count": null,
   "metadata": {},
   "outputs": [],
   "source": []
  }
 ]
}