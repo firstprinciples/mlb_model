{
 "nbformat": 4,
 "nbformat_minor": 2,
 "metadata": {
  "language_info": {
   "name": "python",
   "codemirror_mode": {
    "name": "ipython",
    "version": 3
   },
   "version": "3.7.3-final"
  },
  "orig_nbformat": 2,
  "file_extension": ".py",
  "mimetype": "text/x-python",
  "name": "python",
  "npconvert_exporter": "python",
  "pygments_lexer": "ipython3",
  "version": 3,
  "kernelspec": {
   "name": "python37664bitretroconda5edbee28fa404aa59e7e2665892ecb3c",
   "display_name": "Python 3.7.6 64-bit ('retro': conda)"
  }
 },
 "cells": [
  {
   "cell_type": "code",
   "execution_count": 1,
   "metadata": {},
   "outputs": [],
   "source": [
    "import pandas as pd\n",
    "import numpy as np"
   ]
  },
  {
   "cell_type": "code",
   "execution_count": 2,
   "metadata": {},
   "outputs": [],
   "source": [
    "df = pd.read_csv('..\\\\data\\\\processed2\\\\final_dataset.csv', index_col=0)\n",
    "df = df[df['batter event flag']=='T']\n",
    "df.reset_index(0, inplace=True, drop=True)"
   ]
  },
  {
   "cell_type": "code",
   "execution_count": 3,
   "metadata": {},
   "outputs": [],
   "source": [
    "batter_event = []\n",
    "modifier = []\n",
    "advances = []\n",
    "for event in df['event text']:\n",
    "    s = event.split('.')\n",
    "    if len(s) > 1:\n",
    "        ev = s[0].split('/')\n",
    "        if len(ev) > 1:\n",
    "            batter_event += [ev[0]]\n",
    "            modifier += [ev[1]]\n",
    "        else:\n",
    "            batter_event += ev\n",
    "            modifier += ['']\n",
    "        advances += [s[-1]]\n",
    "    else:\n",
    "        ev = s[0].split('/')\n",
    "        if len(ev) > 1:\n",
    "            batter_event += [ev[0]]\n",
    "            modifier += [ev[1]]\n",
    "        else:\n",
    "            batter_event += ev\n",
    "            modifier += ['']\n",
    "        advances += ['']\n",
    "df['batter_event'] = batter_event\n",
    "df['modifier'] = modifier\n",
    "df['advances'] = advances"
   ]
  },
  {
   "cell_type": "code",
   "execution_count": 4,
   "metadata": {},
   "outputs": [],
   "source": [
    "games = df.gameid.unique()\n",
    "batters = df['res batter'].unique()\n",
    "pitchers = df['res pitcher'].unique()"
   ]
  },
  {
   "cell_type": "code",
   "execution_count": 5,
   "metadata": {},
   "outputs": [],
   "source": [
    "df['batter_event'] = [e.replace('!','') for e in df['batter_event']]"
   ]
  },
  {
   "cell_type": "code",
   "execution_count": 25,
   "metadata": {},
   "outputs": [],
   "source": [
    "replace_chars = ['+', '*', '.', '1', '2', '3', '>']\n",
    "for char in replace_chars:\n",
    "    df['pitch sequence'] = [s.replace(char, '') for s in df['pitch sequence']]"
   ]
  },
  {
   "cell_type": "code",
   "execution_count": 28,
   "metadata": {},
   "outputs": [],
   "source": [
    "df['num_pitches'] = [len(s) for s in df['pitch sequence']]\n",
    "df['strikeout looking'] = [s[-1]=='C' for s in df['pitch sequence']]"
   ]
  },
  {
   "cell_type": "code",
   "execution_count": 30,
   "metadata": {},
   "outputs": [],
   "source": [
    "df['fouls'] = df['num_pitches'] - df['strikes'] - df['balls']"
   ]
  },
  {
   "cell_type": "code",
   "execution_count": 32,
   "metadata": {},
   "outputs": [
    {
     "output_type": "execute_result",
     "data": {
      "text/plain": "Empty DataFrame\nColumns: [gameid, opp, inning, batting team, outs, balls, strikes, pitch sequence, visiting_score, home_score, res batter, res batter hand, res pitcher, res pitcher hand, 1st runner, 2nd runner, 3rd runner, event text, leadoff flag, pinchhit flag, defensive position, lineup position, event type, batter event flag, ab flag, hit value, sacrifice hit flag, sacrifice fly flag, outs on play, RBI on play, wild pitch flag, passed ball flag, num errors, batter dest, runner on 1st dest, runner on 2nd dest, runner on 3rd dest, team, year, month, day, game, date, batter_event, modifier, advances, num_pitches, strikeout looking, fouls]\nIndex: []\n\n[0 rows x 49 columns]",
      "text/html": "<div>\n<style scoped>\n    .dataframe tbody tr th:only-of-type {\n        vertical-align: middle;\n    }\n\n    .dataframe tbody tr th {\n        vertical-align: top;\n    }\n\n    .dataframe thead th {\n        text-align: right;\n    }\n</style>\n<table border=\"1\" class=\"dataframe\">\n  <thead>\n    <tr style=\"text-align: right;\">\n      <th></th>\n      <th>gameid</th>\n      <th>opp</th>\n      <th>inning</th>\n      <th>batting team</th>\n      <th>outs</th>\n      <th>balls</th>\n      <th>strikes</th>\n      <th>pitch sequence</th>\n      <th>visiting_score</th>\n      <th>home_score</th>\n      <th>...</th>\n      <th>month</th>\n      <th>day</th>\n      <th>game</th>\n      <th>date</th>\n      <th>batter_event</th>\n      <th>modifier</th>\n      <th>advances</th>\n      <th>num_pitches</th>\n      <th>strikeout looking</th>\n      <th>fouls</th>\n    </tr>\n  </thead>\n  <tbody>\n  </tbody>\n</table>\n<p>0 rows × 49 columns</p>\n</div>"
     },
     "metadata": {},
     "execution_count": 32
    }
   ],
   "source": [
    "df[df['fouls'] < 0]"
   ]
  },
  {
   "cell_type": "code",
   "execution_count": 16,
   "metadata": {},
   "outputs": [
    {
     "output_type": "execute_result",
     "data": {
      "text/plain": "K         176124\nW          69128\n8          60536\n9          47168\n7          44957\n43         44720\n63         43585\nS8         40244\nS7         36638\nS9         35243\n53         35059\n3          29869\nHR         26776\n13         16440\n4          16083\nD7         15934\n6          15452\n5          13049\nD9         11499\nD8         10027\n31          8773\nHP          8203\n64(1)       6123\nS6          5735\n64(1)3      5369\nS5          5140\nK23         4401\n46(1)3      4375\n2           3952\nIW          3823\n54(1)       3732\nS4          3594\n46(1)       3280\n54(1)3      3236\nDGR         2484\nE5          2309\nS1          2140\nE6          2022\n1           1758\nT9          1641\n23          1604\n36(1)       1561\nT8          1525\nS3          1296\nE4          1223\n6(1)3       1215\nK+SB2        962\nE3           772\n16(1)3       670\nFC6          658\nName: batter_event, dtype: int64"
     },
     "metadata": {},
     "execution_count": 16
    }
   ],
   "source": [
    "df['batter_event'].value_counts()[:50]"
   ]
  },
  {
   "cell_type": "code",
   "execution_count": null,
   "metadata": {},
   "outputs": [],
   "source": []
  }
 ]
}