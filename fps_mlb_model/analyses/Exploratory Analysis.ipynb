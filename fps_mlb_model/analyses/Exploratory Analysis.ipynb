{
 "nbformat": 4,
 "nbformat_minor": 2,
 "metadata": {
  "language_info": {
   "name": "python",
   "codemirror_mode": {
    "name": "ipython",
    "version": 3
   },
   "version": "3.7.3-final"
  },
  "orig_nbformat": 2,
  "file_extension": ".py",
  "mimetype": "text/x-python",
  "name": "python",
  "npconvert_exporter": "python",
  "pygments_lexer": "ipython3",
  "version": 3,
  "kernelspec": {
   "name": "python37664bitretroconda5edbee28fa404aa59e7e2665892ecb3c",
   "display_name": "Python 3.7.6 64-bit ('retro': conda)"
  }
 },
 "cells": [
  {
   "cell_type": "code",
   "execution_count": 1,
   "metadata": {},
   "outputs": [],
   "source": [
    "import pandas as pd\n",
    "import numpy as np"
   ]
  },
  {
   "cell_type": "code",
   "execution_count": 2,
   "metadata": {},
   "outputs": [],
   "source": [
    "df = pd.read_csv('..\\\\data\\\\processed\\\\final_dataset.csv', index_col=0)"
   ]
  },
  {
   "cell_type": "code",
   "execution_count": 33,
   "metadata": {},
   "outputs": [],
   "source": [
    "batter_event = []\n",
    "advances = []\n",
    "for event in df['event text']:\n",
    "    s = event.split('.')\n",
    "    if len(s) > 1:\n",
    "        batter_event += [s[0]]\n",
    "        advances += [s[-1]]\n",
    "    else:\n",
    "        batter_event += s\n",
    "        advances += ['']\n",
    "df['batter_event'] = batter_event\n",
    "df['advances'] = advances"
   ]
  },
  {
   "cell_type": "code",
   "execution_count": 14,
   "metadata": {},
   "outputs": [],
   "source": [
    "games = df.gameid.unique()\n",
    "batters = df['res batter'].unique()\n",
    "pitchers = df['res pitcher'].unique()"
   ]
  },
  {
   "cell_type": "code",
   "execution_count": 55,
   "metadata": {},
   "outputs": [
    {
     "output_type": "execute_result",
     "data": {
      "text/plain": "              gameid  opp  inning  batting team  outs  balls  strikes  \\\n31      BOS201004040  NYA       2             0     2      2        1   \n40      BOS201004040  NYA       2             0     2      3        2   \n44      BOS201004040  NYA       7             1     1      2        1   \n87      TEX201004050  TOR       3             0     2      2        2   \n110     TEX201004050  TOR       1             0     2      0        1   \n...              ...  ...     ...           ...   ...    ...      ...   \n936144  ANA201909290  HOU       3             1     0      0        0   \n936146  ANA201909290  HOU       3             0     2      0        0   \n936158  ANA201909290  HOU       2             0     0      0        2   \n936167  ANA201909290  HOU       2             0     2      0        0   \n936266  TEX201909290  NYA       3             0     2      2        2   \n\n        visiting_score  home_score res batter  ... runner on 2nd dest  \\\n31                   0           0   posaj001  ...                  0   \n40                   1           0   granc001  ...                  0   \n44                   7           5   pedrd001  ...                  0   \n87                   2           0   linda001  ...                  0   \n110                  0           0   wellv001  ...                  0   \n...                ...         ...        ...  ...                ...   \n936144               5           0   thaim001  ...                  0   \n936146               3           0   gurry001  ...                  0   \n936158               1           0   diaza003  ...                  0   \n936167               2           0   sprig001  ...                  0   \n936266               0           1   judga001  ...                  0   \n\n       runner on 3rd dest team  year month day game        date batter_event  \\\n31                      0  BOS  2010     4   4    0  2010-04-04       HR/9/L   \n40                      0  BOS  2010     4   4    0  2010-04-04      HR/89/F   \n44                      0  BOS  2010     4   4    0  2010-04-04       HR/7/F   \n87                      0  TEX  2010     4   5    0  2010-04-05       HR/9/L   \n110                     0  TEX  2010     4   5    0  2010-04-05       HR/7/F   \n...                   ...  ...   ...   ...  ..  ...         ...          ...   \n936144                  0  ANA  2019     9  29    0  2019-09-29       HR/8/F   \n936146                  0  ANA  2019     9  29    0  2019-09-29       HR/7/F   \n936158                  0  ANA  2019     9  29    0  2019-09-29       HR/8/F   \n936167                  0  ANA  2019     9  29    0  2019-09-29      HR/8/F+   \n936266                  0  TEX  2019     9  29    0  2019-09-29      HR/78/F   \n\n        advances  \n31                \n40                \n44           1-H  \n87                \n110          1-H  \n...          ...  \n936144            \n936146       1-H  \n936158            \n936167            \n936266            \n\n[26830 rows x 44 columns]",
      "text/html": "<div>\n<style scoped>\n    .dataframe tbody tr th:only-of-type {\n        vertical-align: middle;\n    }\n\n    .dataframe tbody tr th {\n        vertical-align: top;\n    }\n\n    .dataframe thead th {\n        text-align: right;\n    }\n</style>\n<table border=\"1\" class=\"dataframe\">\n  <thead>\n    <tr style=\"text-align: right;\">\n      <th></th>\n      <th>gameid</th>\n      <th>opp</th>\n      <th>inning</th>\n      <th>batting team</th>\n      <th>outs</th>\n      <th>balls</th>\n      <th>strikes</th>\n      <th>visiting_score</th>\n      <th>home_score</th>\n      <th>res batter</th>\n      <th>...</th>\n      <th>runner on 2nd dest</th>\n      <th>runner on 3rd dest</th>\n      <th>team</th>\n      <th>year</th>\n      <th>month</th>\n      <th>day</th>\n      <th>game</th>\n      <th>date</th>\n      <th>batter_event</th>\n      <th>advances</th>\n    </tr>\n  </thead>\n  <tbody>\n    <tr>\n      <th>31</th>\n      <td>BOS201004040</td>\n      <td>NYA</td>\n      <td>2</td>\n      <td>0</td>\n      <td>2</td>\n      <td>2</td>\n      <td>1</td>\n      <td>0</td>\n      <td>0</td>\n      <td>posaj001</td>\n      <td>...</td>\n      <td>0</td>\n      <td>0</td>\n      <td>BOS</td>\n      <td>2010</td>\n      <td>4</td>\n      <td>4</td>\n      <td>0</td>\n      <td>2010-04-04</td>\n      <td>HR/9/L</td>\n      <td></td>\n    </tr>\n    <tr>\n      <th>40</th>\n      <td>BOS201004040</td>\n      <td>NYA</td>\n      <td>2</td>\n      <td>0</td>\n      <td>2</td>\n      <td>3</td>\n      <td>2</td>\n      <td>1</td>\n      <td>0</td>\n      <td>granc001</td>\n      <td>...</td>\n      <td>0</td>\n      <td>0</td>\n      <td>BOS</td>\n      <td>2010</td>\n      <td>4</td>\n      <td>4</td>\n      <td>0</td>\n      <td>2010-04-04</td>\n      <td>HR/89/F</td>\n      <td></td>\n    </tr>\n    <tr>\n      <th>44</th>\n      <td>BOS201004040</td>\n      <td>NYA</td>\n      <td>7</td>\n      <td>1</td>\n      <td>1</td>\n      <td>2</td>\n      <td>1</td>\n      <td>7</td>\n      <td>5</td>\n      <td>pedrd001</td>\n      <td>...</td>\n      <td>0</td>\n      <td>0</td>\n      <td>BOS</td>\n      <td>2010</td>\n      <td>4</td>\n      <td>4</td>\n      <td>0</td>\n      <td>2010-04-04</td>\n      <td>HR/7/F</td>\n      <td>1-H</td>\n    </tr>\n    <tr>\n      <th>87</th>\n      <td>TEX201004050</td>\n      <td>TOR</td>\n      <td>3</td>\n      <td>0</td>\n      <td>2</td>\n      <td>2</td>\n      <td>2</td>\n      <td>2</td>\n      <td>0</td>\n      <td>linda001</td>\n      <td>...</td>\n      <td>0</td>\n      <td>0</td>\n      <td>TEX</td>\n      <td>2010</td>\n      <td>4</td>\n      <td>5</td>\n      <td>0</td>\n      <td>2010-04-05</td>\n      <td>HR/9/L</td>\n      <td></td>\n    </tr>\n    <tr>\n      <th>110</th>\n      <td>TEX201004050</td>\n      <td>TOR</td>\n      <td>1</td>\n      <td>0</td>\n      <td>2</td>\n      <td>0</td>\n      <td>1</td>\n      <td>0</td>\n      <td>0</td>\n      <td>wellv001</td>\n      <td>...</td>\n      <td>0</td>\n      <td>0</td>\n      <td>TEX</td>\n      <td>2010</td>\n      <td>4</td>\n      <td>5</td>\n      <td>0</td>\n      <td>2010-04-05</td>\n      <td>HR/7/F</td>\n      <td>1-H</td>\n    </tr>\n    <tr>\n      <th>...</th>\n      <td>...</td>\n      <td>...</td>\n      <td>...</td>\n      <td>...</td>\n      <td>...</td>\n      <td>...</td>\n      <td>...</td>\n      <td>...</td>\n      <td>...</td>\n      <td>...</td>\n      <td>...</td>\n      <td>...</td>\n      <td>...</td>\n      <td>...</td>\n      <td>...</td>\n      <td>...</td>\n      <td>...</td>\n      <td>...</td>\n      <td>...</td>\n      <td>...</td>\n      <td>...</td>\n    </tr>\n    <tr>\n      <th>936144</th>\n      <td>ANA201909290</td>\n      <td>HOU</td>\n      <td>3</td>\n      <td>1</td>\n      <td>0</td>\n      <td>0</td>\n      <td>0</td>\n      <td>5</td>\n      <td>0</td>\n      <td>thaim001</td>\n      <td>...</td>\n      <td>0</td>\n      <td>0</td>\n      <td>ANA</td>\n      <td>2019</td>\n      <td>9</td>\n      <td>29</td>\n      <td>0</td>\n      <td>2019-09-29</td>\n      <td>HR/8/F</td>\n      <td></td>\n    </tr>\n    <tr>\n      <th>936146</th>\n      <td>ANA201909290</td>\n      <td>HOU</td>\n      <td>3</td>\n      <td>0</td>\n      <td>2</td>\n      <td>0</td>\n      <td>0</td>\n      <td>3</td>\n      <td>0</td>\n      <td>gurry001</td>\n      <td>...</td>\n      <td>0</td>\n      <td>0</td>\n      <td>ANA</td>\n      <td>2019</td>\n      <td>9</td>\n      <td>29</td>\n      <td>0</td>\n      <td>2019-09-29</td>\n      <td>HR/7/F</td>\n      <td>1-H</td>\n    </tr>\n    <tr>\n      <th>936158</th>\n      <td>ANA201909290</td>\n      <td>HOU</td>\n      <td>2</td>\n      <td>0</td>\n      <td>0</td>\n      <td>0</td>\n      <td>2</td>\n      <td>1</td>\n      <td>0</td>\n      <td>diaza003</td>\n      <td>...</td>\n      <td>0</td>\n      <td>0</td>\n      <td>ANA</td>\n      <td>2019</td>\n      <td>9</td>\n      <td>29</td>\n      <td>0</td>\n      <td>2019-09-29</td>\n      <td>HR/8/F</td>\n      <td></td>\n    </tr>\n    <tr>\n      <th>936167</th>\n      <td>ANA201909290</td>\n      <td>HOU</td>\n      <td>2</td>\n      <td>0</td>\n      <td>2</td>\n      <td>0</td>\n      <td>0</td>\n      <td>2</td>\n      <td>0</td>\n      <td>sprig001</td>\n      <td>...</td>\n      <td>0</td>\n      <td>0</td>\n      <td>ANA</td>\n      <td>2019</td>\n      <td>9</td>\n      <td>29</td>\n      <td>0</td>\n      <td>2019-09-29</td>\n      <td>HR/8/F+</td>\n      <td></td>\n    </tr>\n    <tr>\n      <th>936266</th>\n      <td>TEX201909290</td>\n      <td>NYA</td>\n      <td>3</td>\n      <td>0</td>\n      <td>2</td>\n      <td>2</td>\n      <td>2</td>\n      <td>0</td>\n      <td>1</td>\n      <td>judga001</td>\n      <td>...</td>\n      <td>0</td>\n      <td>0</td>\n      <td>TEX</td>\n      <td>2019</td>\n      <td>9</td>\n      <td>29</td>\n      <td>0</td>\n      <td>2019-09-29</td>\n      <td>HR/78/F</td>\n      <td></td>\n    </tr>\n  </tbody>\n</table>\n<p>26830 rows × 44 columns</p>\n</div>"
     },
     "metadata": {},
     "execution_count": 55
    }
   ],
   "source": [
    "df[df['event type']==23]"
   ]
  },
  {
   "cell_type": "code",
   "execution_count": null,
   "metadata": {},
   "outputs": [],
   "source": []
  }
 ]
}