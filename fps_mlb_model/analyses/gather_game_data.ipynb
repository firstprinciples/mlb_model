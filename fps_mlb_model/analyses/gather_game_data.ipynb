{
 "cells": [
  {
   "cell_type": "code",
   "execution_count": 1,
   "metadata": {},
   "outputs": [],
   "source": [
    "import os\n",
    "import pandas as pd"
   ]
  },
  {
   "cell_type": "code",
   "execution_count": 2,
   "metadata": {},
   "outputs": [],
   "source": [
    "cols = [\"gameid\",\"date\",\"game number\",\"day of week\",\"start time\",\"DH used flag\",\"day/night flag\",\"visiting team\",\"home team\",\"game site\",\"visiting starting pitcher\",\"home starting pitcher\",\"home plate umpire\",\"first base umpire\",\"second base umpire\",\"third base umpire\",\"left field umpire\",\"right field umpire\",\"attendance\",\"PS scorer\",\"translator\",\"inputter\",\"input time\",\"edit time\",\"how scored\",\"pitches entered?\",\"temperature\",\"wind direction\",\"wind speed\",\"field condition\",\"precipitation\",\"sky\",\"time of game\",\"number of innings\",\"visitor final score\",\"home final score\",\"visitor hits\", \"home hits\", \"visitor errors\", \"home errors\", \"visitor left on base\", \"home left on base\", \"winning pitcher\", \"losing pitcher\", \"save for\", \"GW RBI\", \"visitor batter 1\", \"visitor position 1\", \"visitor batter 2\", \"visitor position 2\", \"visitor batter 3\", \"visitor position 3\", \"visitor batter 4\", \"visitor position 4\", \"visitor batter 5\", \"visitor position 5\", \"visitor batter 6\", \"visitor position 6\", \"visitor batter 7\", \"visitor position 7\", \"visitor batter 8\", \"visitor position 8\", \"visitor batter 9\", \"visitor position 9\", \"home batter 1\", \"home position 1\", \"home batter 2\", \"home position 2\", \"home batter 3\", \"home position 3\", \"home batter 4\", \"home position 4\", \"home batter 5\", \"home position 5\", \"home batter 6\", \"home position 6\", \"home batter 7\", \"home position 7\", \"home batter 8\", \"home position 8\", \"home batter 9\", \"home position 9\", \"visitor finishing pitcher\", \"home finishing pitcher\", \"name of official scorer\"]"
   ]
  },
  {
   "cell_type": "code",
   "execution_count": 3,
   "metadata": {},
   "outputs": [],
   "source": [
    "folder = '..\\\\data\\\\transformed'\n",
    "year_folders = [f for f in os.listdir(folder) if os.path.isdir(os.path.join(folder,f))]"
   ]
  },
  {
   "cell_type": "code",
   "execution_count": 4,
   "metadata": {},
   "outputs": [],
   "source": [
    "teams = {}\n",
    "for f in year_folders:\n",
    "    files_list = os.listdir(os.path.join(folder,f))\n",
    "    files_list = [f for f in files_list if 'game_data' in f]\n",
    "    teams[int(f[:4])] = [f.split('.')[0] for f in files_list]"
   ]
  },
  {
   "cell_type": "code",
   "execution_count": 5,
   "metadata": {},
   "outputs": [
    {
     "output_type": "stream",
     "name": "stdout",
     "text": "2010_compiled\n2011_compiled\n2012_compiled\n2013_compiled\n2014_compiled\n2015_compiled\n2016_compiled\n2017_compiled\n2018_compiled\n2019_compiled\n"
    }
   ],
   "source": [
    "df = pd.DataFrame(columns=cols)\n",
    "for f in year_folders:\n",
    "    print(f)\n",
    "    for team in teams[int(f[:4])]:\n",
    "        df_import = pd.read_csv(folder+'\\\\'+f+'\\\\'+team+'.txt', header=None)\n",
    "        df_import.columns = cols\n",
    "        df = pd.concat((df, df_import), axis=0)\n",
    "df.reset_index(0, drop=True, inplace=True)"
   ]
  },
  {
   "cell_type": "code",
   "execution_count": 6,
   "metadata": {},
   "outputs": [
    {
     "output_type": "execute_result",
     "data": {
      "text/plain": "             gameid    date game number day of week start time DH used flag  \\\n0      ANA201004050  100405           0      Monday        708            T   \n1      ANA201004060  100406           0     Tuesday        708            T   \n2      ANA201004070  100407           0   Wednesday        708            T   \n3      ANA201004080  100408           0    Thursday        707            T   \n4      ANA201004090  100409           0      Friday        708            T   \n...             ...     ...         ...         ...        ...          ...   \n24292  WAS201909250  190925           0   Wednesday        705            F   \n24293  WAS201909260  190926           0    Thursday        406            F   \n24294  WAS201909270  190927           0      Friday        706            F   \n24295  WAS201909280  190928           0    Saturday        405            F   \n24296  WAS201909290  190929           0      Sunday        307            F   \n\n      day/night flag visiting team home team game site  ... home position 6  \\\n0                  N           MIN       ANA     ANA01  ...               7   \n1                  N           MIN       ANA     ANA01  ...               7   \n2                  N           MIN       ANA     ANA01  ...               7   \n3                  N           MIN       ANA     ANA01  ...               9   \n4                  N           OAK       ANA     ANA01  ...               7   \n...              ...           ...       ...       ...  ...             ...   \n24292              N           PHI       WAS     WAS11  ...               2   \n24293              D           PHI       WAS     WAS11  ...               2   \n24294              N           CLE       WAS     WAS11  ...               3   \n24295              D           CLE       WAS     WAS11  ...               3   \n24296              D           CLE       WAS     WAS11  ...               8   \n\n      home batter 7 home position 7 home batter 8 home position 8  \\\n0          kendh001               4      woodb003               5   \n1          kendh001               4      woodb003               5   \n2          kendh001               4      napom001               2   \n3          kendh001               4      iztum001               5   \n4          kendh001               4      woodb003               5   \n...             ...             ...           ...             ...   \n24292      roblv001               8      difow001               6   \n24293      taylm002               9      parrg001               7   \n24294      suzuk001               2      parrg001               8   \n24295      parrg001               8      gomey001               2   \n24296      dozib001               4      difow001               5   \n\n      home batter 9 home position 9 visitor finishing pitcher  \\\n0          mathj001               2                  neshp001   \n1          mathj001               2                  raucj001   \n2          woodb003               5                  raucj001   \n3          mathj001               2                  burna002   \n4          mathj001               2                  bresc001   \n...             ...             ...                       ...   \n24292      sanca004               1                  nicaj001   \n24293      stras001               1                  piven001   \n24294      votha001               1                  oterd001   \n24295      corbp001               1                  matop002   \n24296      rossj002               1                  carrc003   \n\n      home finishing pitcher name of official scorer  \n0                   fuenb001                munse701  \n1                   stokb001                munse701  \n2                   shies002                franm701  \n3                   rodnf001                munse701  \n4                   cassb001                franm701  \n...                      ...                     ...  \n24292               dools001                tritb701  \n24293               hudsd001                hetrd701  \n24294               raint003                tritb701  \n24295               dools001                hetrd701  \n24296               fedde001                hetrd701  \n\n[24297 rows x 85 columns]",
      "text/html": "<div>\n<style scoped>\n    .dataframe tbody tr th:only-of-type {\n        vertical-align: middle;\n    }\n\n    .dataframe tbody tr th {\n        vertical-align: top;\n    }\n\n    .dataframe thead th {\n        text-align: right;\n    }\n</style>\n<table border=\"1\" class=\"dataframe\">\n  <thead>\n    <tr style=\"text-align: right;\">\n      <th></th>\n      <th>gameid</th>\n      <th>date</th>\n      <th>game number</th>\n      <th>day of week</th>\n      <th>start time</th>\n      <th>DH used flag</th>\n      <th>day/night flag</th>\n      <th>visiting team</th>\n      <th>home team</th>\n      <th>game site</th>\n      <th>...</th>\n      <th>home position 6</th>\n      <th>home batter 7</th>\n      <th>home position 7</th>\n      <th>home batter 8</th>\n      <th>home position 8</th>\n      <th>home batter 9</th>\n      <th>home position 9</th>\n      <th>visitor finishing pitcher</th>\n      <th>home finishing pitcher</th>\n      <th>name of official scorer</th>\n    </tr>\n  </thead>\n  <tbody>\n    <tr>\n      <th>0</th>\n      <td>ANA201004050</td>\n      <td>100405</td>\n      <td>0</td>\n      <td>Monday</td>\n      <td>708</td>\n      <td>T</td>\n      <td>N</td>\n      <td>MIN</td>\n      <td>ANA</td>\n      <td>ANA01</td>\n      <td>...</td>\n      <td>7</td>\n      <td>kendh001</td>\n      <td>4</td>\n      <td>woodb003</td>\n      <td>5</td>\n      <td>mathj001</td>\n      <td>2</td>\n      <td>neshp001</td>\n      <td>fuenb001</td>\n      <td>munse701</td>\n    </tr>\n    <tr>\n      <th>1</th>\n      <td>ANA201004060</td>\n      <td>100406</td>\n      <td>0</td>\n      <td>Tuesday</td>\n      <td>708</td>\n      <td>T</td>\n      <td>N</td>\n      <td>MIN</td>\n      <td>ANA</td>\n      <td>ANA01</td>\n      <td>...</td>\n      <td>7</td>\n      <td>kendh001</td>\n      <td>4</td>\n      <td>woodb003</td>\n      <td>5</td>\n      <td>mathj001</td>\n      <td>2</td>\n      <td>raucj001</td>\n      <td>stokb001</td>\n      <td>munse701</td>\n    </tr>\n    <tr>\n      <th>2</th>\n      <td>ANA201004070</td>\n      <td>100407</td>\n      <td>0</td>\n      <td>Wednesday</td>\n      <td>708</td>\n      <td>T</td>\n      <td>N</td>\n      <td>MIN</td>\n      <td>ANA</td>\n      <td>ANA01</td>\n      <td>...</td>\n      <td>7</td>\n      <td>kendh001</td>\n      <td>4</td>\n      <td>napom001</td>\n      <td>2</td>\n      <td>woodb003</td>\n      <td>5</td>\n      <td>raucj001</td>\n      <td>shies002</td>\n      <td>franm701</td>\n    </tr>\n    <tr>\n      <th>3</th>\n      <td>ANA201004080</td>\n      <td>100408</td>\n      <td>0</td>\n      <td>Thursday</td>\n      <td>707</td>\n      <td>T</td>\n      <td>N</td>\n      <td>MIN</td>\n      <td>ANA</td>\n      <td>ANA01</td>\n      <td>...</td>\n      <td>9</td>\n      <td>kendh001</td>\n      <td>4</td>\n      <td>iztum001</td>\n      <td>5</td>\n      <td>mathj001</td>\n      <td>2</td>\n      <td>burna002</td>\n      <td>rodnf001</td>\n      <td>munse701</td>\n    </tr>\n    <tr>\n      <th>4</th>\n      <td>ANA201004090</td>\n      <td>100409</td>\n      <td>0</td>\n      <td>Friday</td>\n      <td>708</td>\n      <td>T</td>\n      <td>N</td>\n      <td>OAK</td>\n      <td>ANA</td>\n      <td>ANA01</td>\n      <td>...</td>\n      <td>7</td>\n      <td>kendh001</td>\n      <td>4</td>\n      <td>woodb003</td>\n      <td>5</td>\n      <td>mathj001</td>\n      <td>2</td>\n      <td>bresc001</td>\n      <td>cassb001</td>\n      <td>franm701</td>\n    </tr>\n    <tr>\n      <th>...</th>\n      <td>...</td>\n      <td>...</td>\n      <td>...</td>\n      <td>...</td>\n      <td>...</td>\n      <td>...</td>\n      <td>...</td>\n      <td>...</td>\n      <td>...</td>\n      <td>...</td>\n      <td>...</td>\n      <td>...</td>\n      <td>...</td>\n      <td>...</td>\n      <td>...</td>\n      <td>...</td>\n      <td>...</td>\n      <td>...</td>\n      <td>...</td>\n      <td>...</td>\n      <td>...</td>\n    </tr>\n    <tr>\n      <th>24292</th>\n      <td>WAS201909250</td>\n      <td>190925</td>\n      <td>0</td>\n      <td>Wednesday</td>\n      <td>705</td>\n      <td>F</td>\n      <td>N</td>\n      <td>PHI</td>\n      <td>WAS</td>\n      <td>WAS11</td>\n      <td>...</td>\n      <td>2</td>\n      <td>roblv001</td>\n      <td>8</td>\n      <td>difow001</td>\n      <td>6</td>\n      <td>sanca004</td>\n      <td>1</td>\n      <td>nicaj001</td>\n      <td>dools001</td>\n      <td>tritb701</td>\n    </tr>\n    <tr>\n      <th>24293</th>\n      <td>WAS201909260</td>\n      <td>190926</td>\n      <td>0</td>\n      <td>Thursday</td>\n      <td>406</td>\n      <td>F</td>\n      <td>D</td>\n      <td>PHI</td>\n      <td>WAS</td>\n      <td>WAS11</td>\n      <td>...</td>\n      <td>2</td>\n      <td>taylm002</td>\n      <td>9</td>\n      <td>parrg001</td>\n      <td>7</td>\n      <td>stras001</td>\n      <td>1</td>\n      <td>piven001</td>\n      <td>hudsd001</td>\n      <td>hetrd701</td>\n    </tr>\n    <tr>\n      <th>24294</th>\n      <td>WAS201909270</td>\n      <td>190927</td>\n      <td>0</td>\n      <td>Friday</td>\n      <td>706</td>\n      <td>F</td>\n      <td>N</td>\n      <td>CLE</td>\n      <td>WAS</td>\n      <td>WAS11</td>\n      <td>...</td>\n      <td>3</td>\n      <td>suzuk001</td>\n      <td>2</td>\n      <td>parrg001</td>\n      <td>8</td>\n      <td>votha001</td>\n      <td>1</td>\n      <td>oterd001</td>\n      <td>raint003</td>\n      <td>tritb701</td>\n    </tr>\n    <tr>\n      <th>24295</th>\n      <td>WAS201909280</td>\n      <td>190928</td>\n      <td>0</td>\n      <td>Saturday</td>\n      <td>405</td>\n      <td>F</td>\n      <td>D</td>\n      <td>CLE</td>\n      <td>WAS</td>\n      <td>WAS11</td>\n      <td>...</td>\n      <td>3</td>\n      <td>parrg001</td>\n      <td>8</td>\n      <td>gomey001</td>\n      <td>2</td>\n      <td>corbp001</td>\n      <td>1</td>\n      <td>matop002</td>\n      <td>dools001</td>\n      <td>hetrd701</td>\n    </tr>\n    <tr>\n      <th>24296</th>\n      <td>WAS201909290</td>\n      <td>190929</td>\n      <td>0</td>\n      <td>Sunday</td>\n      <td>307</td>\n      <td>F</td>\n      <td>D</td>\n      <td>CLE</td>\n      <td>WAS</td>\n      <td>WAS11</td>\n      <td>...</td>\n      <td>8</td>\n      <td>dozib001</td>\n      <td>4</td>\n      <td>difow001</td>\n      <td>5</td>\n      <td>rossj002</td>\n      <td>1</td>\n      <td>carrc003</td>\n      <td>fedde001</td>\n      <td>hetrd701</td>\n    </tr>\n  </tbody>\n</table>\n<p>24297 rows × 85 columns</p>\n</div>"
     },
     "metadata": {},
     "execution_count": 6
    }
   ],
   "source": [
    "df"
   ]
  },
  {
   "cell_type": "code",
   "execution_count": 7,
   "metadata": {},
   "outputs": [],
   "source": [
    "df['date'] = ['20'+str(d) for d in df['date'].values]"
   ]
  },
  {
   "cell_type": "code",
   "execution_count": 8,
   "metadata": {},
   "outputs": [],
   "source": [
    "df['date'] = pd.to_datetime(df['date'])"
   ]
  },
  {
   "cell_type": "code",
   "execution_count": 9,
   "metadata": {},
   "outputs": [],
   "source": [
    "#df.sort_values(by='date', inplace=True)"
   ]
  },
  {
   "cell_type": "code",
   "execution_count": 10,
   "metadata": {},
   "outputs": [],
   "source": [
    "df.reset_index(0, drop=True, inplace=True)"
   ]
  },
  {
   "cell_type": "code",
   "execution_count": 11,
   "metadata": {},
   "outputs": [],
   "source": [
    "df.to_csv('..\\\\data\\\\processed2\\\\final_dataset_games2.csv')"
   ]
  },
  {
   "cell_type": "code",
   "execution_count": null,
   "metadata": {},
   "outputs": [],
   "source": []
  }
 ],
 "metadata": {
  "language_info": {
   "name": "python",
   "codemirror_mode": {
    "name": "ipython",
    "version": 3
   },
   "version": "3.7.6-final"
  },
  "orig_nbformat": 2,
  "file_extension": ".py",
  "mimetype": "text/x-python",
  "name": "python",
  "npconvert_exporter": "python",
  "pygments_lexer": "ipython3",
  "version": 3,
  "kernelspec": {
   "name": "python37664bitretroconda5edbee28fa404aa59e7e2665892ecb3c",
   "display_name": "Python 3.7.6 64-bit ('retro': conda)"
  }
 },
 "nbformat": 4,
 "nbformat_minor": 2
}