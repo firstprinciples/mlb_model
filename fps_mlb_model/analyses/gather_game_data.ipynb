{
 "cells": [
  {
   "cell_type": "code",
   "execution_count": 1,
   "metadata": {},
   "outputs": [],
   "source": [
    "import os\n",
    "import pandas as pd"
   ]
  },
  {
   "cell_type": "code",
   "execution_count": 2,
   "metadata": {},
   "outputs": [],
   "source": [
    "cols = [\"gameid\",\"date\",\"game number\",\"day of week\",\"start time\",\"DH used flag\",\"day/night flag\",\"visiting team\",\"home team\",\"game site\",\"visiting starting pitcher\",\"home starting pitcher\",\"home plate umpire\",\"first base umpire\",\"second base umpire\",\"third base umpire\",\"left field umpire\",\"right field umpire\",\"attendance\",\"PS scorer\",\"translator\",\"inputter\",\"input time\",\"edit time\",\"how scored\",\"pitches entered?\",\"temperature\",\"wind direction\",\"wind speed\",\"field condition\",\"precipitation\",\"sky\",\"time of game\",\"number of innings\",\"visitor final score\",\"home final score\",\"visitor hits\", \"home hits\", \"visitor errors\", \"home errors\", \"visitor left on base\", \"home left on base\", \"winning pitcher\", \"losing pitcher\", \"save for\", \"GW RBI\", \"visitor batter 1\", \"visitor position 1\", \"visitor batter 2\", \"visitor position 2\", \"visitor batter 3\", \"visitor position 3\", \"visitor batter 4\", \"visitor position 4\", \"visitor batter 5\", \"visitor position 5\", \"visitor batter 6\", \"visitor position 6\", \"visitor batter 7\", \"visitor position 7\", \"visitor batter 8\", \"visitor position 8\", \"visitor batter 9\", \"visitor position 9\", \"home batter 1\", \"home position 1\", \"home batter 2\", \"home position 2\", \"home batter 3\", \"home position 3\", \"home batter 4\", \"home position 4\", \"home batter 5\", \"home position 5\", \"home batter 6\", \"home position 6\", \"home batter 7\", \"home position 7\", \"home batter 8\", \"home position 8\", \"home batter 9\", \"home position 9\", \"visitor finishing pitcher\", \"home finishing pitcher\", \"name of official scorer\"]"
   ]
  },
  {
   "cell_type": "code",
   "execution_count": 3,
   "metadata": {},
   "outputs": [],
   "source": [
    "folder = '..\\\\data\\\\transformed'\n",
    "year_folders = [f for f in os.listdir(folder) if os.path.isdir(os.path.join(folder,f))]"
   ]
  },
  {
   "cell_type": "code",
   "execution_count": 4,
   "metadata": {},
   "outputs": [],
   "source": [
    "teams = {}\n",
    "for f in year_folders:\n",
    "    files_list = os.listdir(os.path.join(folder,f))\n",
    "    files_list = [f for f in files_list if 'game_data' in f]\n",
    "    teams[int(f[:4])] = [f.split('.')[0] for f in files_list]"
   ]
  },
  {
   "cell_type": "code",
   "execution_count": 5,
   "metadata": {},
   "outputs": [
    {
     "output_type": "stream",
     "name": "stdout",
     "text": "2010_compiled\n2011_compiled\n2012_compiled\n2013_compiled\n2014_compiled\n2015_compiled\n2016_compiled\n2017_compiled\n2018_compiled\n2019_compiled\n"
    }
   ],
   "source": [
    "df = pd.DataFrame(columns=cols)\n",
    "for f in year_folders:\n",
    "    print(f)\n",
    "    for team in teams[int(f[:4])]:\n",
    "        df_import = pd.read_csv(folder+'\\\\'+f+'\\\\'+team+'.txt', header=None)\n",
    "        df_import.columns = cols\n",
    "        df = pd.concat((df, df_import), axis=0)\n",
    "df.reset_index(0, drop=True, inplace=True)"
   ]
  },
  {
   "cell_type": "code",
   "execution_count": 11,
   "metadata": {},
   "outputs": [
    {
     "output_type": "execute_result",
     "data": {
      "text/plain": "             gameid       date game number day of week start time  \\\n0      ANA201004050 2010-04-05           0      Monday        708   \n1      ANA201004060 2010-04-06           0     Tuesday        708   \n2      ANA201004070 2010-04-07           0   Wednesday        708   \n3      ANA201004080 2010-04-08           0    Thursday        707   \n4      ANA201004090 2010-04-09           0      Friday        708   \n...             ...        ...         ...         ...        ...   \n11900  TOR201909240 2019-09-24           0     Tuesday        707   \n11901  TOR201909250 2019-09-25           0   Wednesday        708   \n11902  TOR201909270 2019-09-27           0      Friday        707   \n11903  TOR201909280 2019-09-28           0    Saturday        308   \n11904  TOR201909290 2019-09-29           0      Sunday        308   \n\n      DH used flag day/night flag visiting team home team game site  ...  \\\n0                T              N           MIN       ANA     ANA01  ...   \n1                T              N           MIN       ANA     ANA01  ...   \n2                T              N           MIN       ANA     ANA01  ...   \n3                T              N           MIN       ANA     ANA01  ...   \n4                T              N           OAK       ANA     ANA01  ...   \n...            ...            ...           ...       ...       ...  ...   \n11900            T              N           BAL       TOR     TOR02  ...   \n11901            T              N           BAL       TOR     TOR02  ...   \n11902            T              N           TBA       TOR     TOR02  ...   \n11903            T              D           TBA       TOR     TOR02  ...   \n11904            T              D           TBA       TOR     TOR02  ...   \n\n      home position 6 home batter 7 home position 7 home batter 8  \\\n0                   7      kendh001               4      woodb003   \n1                   7      kendh001               4      woodb003   \n2                   7      kendh001               4      napom001   \n3                   9      kendh001               4      iztum001   \n4                   7      kendh001               4      woodb003   \n...               ...           ...             ...           ...   \n11900               5      tellr001               3      alfoa002   \n11901               8      drurb001               5      fishd001   \n11902               2      hernt002               8      urenr001   \n11903              10      alfoa002               7      jansd001   \n11904               5      urenr001               6      davij007   \n\n      home position 8 home batter 9 home position 9 visitor finishing pitcher  \\\n0                   5      mathj001               2                  neshp001   \n1                   5      mathj001               2                  raucj001   \n2                   2      woodb003               5                  raucj001   \n3                   5      mathj001               2                  burna002   \n4                   5      mathj001               2                  bresc001   \n...               ...           ...             ...                       ...   \n11900               8      fishd001               7                  scott004   \n11901               7      maill001               2                  bleir001   \n11902               6      fishd001               7                  pagae001   \n11903               2      urenr001               6                  beekj001   \n11904               8      maill001               2                  delej003   \n\n      home finishing pitcher name of official scorer  \n0                   fuenb001                munse701  \n1                   stokb001                munse701  \n2                   shies002                franm701  \n3                   rodnf001                munse701  \n4                   cassb001                franm701  \n...                      ...                     ...  \n11900               teper001                moreh701  \n11901               gilek001                moreh701  \n11902               dullr001                starh701  \n11903               gilek001                lajor701  \n11904               teper001                starh701  \n\n[11905 rows x 85 columns]",
      "text/html": "<div>\n<style scoped>\n    .dataframe tbody tr th:only-of-type {\n        vertical-align: middle;\n    }\n\n    .dataframe tbody tr th {\n        vertical-align: top;\n    }\n\n    .dataframe thead th {\n        text-align: right;\n    }\n</style>\n<table border=\"1\" class=\"dataframe\">\n  <thead>\n    <tr style=\"text-align: right;\">\n      <th></th>\n      <th>gameid</th>\n      <th>date</th>\n      <th>game number</th>\n      <th>day of week</th>\n      <th>start time</th>\n      <th>DH used flag</th>\n      <th>day/night flag</th>\n      <th>visiting team</th>\n      <th>home team</th>\n      <th>game site</th>\n      <th>...</th>\n      <th>home position 6</th>\n      <th>home batter 7</th>\n      <th>home position 7</th>\n      <th>home batter 8</th>\n      <th>home position 8</th>\n      <th>home batter 9</th>\n      <th>home position 9</th>\n      <th>visitor finishing pitcher</th>\n      <th>home finishing pitcher</th>\n      <th>name of official scorer</th>\n    </tr>\n  </thead>\n  <tbody>\n    <tr>\n      <th>0</th>\n      <td>ANA201004050</td>\n      <td>2010-04-05</td>\n      <td>0</td>\n      <td>Monday</td>\n      <td>708</td>\n      <td>T</td>\n      <td>N</td>\n      <td>MIN</td>\n      <td>ANA</td>\n      <td>ANA01</td>\n      <td>...</td>\n      <td>7</td>\n      <td>kendh001</td>\n      <td>4</td>\n      <td>woodb003</td>\n      <td>5</td>\n      <td>mathj001</td>\n      <td>2</td>\n      <td>neshp001</td>\n      <td>fuenb001</td>\n      <td>munse701</td>\n    </tr>\n    <tr>\n      <th>1</th>\n      <td>ANA201004060</td>\n      <td>2010-04-06</td>\n      <td>0</td>\n      <td>Tuesday</td>\n      <td>708</td>\n      <td>T</td>\n      <td>N</td>\n      <td>MIN</td>\n      <td>ANA</td>\n      <td>ANA01</td>\n      <td>...</td>\n      <td>7</td>\n      <td>kendh001</td>\n      <td>4</td>\n      <td>woodb003</td>\n      <td>5</td>\n      <td>mathj001</td>\n      <td>2</td>\n      <td>raucj001</td>\n      <td>stokb001</td>\n      <td>munse701</td>\n    </tr>\n    <tr>\n      <th>2</th>\n      <td>ANA201004070</td>\n      <td>2010-04-07</td>\n      <td>0</td>\n      <td>Wednesday</td>\n      <td>708</td>\n      <td>T</td>\n      <td>N</td>\n      <td>MIN</td>\n      <td>ANA</td>\n      <td>ANA01</td>\n      <td>...</td>\n      <td>7</td>\n      <td>kendh001</td>\n      <td>4</td>\n      <td>napom001</td>\n      <td>2</td>\n      <td>woodb003</td>\n      <td>5</td>\n      <td>raucj001</td>\n      <td>shies002</td>\n      <td>franm701</td>\n    </tr>\n    <tr>\n      <th>3</th>\n      <td>ANA201004080</td>\n      <td>2010-04-08</td>\n      <td>0</td>\n      <td>Thursday</td>\n      <td>707</td>\n      <td>T</td>\n      <td>N</td>\n      <td>MIN</td>\n      <td>ANA</td>\n      <td>ANA01</td>\n      <td>...</td>\n      <td>9</td>\n      <td>kendh001</td>\n      <td>4</td>\n      <td>iztum001</td>\n      <td>5</td>\n      <td>mathj001</td>\n      <td>2</td>\n      <td>burna002</td>\n      <td>rodnf001</td>\n      <td>munse701</td>\n    </tr>\n    <tr>\n      <th>4</th>\n      <td>ANA201004090</td>\n      <td>2010-04-09</td>\n      <td>0</td>\n      <td>Friday</td>\n      <td>708</td>\n      <td>T</td>\n      <td>N</td>\n      <td>OAK</td>\n      <td>ANA</td>\n      <td>ANA01</td>\n      <td>...</td>\n      <td>7</td>\n      <td>kendh001</td>\n      <td>4</td>\n      <td>woodb003</td>\n      <td>5</td>\n      <td>mathj001</td>\n      <td>2</td>\n      <td>bresc001</td>\n      <td>cassb001</td>\n      <td>franm701</td>\n    </tr>\n    <tr>\n      <th>...</th>\n      <td>...</td>\n      <td>...</td>\n      <td>...</td>\n      <td>...</td>\n      <td>...</td>\n      <td>...</td>\n      <td>...</td>\n      <td>...</td>\n      <td>...</td>\n      <td>...</td>\n      <td>...</td>\n      <td>...</td>\n      <td>...</td>\n      <td>...</td>\n      <td>...</td>\n      <td>...</td>\n      <td>...</td>\n      <td>...</td>\n      <td>...</td>\n      <td>...</td>\n      <td>...</td>\n    </tr>\n    <tr>\n      <th>11900</th>\n      <td>TOR201909240</td>\n      <td>2019-09-24</td>\n      <td>0</td>\n      <td>Tuesday</td>\n      <td>707</td>\n      <td>T</td>\n      <td>N</td>\n      <td>BAL</td>\n      <td>TOR</td>\n      <td>TOR02</td>\n      <td>...</td>\n      <td>5</td>\n      <td>tellr001</td>\n      <td>3</td>\n      <td>alfoa002</td>\n      <td>8</td>\n      <td>fishd001</td>\n      <td>7</td>\n      <td>scott004</td>\n      <td>teper001</td>\n      <td>moreh701</td>\n    </tr>\n    <tr>\n      <th>11901</th>\n      <td>TOR201909250</td>\n      <td>2019-09-25</td>\n      <td>0</td>\n      <td>Wednesday</td>\n      <td>708</td>\n      <td>T</td>\n      <td>N</td>\n      <td>BAL</td>\n      <td>TOR</td>\n      <td>TOR02</td>\n      <td>...</td>\n      <td>8</td>\n      <td>drurb001</td>\n      <td>5</td>\n      <td>fishd001</td>\n      <td>7</td>\n      <td>maill001</td>\n      <td>2</td>\n      <td>bleir001</td>\n      <td>gilek001</td>\n      <td>moreh701</td>\n    </tr>\n    <tr>\n      <th>11902</th>\n      <td>TOR201909270</td>\n      <td>2019-09-27</td>\n      <td>0</td>\n      <td>Friday</td>\n      <td>707</td>\n      <td>T</td>\n      <td>N</td>\n      <td>TBA</td>\n      <td>TOR</td>\n      <td>TOR02</td>\n      <td>...</td>\n      <td>2</td>\n      <td>hernt002</td>\n      <td>8</td>\n      <td>urenr001</td>\n      <td>6</td>\n      <td>fishd001</td>\n      <td>7</td>\n      <td>pagae001</td>\n      <td>dullr001</td>\n      <td>starh701</td>\n    </tr>\n    <tr>\n      <th>11903</th>\n      <td>TOR201909280</td>\n      <td>2019-09-28</td>\n      <td>0</td>\n      <td>Saturday</td>\n      <td>308</td>\n      <td>T</td>\n      <td>D</td>\n      <td>TBA</td>\n      <td>TOR</td>\n      <td>TOR02</td>\n      <td>...</td>\n      <td>10</td>\n      <td>alfoa002</td>\n      <td>7</td>\n      <td>jansd001</td>\n      <td>2</td>\n      <td>urenr001</td>\n      <td>6</td>\n      <td>beekj001</td>\n      <td>gilek001</td>\n      <td>lajor701</td>\n    </tr>\n    <tr>\n      <th>11904</th>\n      <td>TOR201909290</td>\n      <td>2019-09-29</td>\n      <td>0</td>\n      <td>Sunday</td>\n      <td>308</td>\n      <td>T</td>\n      <td>D</td>\n      <td>TBA</td>\n      <td>TOR</td>\n      <td>TOR02</td>\n      <td>...</td>\n      <td>5</td>\n      <td>urenr001</td>\n      <td>6</td>\n      <td>davij007</td>\n      <td>8</td>\n      <td>maill001</td>\n      <td>2</td>\n      <td>delej003</td>\n      <td>teper001</td>\n      <td>starh701</td>\n    </tr>\n  </tbody>\n</table>\n<p>11905 rows × 85 columns</p>\n</div>"
     },
     "metadata": {},
     "execution_count": 11
    }
   ],
   "source": [
    "df"
   ]
  },
  {
   "cell_type": "code",
   "execution_count": 9,
   "metadata": {},
   "outputs": [],
   "source": [
    "df['date'] = ['20'+str(d) for d in df['date'].values]"
   ]
  },
  {
   "cell_type": "code",
   "execution_count": 10,
   "metadata": {},
   "outputs": [],
   "source": [
    "df['date'] = pd.to_datetime(df['date'])"
   ]
  },
  {
   "cell_type": "code",
   "execution_count": 9,
   "metadata": {},
   "outputs": [],
   "source": [
    "#df.sort_values(by='date', inplace=True)"
   ]
  },
  {
   "cell_type": "code",
   "execution_count": 12,
   "metadata": {},
   "outputs": [],
   "source": [
    "df.reset_index(0, drop=True, inplace=True)"
   ]
  },
  {
   "cell_type": "code",
   "execution_count": 13,
   "metadata": {},
   "outputs": [],
   "source": [
    "df.to_csv('..\\\\data\\\\processed2\\\\final_dataset_games.csv')"
   ]
  },
  {
   "cell_type": "code",
   "execution_count": null,
   "metadata": {},
   "outputs": [],
   "source": []
  }
 ],
 "metadata": {
  "language_info": {
   "name": "python",
   "codemirror_mode": {
    "name": "ipython",
    "version": 3
   },
   "version": "3.7.6-final"
  },
  "orig_nbformat": 2,
  "file_extension": ".py",
  "mimetype": "text/x-python",
  "name": "python",
  "npconvert_exporter": "python",
  "pygments_lexer": "ipython3",
  "version": 3,
  "kernelspec": {
   "name": "python37664bitretroconda5edbee28fa404aa59e7e2665892ecb3c",
   "display_name": "Python 3.7.6 64-bit ('retro': conda)"
  }
 },
 "nbformat": 4,
 "nbformat_minor": 2
}