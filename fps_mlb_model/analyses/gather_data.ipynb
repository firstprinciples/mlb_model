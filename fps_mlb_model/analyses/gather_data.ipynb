{
 "nbformat": 4,
 "nbformat_minor": 2,
 "metadata": {
  "language_info": {
   "name": "python",
   "codemirror_mode": {
    "name": "ipython",
    "version": 3
   },
   "version": "3.7.3-final"
  },
  "orig_nbformat": 2,
  "file_extension": ".py",
  "mimetype": "text/x-python",
  "name": "python",
  "npconvert_exporter": "python",
  "pygments_lexer": "ipython3",
  "version": 3,
  "kernelspec": {
   "name": "python37664bitretroconda5edbee28fa404aa59e7e2665892ecb3c",
   "display_name": "Python 3.7.6 64-bit ('retro': conda)"
  }
 },
 "cells": [
  {
   "cell_type": "code",
   "execution_count": 1,
   "metadata": {},
   "outputs": [],
   "source": [
    "import os\n",
    "import pandas as pd"
   ]
  },
  {
   "cell_type": "code",
   "execution_count": 2,
   "metadata": {},
   "outputs": [],
   "source": [
    "cols = [\"gameid\",\"opp\",\"inning\",\"batting team\",\"outs\",\"balls\",\"strikes\",\"visiting_score\",\"home_score\",\"res batter\",\"res batter hand\",\"res pitcher\",\"res pitcher hand\",\"1st runner\",\"2nd runner\",\"3rd runner\",\"event text\",\"leadoff flag\",\"pinchhit flag\",\"defensive position\",\"lineup position\",\"event type\",\"batter event flag\",\"ab flag\",\"hit value\",\"sacrifice hit flag\",\"sacrifice fly flag\",\"outs on play\",\"RBI on play\",\"wild pitch flag\",\"passed ball flag\",\"num errors\",\"batter dest\",\"runner on 1st dest\",\"runner on 2nd dest\",\"runner on 3rd dest\"]"
   ]
  },
  {
   "cell_type": "code",
   "execution_count": 3,
   "metadata": {},
   "outputs": [],
   "source": [
    "folder = '..\\\\data\\\\transformed'\n",
    "year_folders = [f for f in os.listdir(folder) if os.path.isdir(os.path.join(folder,f))]"
   ]
  },
  {
   "cell_type": "code",
   "execution_count": 4,
   "metadata": {},
   "outputs": [],
   "source": [
    "teams = {}\n",
    "for f in year_folders:\n",
    "    files_list = os.listdir(os.path.join(folder,f))\n",
    "    teams[int(f[:4])] = [f.split('.')[0] for f in files_list]"
   ]
  },
  {
   "cell_type": "code",
   "execution_count": 10,
   "metadata": {},
   "outputs": [
    {
     "output_type": "stream",
     "name": "stdout",
     "text": "2010_compiled\n2011_compiled\n2012_compiled\n2013_compiled\n2014_compiled\n2015_compiled\n2016_compiled\n2017_compiled\n2018_compiled\n2019_compiled\n"
    }
   ],
   "source": [
    "df = pd.DataFrame(columns=cols)\n",
    "for f in year_folders:\n",
    "    print(f)\n",
    "    for team in teams[int(f[:4])]:\n",
    "        df_import = pd.read_csv(folder+'\\\\'+f+'\\\\'+team+'.txt', header=None)\n",
    "        df_import.columns = cols\n",
    "        df = pd.concat((df, df_import), axis=0)\n",
    "df.reset_index(0, drop=True, inplace=True)"
   ]
  },
  {
   "cell_type": "code",
   "execution_count": 14,
   "metadata": {},
   "outputs": [],
   "source": [
    "team = [s[:3] for s in df['gameid']]\n",
    "year = [s[3:7] for s in df['gameid']]\n",
    "month = [s[7:9] for s in df['gameid']]\n",
    "day = [s[9:11] for s in df['gameid']]\n",
    "game = [s[11:] for s in df['gameid']]\n",
    "date = [year[i]+'/'+month[i]+'/'+day[i] for i in range(len(year))]"
   ]
  },
  {
   "cell_type": "code",
   "execution_count": 15,
   "metadata": {},
   "outputs": [],
   "source": [
    "df['team'] = team\n",
    "df['year'] = year\n",
    "df['month'] = month\n",
    "df['day'] = day\n",
    "df['game'] = game\n",
    "df['date'] = date"
   ]
  },
  {
   "cell_type": "code",
   "execution_count": 18,
   "metadata": {},
   "outputs": [],
   "source": [
    "df['date'] = pd.to_datetime(df['date'])"
   ]
  },
  {
   "cell_type": "code",
   "execution_count": 20,
   "metadata": {},
   "outputs": [],
   "source": [
    "df.sort_values(by='date', inplace=True)"
   ]
  },
  {
   "cell_type": "code",
   "execution_count": 25,
   "metadata": {},
   "outputs": [],
   "source": [
    "df.reset_index(0, drop=True, inplace=True)"
   ]
  },
  {
   "cell_type": "code",
   "execution_count": 27,
   "metadata": {},
   "outputs": [],
   "source": [
    "df.to_csv('..\\\\data\\\\processed\\\\final_dataset.csv')"
   ]
  },
  {
   "cell_type": "code",
   "execution_count": null,
   "metadata": {},
   "outputs": [],
   "source": []
  }
 ]
}