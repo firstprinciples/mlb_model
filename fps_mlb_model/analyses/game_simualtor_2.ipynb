{
 "cells": [
  {
   "cell_type": "code",
   "execution_count": null,
   "metadata": {
    "tags": []
   },
   "outputs": [],
   "source": [
    "import pandas as pd\n",
    "import numpy as np\n",
    "import tensorflow as tf\n",
    "import datetime\n",
    "import matplotlib.pyplot as plt\n",
    "from keras_model import build_model_parallel"
   ]
  },
  {
   "cell_type": "code",
   "execution_count": null,
   "metadata": {},
   "outputs": [],
   "source": [
    "df = pd.read_csv('..\\\\data\\\\processed2\\\\processed_data2.csv', index_col=0)\n",
    "df_games = pd.read_csv('..\\\\data\\\\processed2\\\\final_dataset_games2.csv', index_col=1)\n",
    "df_games.drop(\"Unnamed: 0\", axis=1, inplace=True)"
   ]
  },
  {
   "cell_type": "code",
   "execution_count": null,
   "metadata": {},
   "outputs": [],
   "source": [
    "df.sort_values(by=['date', 'gameid'], inplace=True)\n",
    "df.reset_index(0, drop=True, inplace=True)"
   ]
  },
  {
   "cell_type": "code",
   "execution_count": null,
   "metadata": {},
   "outputs": [],
   "source": [
    "n_batters = len(df['res batter'].unique())\n",
    "n_pitchers = len(df['res pitcher'].unique())"
   ]
  },
  {
   "cell_type": "code",
   "execution_count": null,
   "metadata": {},
   "outputs": [],
   "source": [
    "n_batters"
   ]
  },
  {
   "cell_type": "code",
   "execution_count": null,
   "metadata": {},
   "outputs": [],
   "source": [
    "df['event_final'] = df['event_final'].astype('category')"
   ]
  },
  {
   "cell_type": "code",
   "execution_count": null,
   "metadata": {},
   "outputs": [],
   "source": [
    "df['event_final_code'] = df['event_final'].cat.codes"
   ]
  },
  {
   "cell_type": "code",
   "execution_count": null,
   "metadata": {},
   "outputs": [],
   "source": [
    "cats = df['event_final'].astype('category')\n",
    "bats = df['res batter'].astype('category')\n",
    "pits = df['res pitcher'].astype('category')\n",
    "\n",
    "outcome_dict = {}\n",
    "for i, cat in enumerate(cats.cat.categories):\n",
    "    outcome_dict[cat] = i\n",
    "outcome_dict_rev = dict(enumerate(cats.cat.categories))\n",
    "N_outcomes = len(outcome_dict)\n",
    "\n",
    "bat_dict = {}\n",
    "for i, bat in enumerate(bats.cat.categories):\n",
    "    bat_dict[bat] = i\n",
    "bat_dict_rev = dict(enumerate(bats.cat.categories))\n",
    "\n",
    "pit_dict = {}\n",
    "for i, pit in enumerate(pits.cat.categories):\n",
    "    pit_dict[pit] = i\n",
    "pit_dict_rev = dict(enumerate(pits.cat.categories))"
   ]
  },
  {
   "cell_type": "code",
   "execution_count": null,
   "metadata": {},
   "outputs": [],
   "source": [
    "ev_order=df['event_final'].value_counts().index\n",
    "order = []\n",
    "for ev in ev_order:\n",
    "    order += [outcome_dict[ev]]"
   ]
  },
  {
   "cell_type": "code",
   "execution_count": null,
   "metadata": {},
   "outputs": [],
   "source": [
    "df[(df['year']==2019)]"
   ]
  },
  {
   "cell_type": "code",
   "execution_count": null,
   "metadata": {},
   "outputs": [],
   "source": [
    "test = range(1680191, 1848937)"
   ]
  },
  {
   "cell_type": "code",
   "execution_count": null,
   "metadata": {},
   "outputs": [],
   "source": [
    "df = df.loc[test]"
   ]
  },
  {
   "cell_type": "code",
   "execution_count": null,
   "metadata": {},
   "outputs": [],
   "source": [
    "game_groups = df.groupby('gameid')"
   ]
  },
  {
   "cell_type": "code",
   "execution_count": null,
   "metadata": {},
   "outputs": [],
   "source": [
    "games = list(df.gameid.unique())"
   ]
  },
  {
   "cell_type": "code",
   "execution_count": null,
   "metadata": {},
   "outputs": [],
   "source": [
    "# games"
   ]
  },
  {
   "cell_type": "code",
   "execution_count": null,
   "metadata": {},
   "outputs": [],
   "source": [
    "sim_model = tf.keras.models.load_model('..\\\\models\\\\situation_prediction_tanh3')"
   ]
  },
  {
   "cell_type": "code",
   "execution_count": null,
   "metadata": {
    "tags": []
   },
   "outputs": [],
   "source": [
    "pred_model = build_model_parallel(n_batters, n_pitchers, 8, 12, 10, 113, 1, 2 )\n",
    "pred_model.load_weights('..\\\\models\\\\prediction_model_v4_51')"
   ]
  },
  {
   "cell_type": "code",
   "execution_count": null,
   "metadata": {},
   "outputs": [],
   "source": [
    "def update_situation(situation, outcome, model):\n",
    "    vals = np.array(list(situation.values()))[3:].astype(np.float32)\n",
    "    vals = vals.reshape(1, -1).astype(np.float32)\n",
    "    outcome = np.array([[outcome]]).astype(np.int32)\n",
    "    pred = model.predict([vals, outcome])\n",
    "    pred = [np.squeeze(p) for p in pred]\n",
    "    valid = False\n",
    "    count = 0\n",
    "    while not valid and count < 20:\n",
    "        count += 1\n",
    "        outs = situation['outs'] + np.random.choice(pred[0].shape[0], p=pred[0])\n",
    "        half_inning = situation['half inning']\n",
    "        inning = 0\n",
    "        if outs > 2:\n",
    "            half_inning = np.absolute(situation['half inning']-1)\n",
    "            if not half_inning:\n",
    "                inning = 1\n",
    "            visiting_score = 0\n",
    "            home_score = 0\n",
    "            first = second = third = 0\n",
    "            outs = 0\n",
    "        else:\n",
    "            visiting_score = np.random.choice(pred[1].shape[0], p=pred[1])\n",
    "            home_score = np.random.choice(pred[2].shape[0], p=pred[2])\n",
    "            first = np.random.choice(2, p=[1-pred[3], pred[3]])\n",
    "            second = np.random.choice(2, p=[1-pred[4], pred[4]])\n",
    "            third = np.random.choice(2, p=[1-pred[5], pred[5]])\n",
    "        situation_out = {'inning diff' : inning,\n",
    "                         'home score diff' : home_score,\n",
    "                         'visiting score diff' : visiting_score,\n",
    "                         'half inning' : half_inning,\n",
    "                         'outs' : outs,\n",
    "                         'first' : first,\n",
    "                         'second' : second,\n",
    "                         'third' : third}\n",
    "        valid, update = compare_situation(situation, situation_out)\n",
    "        situation_out = update\n",
    "    situation_out['inning'] = situation['inning'] + situation_out['inning diff']\n",
    "    situation_out['home score'] = situation['home score'] + situation_out['home score diff']\n",
    "    situation_out['visiting score'] = situation['visiting score'] + situation_out['visiting score diff']\n",
    "    return situation_out, pred\n",
    "\n",
    "def compare_situation(situation, update, verbose=0):\n",
    "    base_runners = situation['first'] + situation['second'] + situation['third']\n",
    "    base_runners_update = update['first'] + update['second'] + update['third']\n",
    "    base_runners_diff = base_runners_update - base_runners\n",
    "    if update['half inning'] != situation['half inning']:\n",
    "        return True, update\n",
    "    elif base_runners_diff > 1:\n",
    "        if verbose:\n",
    "            print('too many base runners')\n",
    "        return False, update\n",
    "    elif update['half inning']:\n",
    "        if (update['outs'] - situation['outs'] + update['home score diff'] - 1 != -base_runners_diff):\n",
    "            if verbose:\n",
    "                print('outs: '+str(update['outs']-situation['outs']))\n",
    "                print('home score diff: '+str(update['home score diff']))\n",
    "                print('base runners: '+str(update['first'])+', '+str(update['second'])+', '+str(update['third']))\n",
    "            return False, update\n",
    "        else:\n",
    "            return True, update\n",
    "    elif not update['half inning']:\n",
    "        if (update['outs'] - situation['outs'] + update['visiting score diff'] - 1 != -base_runners_diff):\n",
    "            if verbose:\n",
    "                print('outs: '+str(update['outs']-situation['outs']))\n",
    "                print('visiting score diff: '+str(update['visiting score diff']))\n",
    "                print('base runners: '+str(update['first'])+', '+str(update['second'])+', '+str(update['third']))\n",
    "            return False, update\n",
    "        else:\n",
    "            return True, update\n",
    "    else:\n",
    "        return True, update\n",
    "\n",
    "def get_sit_feed(sit, out, outcome_dict):\n",
    "    sit_feed = {'inning' : sit[0],\n",
    "                'home score' : sit[4], \n",
    "                'visiting score' : sit[3],\n",
    "                'half inning' : sit[1],\n",
    "                'outs' : sit[2],\n",
    "                'first' : sit[5],\n",
    "                'second' : sit[6],\n",
    "                'third' : sit[7]}\n",
    "    return sit_feed, outcome_dict[out]"
   ]
  },
  {
   "cell_type": "code",
   "execution_count": null,
   "metadata": {},
   "outputs": [],
   "source": [
    "home_bat_cols = [c for c in df_games.columns if 'home batter' in c]\n",
    "visit_bat_cols = [c for c in df_games.columns if 'visitor batter' in c]"
   ]
  },
  {
   "cell_type": "code",
   "execution_count": null,
   "metadata": {},
   "outputs": [],
   "source": [
    "def get_lineups(game_df, home_bat_cols=home_bat_cols, visit_bat_cols=visit_bat_cols):\n",
    "    home_pitcher = game_df.loc['home starting pitcher']\n",
    "    visit_pitcher = game_df.loc['visiting starting pitcher']\n",
    "    home_lineup = game_df.loc[home_bat_cols]\n",
    "    visitor_lineup = game_df.loc[visit_bat_cols]\n",
    "    for i, h in enumerate(home_lineup):\n",
    "        if h not in bat_dict.keys():\n",
    "            home_lineup[i] = 'aardd001'\n",
    "    for i, v in enumerate(visitor_lineup):\n",
    "        if v not in bat_dict.keys():\n",
    "            visitor_lineup[i] = 'aardd001'\n",
    "    return home_pitcher, visit_pitcher, home_lineup.values, visitor_lineup.values"
   ]
  },
  {
   "cell_type": "code",
   "execution_count": null,
   "metadata": {},
   "outputs": [],
   "source": [
    "def simulate_game(game_df, innings=5, verbose=False):\n",
    "    home_pitcher, visit_pitcher, home_lineup, visitor_lineup = get_lineups(game_df)\n",
    "    prev_batter = 0\n",
    "    prev_pitcher = 0\n",
    "    prev_outcome = 0\n",
    "    prev_pitch_count = [0, 0, 0]\n",
    "    prev_situation = [0, 0, 0, 0, 0, 0, 0, 0]\n",
    "    visit_order = 0\n",
    "    home_order = 0\n",
    "    at_bats = 0\n",
    "    home_pitches = 0\n",
    "    visitor_pitches = 0\n",
    "    outcomes = []\n",
    "    situation = {'inning': 0, 'half inning': 0,\n",
    "                 'outs': 0, 'visiting score': 0,\n",
    "                 'home score': 0, 'first': 0,\n",
    "                 'second': 0, 'third': 0}\n",
    "    situations = [situation]\n",
    "    batters = []\n",
    "    while (situation['inning'] < innings) & (at_bats < 100):\n",
    "        at_bats += 1\n",
    "        if situation['half inning'] == 0:\n",
    "            batters += [visitor_lineup[visit_order%len(visitor_lineup)]]\n",
    "            batter = bat_dict[batters[-1]]\n",
    "            pitcher = pit_dict[home_pitcher] + n_batters\n",
    "        else:\n",
    "            batters += [home_lineup[home_order%len(home_lineup)]]\n",
    "            batter = bat_dict[batters[-1]]\n",
    "            pitcher = pit_dict[visit_pitcher] + n_batters\n",
    "        prev_batter = np.array([[[prev_batter]]]).astype(np.int32)\n",
    "        prev_pitcher = np.array([[[prev_pitcher]]]).astype(np.int32)\n",
    "        prev_situation = np.array([[prev_situation]]).astype(np.float32)\n",
    "        prev_outcome = np.array([[prev_outcome]]).astype(np.int32)\n",
    "        prev_pitch_count = np.array([[prev_pitch_count]]).astype(np.float32)\n",
    "        batter = np.array([[[batter]]]).astype(np.int32)\n",
    "        pitcher = np.array([[[pitcher]]]).astype(np.int32)\n",
    "        sitch = np.array([[[situation['inning'], situation['half inning'], \n",
    "                   situation['outs'], situation['visiting score'], \n",
    "                   situation['home score'], situation['first'], \n",
    "                   situation['second'], situation['third']]]]).astype(np.float32)\n",
    "        outcome_pred, pitch_count_pred = pred_model([prev_batter, prev_pitcher, prev_situation,\n",
    "            prev_outcome, prev_pitch_count, batter, pitcher, sitch])\n",
    "        if situation['half inning'] == 0:\n",
    "            home_pitches += np.round(np.sum(pitch_count_pred))\n",
    "        else:\n",
    "            visitor_pitches += np.round(np.sum(pitch_count_pred))\n",
    "        prev_batter = np.squeeze(batter)\n",
    "        prev_pitcher = np.squeeze(pitcher)\n",
    "        prev_pitch_count = np.squeeze(pitch_count_pred)\n",
    "        prev_situation = np.squeeze(sitch)\n",
    "        visit_order += 1\n",
    "        home_order += 1\n",
    "        p = np.squeeze(outcome_pred.numpy())\n",
    "        outcome = np.random.choice(p.shape[0], p=p)\n",
    "        prev_outcome = outcome\n",
    "        outcomes += [outcome_dict_rev[outcome]]\n",
    "        sit_feed, dummy = get_sit_feed(np.squeeze(sitch), outcome, outcome_dict_rev)\n",
    "        if verbose:\n",
    "            print('situation')\n",
    "            print(sit_feed)\n",
    "            print('outcome')\n",
    "            print(outcome_dict_rev[outcome])\n",
    "        situation, pred = update_situation(sit_feed, outcome, sim_model)\n",
    "        situations += [situation]\n",
    "    return outcomes, situations, batters"
   ]
  },
  {
   "cell_type": "code",
   "execution_count": null,
   "metadata": {},
   "outputs": [],
   "source": [
    "def update_state(game):\n",
    "    df_game = df.loc[game_groups.groups[game]]\n",
    "    df_game = pd.concat((df_game, df_game.iloc[-1:, :]), axis=0)\n",
    "    batters = df_game['res batter'].values\n",
    "    situation = df_game[['inning', 'batting team', 'outs', 'visiting_score', 'home_score', 'first', 'second', 'third']].values\n",
    "    batters = df_game['res batter']\n",
    "    batter = []\n",
    "    for bat in batters:\n",
    "        batter += [bat_dict[bat]]\n",
    "    pitchers = df_game['res pitcher']\n",
    "    pitcher = []\n",
    "    for pit in pitchers:\n",
    "        pitcher += [pit_dict[pit]]\n",
    "    batter = np.array(batter)\n",
    "    pitcher = np.array(pitcher) + n_batters\n",
    "    balls = df_game['balls'].values\n",
    "    strikes = df_game['strikes'].values\n",
    "    fouls = df_game['fouls'].values\n",
    "    outcome = np.expand_dims(df_game['event_final_code'].values, axis=0).astype(np.int32)\n",
    "    situation[:, 0] -= 1\n",
    "    batter_ex = np.expand_dims(np.expand_dims(batter, axis=1), axis=0).astype(np.int32)\n",
    "    pitcher_ex = np.expand_dims(np.expand_dims(pitcher, axis=1), axis=0).astype(np.int32)\n",
    "    pitch_count = np.expand_dims(np.concatenate(\n",
    "        (np.expand_dims(balls, axis=1), np.expand_dims(strikes, axis=1), np.expand_dims(fouls, axis=1)), axis=1), axis=0).astype(np.float32)\n",
    "    situation = np.expand_dims(situation, axis=0).astype(np.float32)\n",
    "    for i in range(len(df_game)-1):\n",
    "        predictions = pred_model([batter_ex[:1, i:i+1], pitcher_ex[:1, i:i+1], situation[:1, i:i+1], outcome[:1, i:i+1], pitch_count[:1, i:i+1], batter_ex[:1, i+1:i+2], pitcher_ex[:1, i+1:i+2], situation[:1, i+1:i+2]])\n",
    "    state_0 = pred_model.layers[9].states[0].numpy()\n",
    "    state_1 = pred_model.layers[10].states[0].numpy()\n",
    "    return state_0, state_1"
   ]
  },
  {
   "cell_type": "code",
   "execution_count": null,
   "metadata": {},
   "outputs": [],
   "source": [
    "state_start_0 = np.load('..\\\\models\\\\prediction_model_v4_state1.npy')\n",
    "state_start_1 = np.load('..\\\\models\\\\prediction_model_v4_state2.npy')"
   ]
  },
  {
   "cell_type": "code",
   "execution_count": null,
   "metadata": {},
   "outputs": [],
   "source": [
    "logic = np.logical_and(np.logical_and(df['inning']==6, df['outs']==0), df['batting team']==0)\n",
    "df_f5_scores = df[logic].groupby('gameid').first()[['visiting_score', 'home_score']]"
   ]
  },
  {
   "cell_type": "code",
   "execution_count": null,
   "metadata": {},
   "outputs": [],
   "source": [
    "df_games = pd.concat((df_games, df_f5_scores), axis=1)"
   ]
  },
  {
   "cell_type": "code",
   "execution_count": null,
   "metadata": {
    "tags": [
     "outputPrepend"
    ]
   },
   "outputs": [],
   "source": [
    "situations = {}\n",
    "bins_spread = np.linspace(-6.5, 6.5, 14)\n",
    "bins_total = np.linspace(-0.5, 15.5, 17)\n",
    "bins = np.linspace(0, 10, 11)\n",
    "state_0 = np.expand_dims(state_start_0, axis=0)\n",
    "state_1 = np.expand_dims(state_start_1, axis=0)\n",
    "for game in games:\n",
    "    print(game)\n",
    "    situations[game] = []\n",
    "    for i in range(61):\n",
    "        pred_model.layers[9].reset_states(states=state_0)\n",
    "        pred_model.layers[10].reset_states(states=state_1)\n",
    "        if (i + 1) % 10 == 0:\n",
    "            print('game iter: '+str(i+1))\n",
    "        outcomes_i, situations_i, batters_i = simulate_game(df_games.loc[game], verbose=0)\n",
    "        situations[game] += [[situations_i[-1]['visiting score'], situations_i[-1]['home score']]]\n",
    "    situations[game] = np.stack(situations[game])\n",
    "    print('median delta (home_score - visiting_score)')\n",
    "    print(np.median(situations[game][:,1] - situations[game][:,0], axis=0))\n",
    "    print('median over/under (visiting_score + home_score)')\n",
    "    print(np.median(situations[game][:,0] + situations[game][:,1], axis=0))\n",
    "    print(df_games.loc[game, ['visiting_score', 'home_score']])\n",
    "    # print('visiting score distribution:')\n",
    "    # print(np.histogram(situations[game][:,0], bins=bins)[0])\n",
    "    # print('home score distribution:')\n",
    "    # print(np.histogram(situations[game][:,1], bins=bins)[0])\n",
    "    # plt.hist(situations[game][:,0], bins=bins, alpha=0.4, label='visitor score')\n",
    "    # plt.hist(situations[game][:,1], bins=bins, alpha=0.4, label='home score')\n",
    "    # plt.xlabel('score')\n",
    "    # plt.legend()\n",
    "    # plt.ylim([0, 30])\n",
    "    # plt.show()\n",
    "    # plt.hist(situations[game][:,1]-situations[game][:,0], bins=bins_spread, alpha=0.4)\n",
    "    # plt.xlabel('spread (home-away)')\n",
    "    # plt.ylim([0, 30])\n",
    "    # plt.show()\n",
    "    # plt.hist(situations[game][:,0]+situations[game][:,1], bins=bins_total, alpha=0.4)\n",
    "    # plt.xlabel('total')\n",
    "    # plt.ylim([0, 30])\n",
    "    # plt.show()\n",
    "    pred_model.layers[9].reset_states(states=state_0)\n",
    "    pred_model.layers[10].reset_states(states=state_1)\n",
    "    state_0, state_1 = update_state(game)"
   ]
  },
  {
   "cell_type": "code",
   "execution_count": null,
   "metadata": {},
   "outputs": [],
   "source": [
    "import joblib"
   ]
  },
  {
   "cell_type": "code",
   "execution_count": null,
   "metadata": {},
   "outputs": [],
   "source": [
    "joblib.dump(situations, '../data/processed2/2019_simulations_v4_3.joblib')"
   ]
  },
  {
   "cell_type": "code",
   "execution_count": null,
   "metadata": {},
   "outputs": [],
   "source": [
    "df_f5_scores.to_csv('../data/processed2/2019_f5_scores.csv')"
   ]
  },
  {
   "cell_type": "code",
   "execution_count": null,
   "metadata": {},
   "outputs": [],
   "source": []
  }
 ],
 "metadata": {
  "language_info": {
   "codemirror_mode": {
    "name": "ipython",
    "version": 3
   },
   "file_extension": ".py",
   "mimetype": "text/x-python",
   "name": "python",
   "nbconvert_exporter": "python",
   "pygments_lexer": "ipython3",
   "version": "3.7.6-final"
  },
  "orig_nbformat": 2,
  "kernelspec": {
   "name": "python37664bitmlbmodelconda994681d99e564ab3a8a565eb49518441",
   "display_name": "Python 3.7.6 64-bit ('mlb_model': conda)"
  }
 },
 "nbformat": 4,
 "nbformat_minor": 2
}