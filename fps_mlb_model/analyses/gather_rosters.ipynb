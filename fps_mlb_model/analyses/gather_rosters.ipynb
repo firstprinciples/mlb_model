{
 "cells": [
  {
   "cell_type": "code",
   "execution_count": 19,
   "metadata": {},
   "outputs": [],
   "source": [
    "import pandas as pd\n",
    "import numpy as np"
   ]
  },
  {
   "cell_type": "code",
   "execution_count": 7,
   "metadata": {},
   "outputs": [],
   "source": [
    "folder = '../data/raw/'\n",
    "files = os.listdir(folder)\n",
    "files = [f for f in files if '.ROS' in f]"
   ]
  },
  {
   "cell_type": "code",
   "execution_count": 13,
   "metadata": {},
   "outputs": [],
   "source": [
    "cols = ['ID', 'Last', 'First', 'Bat Hand', 'Throw Hand', 'Team', 'Position', 'Year']\n",
    "df = pd.DataFrame(columns=cols)\n",
    "for f in files:\n",
    "    p = os.path.join(folder, f)\n",
    "    df_new = pd.read_csv(p, header=None)\n",
    "    df_new['Year'] = int(f[3:7])\n",
    "    df_new.columns = cols\n",
    "    df = pd.concat((df, df_new), axis=0)\n",
    "df.reset_index(0, inplace=True, drop=True)"
   ]
  },
  {
   "cell_type": "code",
   "execution_count": 23,
   "metadata": {},
   "outputs": [],
   "source": [
    "df.to_csv('../data/processed2/rosters.csv')"
   ]
  },
  {
   "cell_type": "code",
   "execution_count": 20,
   "metadata": {},
   "outputs": [
    {
     "output_type": "execute_result",
     "data": {
      "text/plain": "             ID         Last     First Bat Hand Throw Hand Team Position  Year\n8222   renda001       Rendon   Anthony        R          R  WAS       2B  2019\n8225   schem001     Scherzer       Max        R          R  WAS        P  2019\n14578  adama002        Adams    Austin        R          R  WAS        P  2019\n14579  adamm002        Adams      Matt        L          R  WAS       1B  2019\n14580  barra001      Barrett     Aaron        R          R  WAS        P  2019\n14581  barrt004      Barrera      Tres        R          R  WAS        C  2019\n14582  barrk002  Barraclough      Kyle        R          R  WAS        P  2019\n14583  blazm001       Blazek   Michael        R          R  WAS        P  2019\n14584  bourj003      Bourque     James        R          R  WAS        P  2019\n14585  cabra002      Cabrera  Asdrubal        B          R  WAS       SS  2019\n14586  corbp001       Corbin   Patrick        L          L  WAS        P  2019\n14587  difow001         Difo    Wilmer        B          R  WAS       2B  2019\n14588  dools001    Doolittle      Sean        L          L  WAS        P  2019\n14589  dozib001       Dozier     Brian        R          R  WAS       2B  2019\n14590  eatoa002        Eaton      Adam        L          L  WAS       OF  2019\n14591  eliar001        Elias    Roenis        L          L  WAS        P  2019\n14592  fedde001        Fedde     Erick        R          R  WAS        P  2019\n14593  gomey001        Gomes       Yan        R          R  WAS        C  2019\n14594  gracm003        Grace      Matt        L          L  WAS        P  2019\n14595  guerj002       Guerra      Javy        R          R  WAS        P  2019\n14596  hellj001   Hellickson    Jeremy        R          R  WAS        P  2019\n14597  hudsd001       Hudson    Daniel        R          R  WAS        P  2019\n14598  jennd003     Jennings       Dan        L          L  WAS        P  2019\n14599  kendh001     Kendrick     Howie        R          R  WAS       2B  2019\n14600  kiebc001      Kieboom    Carter        R          R  WAS       SS  2019\n14601  mcgok002      McGowin      Kyle        R          R  WAS        P  2019\n14602  millj006       Miller    Justin        R          R  WAS        P  2019\n14603  nollj001         Noll      Jake        R          R  WAS       3B  2019\n14604  parrg001        Parra   Gerardo        L          L  WAS       OF  2019\n14605  raint003       Rainey    Tanner        R          R  WAS        P  2019\n14606  readr002         Read     Raudy        R          R  WAS        C  2019\n14607  renda001       Rendon   Anthony        R          R  WAS       2B  2019\n14608  roblv001       Robles    Victor        R          R  WAS       OF  2019\n14609  rodnf001       Rodney  Fernando        R          R  WAS        P  2019\n14610  roset001    Rosenthal    Trevor        R          R  WAS        P  2019\n14611  rossj002         Ross       Joe        R          R  WAS        P  2019\n14612  sanca004      Sanchez    Anibal        R          R  WAS        P  2019\n14613  sanca007      Sanchez    Adrian        R          R  WAS       2B  2019\n14614  schem001     Scherzer       Max        R          R  WAS        P  2019\n14615  sippt001         Sipp      Tony        L          L  WAS        P  2019\n14616  sotoj001         Soto      Juan        L          L  WAS       OF  2019\n14617  steva001    Stevenson    Andrew        L          L  WAS       OF  2019\n14618  stras001    Strasburg   Stephen        R          R  WAS        P  2019\n14619  strih001   Strickland    Hunter        R          R  WAS        P  2019\n14620  suerw002        Suero    Wander        R          R  WAS        P  2019\n14621  suzuk001       Suzuki      Kurt        R          R  WAS        C  2019\n14622  taylm002       Taylor   Michael        R          R  WAS       OF  2019\n14623  turnt001       Turner      Trea        R          R  WAS       SS  2019\n14624  ventj001      Venters     Jonny        L          L  WAS        P  2019\n14625  votha001         Voth    Austin        R          R  WAS        P  2019\n14626  willa003     Williams    Austen        R          R  WAS        P  2019\n14627  zimmr001    Zimmerman      Ryan        R          R  WAS       1B  2019",
      "text/html": "<div>\n<style scoped>\n    .dataframe tbody tr th:only-of-type {\n        vertical-align: middle;\n    }\n\n    .dataframe tbody tr th {\n        vertical-align: top;\n    }\n\n    .dataframe thead th {\n        text-align: right;\n    }\n</style>\n<table border=\"1\" class=\"dataframe\">\n  <thead>\n    <tr style=\"text-align: right;\">\n      <th></th>\n      <th>ID</th>\n      <th>Last</th>\n      <th>First</th>\n      <th>Bat Hand</th>\n      <th>Throw Hand</th>\n      <th>Team</th>\n      <th>Position</th>\n      <th>Year</th>\n    </tr>\n  </thead>\n  <tbody>\n    <tr>\n      <th>8222</th>\n      <td>renda001</td>\n      <td>Rendon</td>\n      <td>Anthony</td>\n      <td>R</td>\n      <td>R</td>\n      <td>WAS</td>\n      <td>2B</td>\n      <td>2019</td>\n    </tr>\n    <tr>\n      <th>8225</th>\n      <td>schem001</td>\n      <td>Scherzer</td>\n      <td>Max</td>\n      <td>R</td>\n      <td>R</td>\n      <td>WAS</td>\n      <td>P</td>\n      <td>2019</td>\n    </tr>\n    <tr>\n      <th>14578</th>\n      <td>adama002</td>\n      <td>Adams</td>\n      <td>Austin</td>\n      <td>R</td>\n      <td>R</td>\n      <td>WAS</td>\n      <td>P</td>\n      <td>2019</td>\n    </tr>\n    <tr>\n      <th>14579</th>\n      <td>adamm002</td>\n      <td>Adams</td>\n      <td>Matt</td>\n      <td>L</td>\n      <td>R</td>\n      <td>WAS</td>\n      <td>1B</td>\n      <td>2019</td>\n    </tr>\n    <tr>\n      <th>14580</th>\n      <td>barra001</td>\n      <td>Barrett</td>\n      <td>Aaron</td>\n      <td>R</td>\n      <td>R</td>\n      <td>WAS</td>\n      <td>P</td>\n      <td>2019</td>\n    </tr>\n    <tr>\n      <th>14581</th>\n      <td>barrt004</td>\n      <td>Barrera</td>\n      <td>Tres</td>\n      <td>R</td>\n      <td>R</td>\n      <td>WAS</td>\n      <td>C</td>\n      <td>2019</td>\n    </tr>\n    <tr>\n      <th>14582</th>\n      <td>barrk002</td>\n      <td>Barraclough</td>\n      <td>Kyle</td>\n      <td>R</td>\n      <td>R</td>\n      <td>WAS</td>\n      <td>P</td>\n      <td>2019</td>\n    </tr>\n    <tr>\n      <th>14583</th>\n      <td>blazm001</td>\n      <td>Blazek</td>\n      <td>Michael</td>\n      <td>R</td>\n      <td>R</td>\n      <td>WAS</td>\n      <td>P</td>\n      <td>2019</td>\n    </tr>\n    <tr>\n      <th>14584</th>\n      <td>bourj003</td>\n      <td>Bourque</td>\n      <td>James</td>\n      <td>R</td>\n      <td>R</td>\n      <td>WAS</td>\n      <td>P</td>\n      <td>2019</td>\n    </tr>\n    <tr>\n      <th>14585</th>\n      <td>cabra002</td>\n      <td>Cabrera</td>\n      <td>Asdrubal</td>\n      <td>B</td>\n      <td>R</td>\n      <td>WAS</td>\n      <td>SS</td>\n      <td>2019</td>\n    </tr>\n    <tr>\n      <th>14586</th>\n      <td>corbp001</td>\n      <td>Corbin</td>\n      <td>Patrick</td>\n      <td>L</td>\n      <td>L</td>\n      <td>WAS</td>\n      <td>P</td>\n      <td>2019</td>\n    </tr>\n    <tr>\n      <th>14587</th>\n      <td>difow001</td>\n      <td>Difo</td>\n      <td>Wilmer</td>\n      <td>B</td>\n      <td>R</td>\n      <td>WAS</td>\n      <td>2B</td>\n      <td>2019</td>\n    </tr>\n    <tr>\n      <th>14588</th>\n      <td>dools001</td>\n      <td>Doolittle</td>\n      <td>Sean</td>\n      <td>L</td>\n      <td>L</td>\n      <td>WAS</td>\n      <td>P</td>\n      <td>2019</td>\n    </tr>\n    <tr>\n      <th>14589</th>\n      <td>dozib001</td>\n      <td>Dozier</td>\n      <td>Brian</td>\n      <td>R</td>\n      <td>R</td>\n      <td>WAS</td>\n      <td>2B</td>\n      <td>2019</td>\n    </tr>\n    <tr>\n      <th>14590</th>\n      <td>eatoa002</td>\n      <td>Eaton</td>\n      <td>Adam</td>\n      <td>L</td>\n      <td>L</td>\n      <td>WAS</td>\n      <td>OF</td>\n      <td>2019</td>\n    </tr>\n    <tr>\n      <th>14591</th>\n      <td>eliar001</td>\n      <td>Elias</td>\n      <td>Roenis</td>\n      <td>L</td>\n      <td>L</td>\n      <td>WAS</td>\n      <td>P</td>\n      <td>2019</td>\n    </tr>\n    <tr>\n      <th>14592</th>\n      <td>fedde001</td>\n      <td>Fedde</td>\n      <td>Erick</td>\n      <td>R</td>\n      <td>R</td>\n      <td>WAS</td>\n      <td>P</td>\n      <td>2019</td>\n    </tr>\n    <tr>\n      <th>14593</th>\n      <td>gomey001</td>\n      <td>Gomes</td>\n      <td>Yan</td>\n      <td>R</td>\n      <td>R</td>\n      <td>WAS</td>\n      <td>C</td>\n      <td>2019</td>\n    </tr>\n    <tr>\n      <th>14594</th>\n      <td>gracm003</td>\n      <td>Grace</td>\n      <td>Matt</td>\n      <td>L</td>\n      <td>L</td>\n      <td>WAS</td>\n      <td>P</td>\n      <td>2019</td>\n    </tr>\n    <tr>\n      <th>14595</th>\n      <td>guerj002</td>\n      <td>Guerra</td>\n      <td>Javy</td>\n      <td>R</td>\n      <td>R</td>\n      <td>WAS</td>\n      <td>P</td>\n      <td>2019</td>\n    </tr>\n    <tr>\n      <th>14596</th>\n      <td>hellj001</td>\n      <td>Hellickson</td>\n      <td>Jeremy</td>\n      <td>R</td>\n      <td>R</td>\n      <td>WAS</td>\n      <td>P</td>\n      <td>2019</td>\n    </tr>\n    <tr>\n      <th>14597</th>\n      <td>hudsd001</td>\n      <td>Hudson</td>\n      <td>Daniel</td>\n      <td>R</td>\n      <td>R</td>\n      <td>WAS</td>\n      <td>P</td>\n      <td>2019</td>\n    </tr>\n    <tr>\n      <th>14598</th>\n      <td>jennd003</td>\n      <td>Jennings</td>\n      <td>Dan</td>\n      <td>L</td>\n      <td>L</td>\n      <td>WAS</td>\n      <td>P</td>\n      <td>2019</td>\n    </tr>\n    <tr>\n      <th>14599</th>\n      <td>kendh001</td>\n      <td>Kendrick</td>\n      <td>Howie</td>\n      <td>R</td>\n      <td>R</td>\n      <td>WAS</td>\n      <td>2B</td>\n      <td>2019</td>\n    </tr>\n    <tr>\n      <th>14600</th>\n      <td>kiebc001</td>\n      <td>Kieboom</td>\n      <td>Carter</td>\n      <td>R</td>\n      <td>R</td>\n      <td>WAS</td>\n      <td>SS</td>\n      <td>2019</td>\n    </tr>\n    <tr>\n      <th>14601</th>\n      <td>mcgok002</td>\n      <td>McGowin</td>\n      <td>Kyle</td>\n      <td>R</td>\n      <td>R</td>\n      <td>WAS</td>\n      <td>P</td>\n      <td>2019</td>\n    </tr>\n    <tr>\n      <th>14602</th>\n      <td>millj006</td>\n      <td>Miller</td>\n      <td>Justin</td>\n      <td>R</td>\n      <td>R</td>\n      <td>WAS</td>\n      <td>P</td>\n      <td>2019</td>\n    </tr>\n    <tr>\n      <th>14603</th>\n      <td>nollj001</td>\n      <td>Noll</td>\n      <td>Jake</td>\n      <td>R</td>\n      <td>R</td>\n      <td>WAS</td>\n      <td>3B</td>\n      <td>2019</td>\n    </tr>\n    <tr>\n      <th>14604</th>\n      <td>parrg001</td>\n      <td>Parra</td>\n      <td>Gerardo</td>\n      <td>L</td>\n      <td>L</td>\n      <td>WAS</td>\n      <td>OF</td>\n      <td>2019</td>\n    </tr>\n    <tr>\n      <th>14605</th>\n      <td>raint003</td>\n      <td>Rainey</td>\n      <td>Tanner</td>\n      <td>R</td>\n      <td>R</td>\n      <td>WAS</td>\n      <td>P</td>\n      <td>2019</td>\n    </tr>\n    <tr>\n      <th>14606</th>\n      <td>readr002</td>\n      <td>Read</td>\n      <td>Raudy</td>\n      <td>R</td>\n      <td>R</td>\n      <td>WAS</td>\n      <td>C</td>\n      <td>2019</td>\n    </tr>\n    <tr>\n      <th>14607</th>\n      <td>renda001</td>\n      <td>Rendon</td>\n      <td>Anthony</td>\n      <td>R</td>\n      <td>R</td>\n      <td>WAS</td>\n      <td>2B</td>\n      <td>2019</td>\n    </tr>\n    <tr>\n      <th>14608</th>\n      <td>roblv001</td>\n      <td>Robles</td>\n      <td>Victor</td>\n      <td>R</td>\n      <td>R</td>\n      <td>WAS</td>\n      <td>OF</td>\n      <td>2019</td>\n    </tr>\n    <tr>\n      <th>14609</th>\n      <td>rodnf001</td>\n      <td>Rodney</td>\n      <td>Fernando</td>\n      <td>R</td>\n      <td>R</td>\n      <td>WAS</td>\n      <td>P</td>\n      <td>2019</td>\n    </tr>\n    <tr>\n      <th>14610</th>\n      <td>roset001</td>\n      <td>Rosenthal</td>\n      <td>Trevor</td>\n      <td>R</td>\n      <td>R</td>\n      <td>WAS</td>\n      <td>P</td>\n      <td>2019</td>\n    </tr>\n    <tr>\n      <th>14611</th>\n      <td>rossj002</td>\n      <td>Ross</td>\n      <td>Joe</td>\n      <td>R</td>\n      <td>R</td>\n      <td>WAS</td>\n      <td>P</td>\n      <td>2019</td>\n    </tr>\n    <tr>\n      <th>14612</th>\n      <td>sanca004</td>\n      <td>Sanchez</td>\n      <td>Anibal</td>\n      <td>R</td>\n      <td>R</td>\n      <td>WAS</td>\n      <td>P</td>\n      <td>2019</td>\n    </tr>\n    <tr>\n      <th>14613</th>\n      <td>sanca007</td>\n      <td>Sanchez</td>\n      <td>Adrian</td>\n      <td>R</td>\n      <td>R</td>\n      <td>WAS</td>\n      <td>2B</td>\n      <td>2019</td>\n    </tr>\n    <tr>\n      <th>14614</th>\n      <td>schem001</td>\n      <td>Scherzer</td>\n      <td>Max</td>\n      <td>R</td>\n      <td>R</td>\n      <td>WAS</td>\n      <td>P</td>\n      <td>2019</td>\n    </tr>\n    <tr>\n      <th>14615</th>\n      <td>sippt001</td>\n      <td>Sipp</td>\n      <td>Tony</td>\n      <td>L</td>\n      <td>L</td>\n      <td>WAS</td>\n      <td>P</td>\n      <td>2019</td>\n    </tr>\n    <tr>\n      <th>14616</th>\n      <td>sotoj001</td>\n      <td>Soto</td>\n      <td>Juan</td>\n      <td>L</td>\n      <td>L</td>\n      <td>WAS</td>\n      <td>OF</td>\n      <td>2019</td>\n    </tr>\n    <tr>\n      <th>14617</th>\n      <td>steva001</td>\n      <td>Stevenson</td>\n      <td>Andrew</td>\n      <td>L</td>\n      <td>L</td>\n      <td>WAS</td>\n      <td>OF</td>\n      <td>2019</td>\n    </tr>\n    <tr>\n      <th>14618</th>\n      <td>stras001</td>\n      <td>Strasburg</td>\n      <td>Stephen</td>\n      <td>R</td>\n      <td>R</td>\n      <td>WAS</td>\n      <td>P</td>\n      <td>2019</td>\n    </tr>\n    <tr>\n      <th>14619</th>\n      <td>strih001</td>\n      <td>Strickland</td>\n      <td>Hunter</td>\n      <td>R</td>\n      <td>R</td>\n      <td>WAS</td>\n      <td>P</td>\n      <td>2019</td>\n    </tr>\n    <tr>\n      <th>14620</th>\n      <td>suerw002</td>\n      <td>Suero</td>\n      <td>Wander</td>\n      <td>R</td>\n      <td>R</td>\n      <td>WAS</td>\n      <td>P</td>\n      <td>2019</td>\n    </tr>\n    <tr>\n      <th>14621</th>\n      <td>suzuk001</td>\n      <td>Suzuki</td>\n      <td>Kurt</td>\n      <td>R</td>\n      <td>R</td>\n      <td>WAS</td>\n      <td>C</td>\n      <td>2019</td>\n    </tr>\n    <tr>\n      <th>14622</th>\n      <td>taylm002</td>\n      <td>Taylor</td>\n      <td>Michael</td>\n      <td>R</td>\n      <td>R</td>\n      <td>WAS</td>\n      <td>OF</td>\n      <td>2019</td>\n    </tr>\n    <tr>\n      <th>14623</th>\n      <td>turnt001</td>\n      <td>Turner</td>\n      <td>Trea</td>\n      <td>R</td>\n      <td>R</td>\n      <td>WAS</td>\n      <td>SS</td>\n      <td>2019</td>\n    </tr>\n    <tr>\n      <th>14624</th>\n      <td>ventj001</td>\n      <td>Venters</td>\n      <td>Jonny</td>\n      <td>L</td>\n      <td>L</td>\n      <td>WAS</td>\n      <td>P</td>\n      <td>2019</td>\n    </tr>\n    <tr>\n      <th>14625</th>\n      <td>votha001</td>\n      <td>Voth</td>\n      <td>Austin</td>\n      <td>R</td>\n      <td>R</td>\n      <td>WAS</td>\n      <td>P</td>\n      <td>2019</td>\n    </tr>\n    <tr>\n      <th>14626</th>\n      <td>willa003</td>\n      <td>Williams</td>\n      <td>Austen</td>\n      <td>R</td>\n      <td>R</td>\n      <td>WAS</td>\n      <td>P</td>\n      <td>2019</td>\n    </tr>\n    <tr>\n      <th>14627</th>\n      <td>zimmr001</td>\n      <td>Zimmerman</td>\n      <td>Ryan</td>\n      <td>R</td>\n      <td>R</td>\n      <td>WAS</td>\n      <td>1B</td>\n      <td>2019</td>\n    </tr>\n  </tbody>\n</table>\n</div>"
     },
     "metadata": {},
     "execution_count": 20
    }
   ],
   "source": [
    "df[np.logical_and(df['Team']=='WAS', df['Year']==2019)]"
   ]
  },
  {
   "cell_type": "code",
   "execution_count": null,
   "metadata": {},
   "outputs": [],
   "source": []
  }
 ],
 "metadata": {
  "language_info": {
   "codemirror_mode": {
    "name": "ipython",
    "version": 3
   },
   "file_extension": ".py",
   "mimetype": "text/x-python",
   "name": "python",
   "nbconvert_exporter": "python",
   "pygments_lexer": "ipython3",
   "version": "3.7.6-final"
  },
  "orig_nbformat": 2,
  "kernelspec": {
   "name": "python37664bitretroconda5edbee28fa404aa59e7e2665892ecb3c",
   "display_name": "Python 3.7.6 64-bit ('retro': conda)"
  }
 },
 "nbformat": 4,
 "nbformat_minor": 2
}