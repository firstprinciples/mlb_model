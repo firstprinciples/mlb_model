{
 "cells": [
  {
   "cell_type": "code",
   "execution_count": 1,
   "metadata": {},
   "outputs": [
    {
     "output_type": "stream",
     "name": "stderr",
     "text": "WARNING:root:Limited tf.compat.v2.summary API due to missing TensorBoard installation.\nWARNING:root:Limited tf.compat.v2.summary API due to missing TensorBoard installation.\nWARNING:root:Limited tf.compat.v2.summary API due to missing TensorBoard installation.\nWARNING:root:Limited tf.compat.v2.summary API due to missing TensorBoard installation.\nWARNING:root:Limited tf.compat.v2.summary API due to missing TensorBoard installation.\nWARNING:root:Limited tf.compat.v2.summary API due to missing TensorBoard installation.\nWARNING:root:Limited tf.summary API due to missing TensorBoard installation.\n"
    }
   ],
   "source": [
    "import pandas as pd\n",
    "import numpy as np\n",
    "import matplotlib.pyplot as plt\n",
    "import tensorflow as tf\n",
    "from tensorflow.keras.models import load_model\n",
    "from tensorflow.keras.layers import Input, Activation, Dense, Dropout, Embedding, concatenate, Reshape\n",
    "from tensorflow.keras import Model"
   ]
  },
  {
   "cell_type": "code",
   "execution_count": 2,
   "metadata": {},
   "outputs": [],
   "source": [
    "df = pd.read_csv('..\\\\data\\\\processed2\\\\processed_data2.csv', index_col=0)"
   ]
  },
  {
   "cell_type": "code",
   "execution_count": 3,
   "metadata": {},
   "outputs": [],
   "source": [
    "inds = df.index[df['inning']<9]"
   ]
  },
  {
   "cell_type": "code",
   "execution_count": 4,
   "metadata": {},
   "outputs": [],
   "source": [
    "df['event_final'] = df['event_final'].astype('category')\n",
    "inning = df['inning'].values\n",
    "df['inning_diff'] = np.maximum(0, np.minimum(1, inning[1:] - inning[:-1])).astype(int).tolist() + [0]\n",
    "df['inning_diff'] = df['inning_diff'].astype('category')\n",
    "outs = df['outs'].values\n",
    "df['outs_change'] = np.maximum(-2, np.minimum(3, outs[1:] - outs[:-1])).astype(int).tolist() + [0]\n",
    "df['outs_diff'] = df['outs_change']\n",
    "df.loc[df['outs_change']==-2, 'outs_diff'] = 1\n",
    "df.loc[df['outs_change']==-1, 'outs_diff'] = 2\n",
    "df['outs_diff'] = df['outs_diff'].astype('category')\n",
    "home_score = df['home_score'].values\n",
    "visiting_score = df['visiting_score'].values\n",
    "df['home_score_diff'] = np.maximum(0,np.minimum(4,home_score[1:] - home_score[:-1])).astype(int).tolist() + [0]\n",
    "df['home_score_diff'] = df['home_score_diff'].astype('category')\n",
    "df['visiting_score'] = df['visiting_score'].astype('category')\n",
    "df['visiting_score_diff'] = np.maximum(0,np.minimum(4,visiting_score[1:]-visiting_score[:-1])).astype(int).tolist()+[0]\n",
    "df['visiting_score_diff'] = df['visiting_score_diff'].astype('category')\n",
    "df['outs'] = df['outs'].astype('category')"
   ]
  },
  {
   "cell_type": "code",
   "execution_count": 5,
   "metadata": {},
   "outputs": [],
   "source": [
    "df['event_final_code'] = df['event_final'].cat.codes\n",
    "df['home_score_code'] = df['home_score_diff'].cat.codes\n",
    "df['visiting_score_code'] = df['visiting_score_diff'].cat.codes\n",
    "df['outs_code'] = df['outs'].cat.codes\n",
    "df['outs_diff_code'] = df['outs_diff'].cat.codes"
   ]
  },
  {
   "cell_type": "code",
   "execution_count": 6,
   "metadata": {},
   "outputs": [],
   "source": [
    "situation = df[['inning', 'home_score', 'visiting_score', 'batting team', 'outs', 'first', 'second', 'third']].values\n",
    "batter = df['res batter'].values\n",
    "pitcher = df['res pitcher'].values\n",
    "balls = df['balls'].values\n",
    "strikes = df['strikes'].values\n",
    "fouls = df['fouls'].values\n",
    "outcome = df['event_final_code'].values\n",
    "outcome_onehot = pd.get_dummies(df['event_final_code']).values\n",
    "inning_diff = df['inning_diff'].values#pd.get_dummies(df['inning_code']).values\n",
    "home_score_onehot = pd.get_dummies(df['home_score_code']).values\n",
    "visiting_score_onehot = pd.get_dummies(df['visiting_score_code']).values\n",
    "outs_onehot = pd.get_dummies(df['outs_code']).values\n",
    "outs_diff_onehot = pd.get_dummies(df['outs_diff_code']).values\n",
    "first = df['first'].values\n",
    "second = df['second'].values\n",
    "third = df['third'].values"
   ]
  },
  {
   "cell_type": "code",
   "execution_count": 7,
   "metadata": {},
   "outputs": [
    {
     "output_type": "execute_result",
     "data": {
      "text/plain": "             gameid  opp  inning  batting team outs  balls  strikes  \\\n40000  CHN201006200  ANA       1             1    2      3        2   \n40001  CHN201006200  ANA       2             0    0      0        1   \n40002  CHN201006200  ANA       2             0    0      3        2   \n40003  CHN201006200  ANA       2             0    2      3        2   \n40004  CHN201006200  ANA       2             1    0      3        2   \n40005  CHN201006200  ANA       2             1    0      1        2   \n40006  CHN201006200  ANA       2             1    1      2        2   \n40007  CHN201006200  ANA       2             1    1      0        0   \n40008  CHN201006200  ANA       2             1    1      0        0   \n40009  CHN201006200  ANA       2             1    2      1        2   \n40010  CHN201006200  ANA       3             0    0      1        2   \n40011  CHN201006200  ANA       3             0    0      2        1   \n40012  CHN201006200  ANA       3             0    2      1        2   \n40013  CHN201006200  ANA       3             1    0      0        0   \n40014  CHN201006200  ANA       3             1    0      2        2   \n40015  CHN201006200  ANA       3             1    1      2        2   \n40016  CHN201006200  ANA       3             1    1      3        2   \n40017  CHN201006200  ANA       3             1    1      1        0   \n40018  CHN201006200  ANA       3             1    1      2        2   \n40019  CHN201006200  ANA       3             1    2      0        0   \n40020  CHN201006200  ANA       3             1    2      0        1   \n40021  CHN201006200  ANA       3             1    2      0        2   \n40022  CHN201006200  ANA       4             0    0      1        2   \n40023  CHN201006200  ANA       4             0    1      1        2   \n40024  CHN201006200  ANA       4             0    1      3        2   \n40025  CHN201006200  ANA       4             0    2      1        2   \n40026  CHN201006200  ANA       4             0    2      2        2   \n40027  CHN201006200  ANA       4             1    0      1        0   \n40028  CHN201006200  ANA       4             1    1      0        2   \n40029  CHN201006200  ANA       4             1    1      1        0   \n40030  CHN201006200  ANA       4             1    2      3        2   \n40031  CHN201006200  ANA       5             0    0      1        2   \n40032  CHN201006200  ANA       5             0    0      2        2   \n40033  CHN201006200  ANA       5             0    1      0        1   \n40034  CHN201006200  ANA       5             0    2      3        2   \n40035  CHN201006200  ANA       5             1    0      0        2   \n40036  CHN201006200  ANA       5             1    1      1        1   \n40037  CHN201006200  ANA       5             1    1      2        1   \n40038  CHN201006200  ANA       5             1    2      0        2   \n40039  CHN201006200  ANA       5             1    2      1        2   \n40040  CHN201006200  ANA       6             0    0      0        0   \n40041  CHN201006200  ANA       6             0    0      3        1   \n40042  CHN201006200  ANA       6             0    1      2        2   \n40043  CHN201006200  ANA       6             0    2      0        1   \n40044  CHN201006200  ANA       6             1    0      1        1   \n40045  CHN201006200  ANA       6             1    1      0        1   \n40046  CHN201006200  ANA       6             1    2      2        0   \n40047  CHN201006200  ANA       7             0    0      0        0   \n40048  CHN201006200  ANA       7             0    0      2        0   \n40049  CHN201006200  ANA       7             0    0      0        2   \n40050  CHN201006200  ANA       7             0    1      0        2   \n40051  CHN201006200  ANA       7             0    1      1        0   \n40052  CHN201006200  ANA       7             1    0      3        2   \n40053  CHN201006200  ANA       7             1    0      0        1   \n40054  CHN201006200  ANA       7             1    0      1        1   \n40055  CHN201006200  ANA       7             1    1      2        2   \n40056  CHN201006200  ANA       7             1    2      0        0   \n40057  CHN201006200  ANA       8             0    0      2        2   \n40058  CHN201006200  ANA       8             0    1      1        2   \n40059  CHN201006200  ANA       8             0    1      2        1   \n\n      pitch sequence visiting_score  home_score  ... inning_diff outs_change  \\\n40000         CBFBBX              0           2  ...           1          -2   \n40001             CX              0           2  ...           0           0   \n40002         BBCBCT              0           2  ...           0           2   \n40003         BFBBCC              0           2  ...           0          -2   \n40004       CFBBBFFX              0           2  ...           0           0   \n40005           LLBX              0           2  ...           0           1   \n40006         SFBFBX              0           2  ...           0           0   \n40007              X              0           2  ...           0           0   \n40008              X              0           3  ...           0           1   \n40009           FBFS              0           4  ...           1          -2   \n40010           BFFX              0           4  ...           0           0   \n40011           BBSX              0           4  ...           0           2   \n40012           CBSX              0           4  ...           0          -2   \n40013              X              0           4  ...           0           0   \n40014          CFBBX              0           5  ...           0           1   \n40015          SBBCX              0           5  ...           0           0   \n40016         FBBBFB              0           5  ...           0           0   \n40017             BX              0           5  ...           0           0   \n40018       FFBFFBFS              0           6  ...           0           1   \n40019              X              0           6  ...           0           0   \n40020             FX              0           6  ...           0           0   \n40021           CCFX              0           8  ...           1          -2   \n40022          CBFFX              0           8  ...           0           1   \n40023          CFBFX              0           8  ...           0           0   \n40024         BBBCCS              0           8  ...           0           1   \n40025           BFFX              0           8  ...           0           0   \n40026          FCBBS              1           8  ...           0          -2   \n40027             BX              1           8  ...           0           1   \n40028            TCX              1           8  ...           0           0   \n40029             BX              1           8  ...           0           1   \n40030        BCBFFBX              1           8  ...           1          -2   \n40031           CBSX              1           8  ...           0           0   \n40032          BBCFS              1           8  ...           0           1   \n40033             FX              1           8  ...           0           1   \n40034         BCFBBX              1           8  ...           0          -2   \n40035            FFX              1           8  ...           0           1   \n40036            CBX              1           8  ...           0           0   \n40037           BCBX              1           8  ...           0           1   \n40038            CCX              1           8  ...           0           0   \n40039           CBCC              1           9  ...           1          -2   \n40040              X              1           9  ...           0           0   \n40041          BBBCX              1           9  ...           0           1   \n40042          CSBBS              1           9  ...           0           1   \n40043             FX              1           9  ...           0          -2   \n40044            CBX              1           9  ...           0           1   \n40045             CX              1           9  ...           0           1   \n40046            BBX              1           9  ...           1          -2   \n40047              X              1           9  ...           0           0   \n40048            BBX              1           9  ...           0           0   \n40049            SFS              1           9  ...           0           1   \n40050            CSX              1           9  ...           0           0   \n40051             BX              1           9  ...           0          -1   \n40052         BBBCFX              1           9  ...           0           0   \n40053             CX              1           9  ...           0           0   \n40054            BCX              1           9  ...           0           1   \n40055          FBBCS              1           9  ...           0           1   \n40056              X              1           9  ...           1          -2   \n40057          BBCCS              1           9  ...           0           1   \n40058           BSFX              1           9  ...           0           0   \n40059           BBFX              1           9  ...           0           1   \n\n      outs_diff home_score_diff visiting_score_diff event_final_code  \\\n40000         1               0                   0               19   \n40001         0               0                   0               21   \n40002         2               0                   0               72   \n40003         1               0                   0               39   \n40004         0               0                   0               90   \n40005         1               0                   0               21   \n40006         0               0                   0               63   \n40007         0               1                   0               52   \n40008         1               1                   0               38   \n40009         1               0                   0               72   \n40010         0               0                   0               96   \n40011         2               0                   0               25   \n40012         1               0                   0               32   \n40013         0               1                   0               65   \n40014         1               0                   0               14   \n40015         0               0                   0              101   \n40016         0               0                   0              111   \n40017         0               1                   0               94   \n40018         1               0                   0               72   \n40019         0               0                   0               25   \n40020         0               2                   0               46   \n40021         1               0                   0               29   \n40022         1               0                   0               32   \n40023         0               0                   0               98   \n40024         1               0                   0               72   \n40025         0               0                   1               46   \n40026         1               0                   0               72   \n40027         1               0                   0               21   \n40028         0               0                   0               94   \n40029         1               0                   0               32   \n40030         1               0                   0               21   \n40031         0               0                   0               99   \n40032         1               0                   0               72   \n40033         1               0                   0               32   \n40034         1               0                   0               17   \n40035         1               0                   0               29   \n40036         0               0                   0               46   \n40037         1               0                   0               35   \n40038         0               1                   0               94   \n40039         1               0                   0               39   \n40040         0               0                   0              100   \n40041         1               0                   0               25   \n40042         1               0                   0               72   \n40043         1               0                   0               21   \n40044         1               0                   0               32   \n40045         1               0                   0               21   \n40046         1               0                   0               21   \n40047         0               0                   0              100   \n40048         0               0                   0               94   \n40049         1               0                   0               72   \n40050         0               0                   0              101   \n40051         2               0                   0                1   \n40052         0               0                   0               94   \n40053         0               0                   0               94   \n40054         1               0                   0               32   \n40055         1               0                   0               72   \n40056         1               0                   0               21   \n40057         1               0                   0               72   \n40058         0               0                   0              100   \n40059         1               0                   0               32   \n\n      home_score_code visiting_score_code outs_code outs_diff_code  \n40000               0                   0         2              1  \n40001               0                   0         0              0  \n40002               0                   0         0              2  \n40003               0                   0         2              1  \n40004               0                   0         0              0  \n40005               0                   0         0              1  \n40006               0                   0         1              0  \n40007               1                   0         1              0  \n40008               1                   0         1              1  \n40009               0                   0         2              1  \n40010               0                   0         0              0  \n40011               0                   0         0              2  \n40012               0                   0         2              1  \n40013               1                   0         0              0  \n40014               0                   0         0              1  \n40015               0                   0         1              0  \n40016               0                   0         1              0  \n40017               1                   0         1              0  \n40018               0                   0         1              1  \n40019               0                   0         2              0  \n40020               2                   0         2              0  \n40021               0                   0         2              1  \n40022               0                   0         0              1  \n40023               0                   0         1              0  \n40024               0                   0         1              1  \n40025               0                   1         2              0  \n40026               0                   0         2              1  \n40027               0                   0         0              1  \n40028               0                   0         1              0  \n40029               0                   0         1              1  \n40030               0                   0         2              1  \n40031               0                   0         0              0  \n40032               0                   0         0              1  \n40033               0                   0         1              1  \n40034               0                   0         2              1  \n40035               0                   0         0              1  \n40036               0                   0         1              0  \n40037               0                   0         1              1  \n40038               1                   0         2              0  \n40039               0                   0         2              1  \n40040               0                   0         0              0  \n40041               0                   0         0              1  \n40042               0                   0         1              1  \n40043               0                   0         2              1  \n40044               0                   0         0              1  \n40045               0                   0         1              1  \n40046               0                   0         2              1  \n40047               0                   0         0              0  \n40048               0                   0         0              0  \n40049               0                   0         0              1  \n40050               0                   0         1              0  \n40051               0                   0         1              2  \n40052               0                   0         0              0  \n40053               0                   0         0              0  \n40054               0                   0         0              1  \n40055               0                   0         1              1  \n40056               0                   0         2              1  \n40057               0                   0         0              1  \n40058               0                   0         1              0  \n40059               0                   0         1              1  \n\n[60 rows x 64 columns]",
      "text/html": "<div>\n<style scoped>\n    .dataframe tbody tr th:only-of-type {\n        vertical-align: middle;\n    }\n\n    .dataframe tbody tr th {\n        vertical-align: top;\n    }\n\n    .dataframe thead th {\n        text-align: right;\n    }\n</style>\n<table border=\"1\" class=\"dataframe\">\n  <thead>\n    <tr style=\"text-align: right;\">\n      <th></th>\n      <th>gameid</th>\n      <th>opp</th>\n      <th>inning</th>\n      <th>batting team</th>\n      <th>outs</th>\n      <th>balls</th>\n      <th>strikes</th>\n      <th>pitch sequence</th>\n      <th>visiting_score</th>\n      <th>home_score</th>\n      <th>...</th>\n      <th>inning_diff</th>\n      <th>outs_change</th>\n      <th>outs_diff</th>\n      <th>home_score_diff</th>\n      <th>visiting_score_diff</th>\n      <th>event_final_code</th>\n      <th>home_score_code</th>\n      <th>visiting_score_code</th>\n      <th>outs_code</th>\n      <th>outs_diff_code</th>\n    </tr>\n  </thead>\n  <tbody>\n    <tr>\n      <th>40000</th>\n      <td>CHN201006200</td>\n      <td>ANA</td>\n      <td>1</td>\n      <td>1</td>\n      <td>2</td>\n      <td>3</td>\n      <td>2</td>\n      <td>CBFBBX</td>\n      <td>0</td>\n      <td>2</td>\n      <td>...</td>\n      <td>1</td>\n      <td>-2</td>\n      <td>1</td>\n      <td>0</td>\n      <td>0</td>\n      <td>19</td>\n      <td>0</td>\n      <td>0</td>\n      <td>2</td>\n      <td>1</td>\n    </tr>\n    <tr>\n      <th>40001</th>\n      <td>CHN201006200</td>\n      <td>ANA</td>\n      <td>2</td>\n      <td>0</td>\n      <td>0</td>\n      <td>0</td>\n      <td>1</td>\n      <td>CX</td>\n      <td>0</td>\n      <td>2</td>\n      <td>...</td>\n      <td>0</td>\n      <td>0</td>\n      <td>0</td>\n      <td>0</td>\n      <td>0</td>\n      <td>21</td>\n      <td>0</td>\n      <td>0</td>\n      <td>0</td>\n      <td>0</td>\n    </tr>\n    <tr>\n      <th>40002</th>\n      <td>CHN201006200</td>\n      <td>ANA</td>\n      <td>2</td>\n      <td>0</td>\n      <td>0</td>\n      <td>3</td>\n      <td>2</td>\n      <td>BBCBCT</td>\n      <td>0</td>\n      <td>2</td>\n      <td>...</td>\n      <td>0</td>\n      <td>2</td>\n      <td>2</td>\n      <td>0</td>\n      <td>0</td>\n      <td>72</td>\n      <td>0</td>\n      <td>0</td>\n      <td>0</td>\n      <td>2</td>\n    </tr>\n    <tr>\n      <th>40003</th>\n      <td>CHN201006200</td>\n      <td>ANA</td>\n      <td>2</td>\n      <td>0</td>\n      <td>2</td>\n      <td>3</td>\n      <td>2</td>\n      <td>BFBBCC</td>\n      <td>0</td>\n      <td>2</td>\n      <td>...</td>\n      <td>0</td>\n      <td>-2</td>\n      <td>1</td>\n      <td>0</td>\n      <td>0</td>\n      <td>39</td>\n      <td>0</td>\n      <td>0</td>\n      <td>2</td>\n      <td>1</td>\n    </tr>\n    <tr>\n      <th>40004</th>\n      <td>CHN201006200</td>\n      <td>ANA</td>\n      <td>2</td>\n      <td>1</td>\n      <td>0</td>\n      <td>3</td>\n      <td>2</td>\n      <td>CFBBBFFX</td>\n      <td>0</td>\n      <td>2</td>\n      <td>...</td>\n      <td>0</td>\n      <td>0</td>\n      <td>0</td>\n      <td>0</td>\n      <td>0</td>\n      <td>90</td>\n      <td>0</td>\n      <td>0</td>\n      <td>0</td>\n      <td>0</td>\n    </tr>\n    <tr>\n      <th>40005</th>\n      <td>CHN201006200</td>\n      <td>ANA</td>\n      <td>2</td>\n      <td>1</td>\n      <td>0</td>\n      <td>1</td>\n      <td>2</td>\n      <td>LLBX</td>\n      <td>0</td>\n      <td>2</td>\n      <td>...</td>\n      <td>0</td>\n      <td>1</td>\n      <td>1</td>\n      <td>0</td>\n      <td>0</td>\n      <td>21</td>\n      <td>0</td>\n      <td>0</td>\n      <td>0</td>\n      <td>1</td>\n    </tr>\n    <tr>\n      <th>40006</th>\n      <td>CHN201006200</td>\n      <td>ANA</td>\n      <td>2</td>\n      <td>1</td>\n      <td>1</td>\n      <td>2</td>\n      <td>2</td>\n      <td>SFBFBX</td>\n      <td>0</td>\n      <td>2</td>\n      <td>...</td>\n      <td>0</td>\n      <td>0</td>\n      <td>0</td>\n      <td>0</td>\n      <td>0</td>\n      <td>63</td>\n      <td>0</td>\n      <td>0</td>\n      <td>1</td>\n      <td>0</td>\n    </tr>\n    <tr>\n      <th>40007</th>\n      <td>CHN201006200</td>\n      <td>ANA</td>\n      <td>2</td>\n      <td>1</td>\n      <td>1</td>\n      <td>0</td>\n      <td>0</td>\n      <td>X</td>\n      <td>0</td>\n      <td>2</td>\n      <td>...</td>\n      <td>0</td>\n      <td>0</td>\n      <td>0</td>\n      <td>1</td>\n      <td>0</td>\n      <td>52</td>\n      <td>1</td>\n      <td>0</td>\n      <td>1</td>\n      <td>0</td>\n    </tr>\n    <tr>\n      <th>40008</th>\n      <td>CHN201006200</td>\n      <td>ANA</td>\n      <td>2</td>\n      <td>1</td>\n      <td>1</td>\n      <td>0</td>\n      <td>0</td>\n      <td>X</td>\n      <td>0</td>\n      <td>3</td>\n      <td>...</td>\n      <td>0</td>\n      <td>1</td>\n      <td>1</td>\n      <td>1</td>\n      <td>0</td>\n      <td>38</td>\n      <td>1</td>\n      <td>0</td>\n      <td>1</td>\n      <td>1</td>\n    </tr>\n    <tr>\n      <th>40009</th>\n      <td>CHN201006200</td>\n      <td>ANA</td>\n      <td>2</td>\n      <td>1</td>\n      <td>2</td>\n      <td>1</td>\n      <td>2</td>\n      <td>FBFS</td>\n      <td>0</td>\n      <td>4</td>\n      <td>...</td>\n      <td>1</td>\n      <td>-2</td>\n      <td>1</td>\n      <td>0</td>\n      <td>0</td>\n      <td>72</td>\n      <td>0</td>\n      <td>0</td>\n      <td>2</td>\n      <td>1</td>\n    </tr>\n    <tr>\n      <th>40010</th>\n      <td>CHN201006200</td>\n      <td>ANA</td>\n      <td>3</td>\n      <td>0</td>\n      <td>0</td>\n      <td>1</td>\n      <td>2</td>\n      <td>BFFX</td>\n      <td>0</td>\n      <td>4</td>\n      <td>...</td>\n      <td>0</td>\n      <td>0</td>\n      <td>0</td>\n      <td>0</td>\n      <td>0</td>\n      <td>96</td>\n      <td>0</td>\n      <td>0</td>\n      <td>0</td>\n      <td>0</td>\n    </tr>\n    <tr>\n      <th>40011</th>\n      <td>CHN201006200</td>\n      <td>ANA</td>\n      <td>3</td>\n      <td>0</td>\n      <td>0</td>\n      <td>2</td>\n      <td>1</td>\n      <td>BBSX</td>\n      <td>0</td>\n      <td>4</td>\n      <td>...</td>\n      <td>0</td>\n      <td>2</td>\n      <td>2</td>\n      <td>0</td>\n      <td>0</td>\n      <td>25</td>\n      <td>0</td>\n      <td>0</td>\n      <td>0</td>\n      <td>2</td>\n    </tr>\n    <tr>\n      <th>40012</th>\n      <td>CHN201006200</td>\n      <td>ANA</td>\n      <td>3</td>\n      <td>0</td>\n      <td>2</td>\n      <td>1</td>\n      <td>2</td>\n      <td>CBSX</td>\n      <td>0</td>\n      <td>4</td>\n      <td>...</td>\n      <td>0</td>\n      <td>-2</td>\n      <td>1</td>\n      <td>0</td>\n      <td>0</td>\n      <td>32</td>\n      <td>0</td>\n      <td>0</td>\n      <td>2</td>\n      <td>1</td>\n    </tr>\n    <tr>\n      <th>40013</th>\n      <td>CHN201006200</td>\n      <td>ANA</td>\n      <td>3</td>\n      <td>1</td>\n      <td>0</td>\n      <td>0</td>\n      <td>0</td>\n      <td>X</td>\n      <td>0</td>\n      <td>4</td>\n      <td>...</td>\n      <td>0</td>\n      <td>0</td>\n      <td>0</td>\n      <td>1</td>\n      <td>0</td>\n      <td>65</td>\n      <td>1</td>\n      <td>0</td>\n      <td>0</td>\n      <td>0</td>\n    </tr>\n    <tr>\n      <th>40014</th>\n      <td>CHN201006200</td>\n      <td>ANA</td>\n      <td>3</td>\n      <td>1</td>\n      <td>0</td>\n      <td>2</td>\n      <td>2</td>\n      <td>CFBBX</td>\n      <td>0</td>\n      <td>5</td>\n      <td>...</td>\n      <td>0</td>\n      <td>1</td>\n      <td>1</td>\n      <td>0</td>\n      <td>0</td>\n      <td>14</td>\n      <td>0</td>\n      <td>0</td>\n      <td>0</td>\n      <td>1</td>\n    </tr>\n    <tr>\n      <th>40015</th>\n      <td>CHN201006200</td>\n      <td>ANA</td>\n      <td>3</td>\n      <td>1</td>\n      <td>1</td>\n      <td>2</td>\n      <td>2</td>\n      <td>SBBCX</td>\n      <td>0</td>\n      <td>5</td>\n      <td>...</td>\n      <td>0</td>\n      <td>0</td>\n      <td>0</td>\n      <td>0</td>\n      <td>0</td>\n      <td>101</td>\n      <td>0</td>\n      <td>0</td>\n      <td>1</td>\n      <td>0</td>\n    </tr>\n    <tr>\n      <th>40016</th>\n      <td>CHN201006200</td>\n      <td>ANA</td>\n      <td>3</td>\n      <td>1</td>\n      <td>1</td>\n      <td>3</td>\n      <td>2</td>\n      <td>FBBBFB</td>\n      <td>0</td>\n      <td>5</td>\n      <td>...</td>\n      <td>0</td>\n      <td>0</td>\n      <td>0</td>\n      <td>0</td>\n      <td>0</td>\n      <td>111</td>\n      <td>0</td>\n      <td>0</td>\n      <td>1</td>\n      <td>0</td>\n    </tr>\n    <tr>\n      <th>40017</th>\n      <td>CHN201006200</td>\n      <td>ANA</td>\n      <td>3</td>\n      <td>1</td>\n      <td>1</td>\n      <td>1</td>\n      <td>0</td>\n      <td>BX</td>\n      <td>0</td>\n      <td>5</td>\n      <td>...</td>\n      <td>0</td>\n      <td>0</td>\n      <td>0</td>\n      <td>1</td>\n      <td>0</td>\n      <td>94</td>\n      <td>1</td>\n      <td>0</td>\n      <td>1</td>\n      <td>0</td>\n    </tr>\n    <tr>\n      <th>40018</th>\n      <td>CHN201006200</td>\n      <td>ANA</td>\n      <td>3</td>\n      <td>1</td>\n      <td>1</td>\n      <td>2</td>\n      <td>2</td>\n      <td>FFBFFBFS</td>\n      <td>0</td>\n      <td>6</td>\n      <td>...</td>\n      <td>0</td>\n      <td>1</td>\n      <td>1</td>\n      <td>0</td>\n      <td>0</td>\n      <td>72</td>\n      <td>0</td>\n      <td>0</td>\n      <td>1</td>\n      <td>1</td>\n    </tr>\n    <tr>\n      <th>40019</th>\n      <td>CHN201006200</td>\n      <td>ANA</td>\n      <td>3</td>\n      <td>1</td>\n      <td>2</td>\n      <td>0</td>\n      <td>0</td>\n      <td>X</td>\n      <td>0</td>\n      <td>6</td>\n      <td>...</td>\n      <td>0</td>\n      <td>0</td>\n      <td>0</td>\n      <td>0</td>\n      <td>0</td>\n      <td>25</td>\n      <td>0</td>\n      <td>0</td>\n      <td>2</td>\n      <td>0</td>\n    </tr>\n    <tr>\n      <th>40020</th>\n      <td>CHN201006200</td>\n      <td>ANA</td>\n      <td>3</td>\n      <td>1</td>\n      <td>2</td>\n      <td>0</td>\n      <td>1</td>\n      <td>FX</td>\n      <td>0</td>\n      <td>6</td>\n      <td>...</td>\n      <td>0</td>\n      <td>0</td>\n      <td>0</td>\n      <td>2</td>\n      <td>0</td>\n      <td>46</td>\n      <td>2</td>\n      <td>0</td>\n      <td>2</td>\n      <td>0</td>\n    </tr>\n    <tr>\n      <th>40021</th>\n      <td>CHN201006200</td>\n      <td>ANA</td>\n      <td>3</td>\n      <td>1</td>\n      <td>2</td>\n      <td>0</td>\n      <td>2</td>\n      <td>CCFX</td>\n      <td>0</td>\n      <td>8</td>\n      <td>...</td>\n      <td>1</td>\n      <td>-2</td>\n      <td>1</td>\n      <td>0</td>\n      <td>0</td>\n      <td>29</td>\n      <td>0</td>\n      <td>0</td>\n      <td>2</td>\n      <td>1</td>\n    </tr>\n    <tr>\n      <th>40022</th>\n      <td>CHN201006200</td>\n      <td>ANA</td>\n      <td>4</td>\n      <td>0</td>\n      <td>0</td>\n      <td>1</td>\n      <td>2</td>\n      <td>CBFFX</td>\n      <td>0</td>\n      <td>8</td>\n      <td>...</td>\n      <td>0</td>\n      <td>1</td>\n      <td>1</td>\n      <td>0</td>\n      <td>0</td>\n      <td>32</td>\n      <td>0</td>\n      <td>0</td>\n      <td>0</td>\n      <td>1</td>\n    </tr>\n    <tr>\n      <th>40023</th>\n      <td>CHN201006200</td>\n      <td>ANA</td>\n      <td>4</td>\n      <td>0</td>\n      <td>1</td>\n      <td>1</td>\n      <td>2</td>\n      <td>CFBFX</td>\n      <td>0</td>\n      <td>8</td>\n      <td>...</td>\n      <td>0</td>\n      <td>0</td>\n      <td>0</td>\n      <td>0</td>\n      <td>0</td>\n      <td>98</td>\n      <td>0</td>\n      <td>0</td>\n      <td>1</td>\n      <td>0</td>\n    </tr>\n    <tr>\n      <th>40024</th>\n      <td>CHN201006200</td>\n      <td>ANA</td>\n      <td>4</td>\n      <td>0</td>\n      <td>1</td>\n      <td>3</td>\n      <td>2</td>\n      <td>BBBCCS</td>\n      <td>0</td>\n      <td>8</td>\n      <td>...</td>\n      <td>0</td>\n      <td>1</td>\n      <td>1</td>\n      <td>0</td>\n      <td>0</td>\n      <td>72</td>\n      <td>0</td>\n      <td>0</td>\n      <td>1</td>\n      <td>1</td>\n    </tr>\n    <tr>\n      <th>40025</th>\n      <td>CHN201006200</td>\n      <td>ANA</td>\n      <td>4</td>\n      <td>0</td>\n      <td>2</td>\n      <td>1</td>\n      <td>2</td>\n      <td>BFFX</td>\n      <td>0</td>\n      <td>8</td>\n      <td>...</td>\n      <td>0</td>\n      <td>0</td>\n      <td>0</td>\n      <td>0</td>\n      <td>1</td>\n      <td>46</td>\n      <td>0</td>\n      <td>1</td>\n      <td>2</td>\n      <td>0</td>\n    </tr>\n    <tr>\n      <th>40026</th>\n      <td>CHN201006200</td>\n      <td>ANA</td>\n      <td>4</td>\n      <td>0</td>\n      <td>2</td>\n      <td>2</td>\n      <td>2</td>\n      <td>FCBBS</td>\n      <td>1</td>\n      <td>8</td>\n      <td>...</td>\n      <td>0</td>\n      <td>-2</td>\n      <td>1</td>\n      <td>0</td>\n      <td>0</td>\n      <td>72</td>\n      <td>0</td>\n      <td>0</td>\n      <td>2</td>\n      <td>1</td>\n    </tr>\n    <tr>\n      <th>40027</th>\n      <td>CHN201006200</td>\n      <td>ANA</td>\n      <td>4</td>\n      <td>1</td>\n      <td>0</td>\n      <td>1</td>\n      <td>0</td>\n      <td>BX</td>\n      <td>1</td>\n      <td>8</td>\n      <td>...</td>\n      <td>0</td>\n      <td>1</td>\n      <td>1</td>\n      <td>0</td>\n      <td>0</td>\n      <td>21</td>\n      <td>0</td>\n      <td>0</td>\n      <td>0</td>\n      <td>1</td>\n    </tr>\n    <tr>\n      <th>40028</th>\n      <td>CHN201006200</td>\n      <td>ANA</td>\n      <td>4</td>\n      <td>1</td>\n      <td>1</td>\n      <td>0</td>\n      <td>2</td>\n      <td>TCX</td>\n      <td>1</td>\n      <td>8</td>\n      <td>...</td>\n      <td>0</td>\n      <td>0</td>\n      <td>0</td>\n      <td>0</td>\n      <td>0</td>\n      <td>94</td>\n      <td>0</td>\n      <td>0</td>\n      <td>1</td>\n      <td>0</td>\n    </tr>\n    <tr>\n      <th>40029</th>\n      <td>CHN201006200</td>\n      <td>ANA</td>\n      <td>4</td>\n      <td>1</td>\n      <td>1</td>\n      <td>1</td>\n      <td>0</td>\n      <td>BX</td>\n      <td>1</td>\n      <td>8</td>\n      <td>...</td>\n      <td>0</td>\n      <td>1</td>\n      <td>1</td>\n      <td>0</td>\n      <td>0</td>\n      <td>32</td>\n      <td>0</td>\n      <td>0</td>\n      <td>1</td>\n      <td>1</td>\n    </tr>\n    <tr>\n      <th>40030</th>\n      <td>CHN201006200</td>\n      <td>ANA</td>\n      <td>4</td>\n      <td>1</td>\n      <td>2</td>\n      <td>3</td>\n      <td>2</td>\n      <td>BCBFFBX</td>\n      <td>1</td>\n      <td>8</td>\n      <td>...</td>\n      <td>1</td>\n      <td>-2</td>\n      <td>1</td>\n      <td>0</td>\n      <td>0</td>\n      <td>21</td>\n      <td>0</td>\n      <td>0</td>\n      <td>2</td>\n      <td>1</td>\n    </tr>\n    <tr>\n      <th>40031</th>\n      <td>CHN201006200</td>\n      <td>ANA</td>\n      <td>5</td>\n      <td>0</td>\n      <td>0</td>\n      <td>1</td>\n      <td>2</td>\n      <td>CBSX</td>\n      <td>1</td>\n      <td>8</td>\n      <td>...</td>\n      <td>0</td>\n      <td>0</td>\n      <td>0</td>\n      <td>0</td>\n      <td>0</td>\n      <td>99</td>\n      <td>0</td>\n      <td>0</td>\n      <td>0</td>\n      <td>0</td>\n    </tr>\n    <tr>\n      <th>40032</th>\n      <td>CHN201006200</td>\n      <td>ANA</td>\n      <td>5</td>\n      <td>0</td>\n      <td>0</td>\n      <td>2</td>\n      <td>2</td>\n      <td>BBCFS</td>\n      <td>1</td>\n      <td>8</td>\n      <td>...</td>\n      <td>0</td>\n      <td>1</td>\n      <td>1</td>\n      <td>0</td>\n      <td>0</td>\n      <td>72</td>\n      <td>0</td>\n      <td>0</td>\n      <td>0</td>\n      <td>1</td>\n    </tr>\n    <tr>\n      <th>40033</th>\n      <td>CHN201006200</td>\n      <td>ANA</td>\n      <td>5</td>\n      <td>0</td>\n      <td>1</td>\n      <td>0</td>\n      <td>1</td>\n      <td>FX</td>\n      <td>1</td>\n      <td>8</td>\n      <td>...</td>\n      <td>0</td>\n      <td>1</td>\n      <td>1</td>\n      <td>0</td>\n      <td>0</td>\n      <td>32</td>\n      <td>0</td>\n      <td>0</td>\n      <td>1</td>\n      <td>1</td>\n    </tr>\n    <tr>\n      <th>40034</th>\n      <td>CHN201006200</td>\n      <td>ANA</td>\n      <td>5</td>\n      <td>0</td>\n      <td>2</td>\n      <td>3</td>\n      <td>2</td>\n      <td>BCFBBX</td>\n      <td>1</td>\n      <td>8</td>\n      <td>...</td>\n      <td>0</td>\n      <td>-2</td>\n      <td>1</td>\n      <td>0</td>\n      <td>0</td>\n      <td>17</td>\n      <td>0</td>\n      <td>0</td>\n      <td>2</td>\n      <td>1</td>\n    </tr>\n    <tr>\n      <th>40035</th>\n      <td>CHN201006200</td>\n      <td>ANA</td>\n      <td>5</td>\n      <td>1</td>\n      <td>0</td>\n      <td>0</td>\n      <td>2</td>\n      <td>FFX</td>\n      <td>1</td>\n      <td>8</td>\n      <td>...</td>\n      <td>0</td>\n      <td>1</td>\n      <td>1</td>\n      <td>0</td>\n      <td>0</td>\n      <td>29</td>\n      <td>0</td>\n      <td>0</td>\n      <td>0</td>\n      <td>1</td>\n    </tr>\n    <tr>\n      <th>40036</th>\n      <td>CHN201006200</td>\n      <td>ANA</td>\n      <td>5</td>\n      <td>1</td>\n      <td>1</td>\n      <td>1</td>\n      <td>1</td>\n      <td>CBX</td>\n      <td>1</td>\n      <td>8</td>\n      <td>...</td>\n      <td>0</td>\n      <td>0</td>\n      <td>0</td>\n      <td>0</td>\n      <td>0</td>\n      <td>46</td>\n      <td>0</td>\n      <td>0</td>\n      <td>1</td>\n      <td>0</td>\n    </tr>\n    <tr>\n      <th>40037</th>\n      <td>CHN201006200</td>\n      <td>ANA</td>\n      <td>5</td>\n      <td>1</td>\n      <td>1</td>\n      <td>2</td>\n      <td>1</td>\n      <td>BCBX</td>\n      <td>1</td>\n      <td>8</td>\n      <td>...</td>\n      <td>0</td>\n      <td>1</td>\n      <td>1</td>\n      <td>0</td>\n      <td>0</td>\n      <td>35</td>\n      <td>0</td>\n      <td>0</td>\n      <td>1</td>\n      <td>1</td>\n    </tr>\n    <tr>\n      <th>40038</th>\n      <td>CHN201006200</td>\n      <td>ANA</td>\n      <td>5</td>\n      <td>1</td>\n      <td>2</td>\n      <td>0</td>\n      <td>2</td>\n      <td>CCX</td>\n      <td>1</td>\n      <td>8</td>\n      <td>...</td>\n      <td>0</td>\n      <td>0</td>\n      <td>0</td>\n      <td>1</td>\n      <td>0</td>\n      <td>94</td>\n      <td>1</td>\n      <td>0</td>\n      <td>2</td>\n      <td>0</td>\n    </tr>\n    <tr>\n      <th>40039</th>\n      <td>CHN201006200</td>\n      <td>ANA</td>\n      <td>5</td>\n      <td>1</td>\n      <td>2</td>\n      <td>1</td>\n      <td>2</td>\n      <td>CBCC</td>\n      <td>1</td>\n      <td>9</td>\n      <td>...</td>\n      <td>1</td>\n      <td>-2</td>\n      <td>1</td>\n      <td>0</td>\n      <td>0</td>\n      <td>39</td>\n      <td>0</td>\n      <td>0</td>\n      <td>2</td>\n      <td>1</td>\n    </tr>\n    <tr>\n      <th>40040</th>\n      <td>CHN201006200</td>\n      <td>ANA</td>\n      <td>6</td>\n      <td>0</td>\n      <td>0</td>\n      <td>0</td>\n      <td>0</td>\n      <td>X</td>\n      <td>1</td>\n      <td>9</td>\n      <td>...</td>\n      <td>0</td>\n      <td>0</td>\n      <td>0</td>\n      <td>0</td>\n      <td>0</td>\n      <td>100</td>\n      <td>0</td>\n      <td>0</td>\n      <td>0</td>\n      <td>0</td>\n    </tr>\n    <tr>\n      <th>40041</th>\n      <td>CHN201006200</td>\n      <td>ANA</td>\n      <td>6</td>\n      <td>0</td>\n      <td>0</td>\n      <td>3</td>\n      <td>1</td>\n      <td>BBBCX</td>\n      <td>1</td>\n      <td>9</td>\n      <td>...</td>\n      <td>0</td>\n      <td>1</td>\n      <td>1</td>\n      <td>0</td>\n      <td>0</td>\n      <td>25</td>\n      <td>0</td>\n      <td>0</td>\n      <td>0</td>\n      <td>1</td>\n    </tr>\n    <tr>\n      <th>40042</th>\n      <td>CHN201006200</td>\n      <td>ANA</td>\n      <td>6</td>\n      <td>0</td>\n      <td>1</td>\n      <td>2</td>\n      <td>2</td>\n      <td>CSBBS</td>\n      <td>1</td>\n      <td>9</td>\n      <td>...</td>\n      <td>0</td>\n      <td>1</td>\n      <td>1</td>\n      <td>0</td>\n      <td>0</td>\n      <td>72</td>\n      <td>0</td>\n      <td>0</td>\n      <td>1</td>\n      <td>1</td>\n    </tr>\n    <tr>\n      <th>40043</th>\n      <td>CHN201006200</td>\n      <td>ANA</td>\n      <td>6</td>\n      <td>0</td>\n      <td>2</td>\n      <td>0</td>\n      <td>1</td>\n      <td>FX</td>\n      <td>1</td>\n      <td>9</td>\n      <td>...</td>\n      <td>0</td>\n      <td>-2</td>\n      <td>1</td>\n      <td>0</td>\n      <td>0</td>\n      <td>21</td>\n      <td>0</td>\n      <td>0</td>\n      <td>2</td>\n      <td>1</td>\n    </tr>\n    <tr>\n      <th>40044</th>\n      <td>CHN201006200</td>\n      <td>ANA</td>\n      <td>6</td>\n      <td>1</td>\n      <td>0</td>\n      <td>1</td>\n      <td>1</td>\n      <td>CBX</td>\n      <td>1</td>\n      <td>9</td>\n      <td>...</td>\n      <td>0</td>\n      <td>1</td>\n      <td>1</td>\n      <td>0</td>\n      <td>0</td>\n      <td>32</td>\n      <td>0</td>\n      <td>0</td>\n      <td>0</td>\n      <td>1</td>\n    </tr>\n    <tr>\n      <th>40045</th>\n      <td>CHN201006200</td>\n      <td>ANA</td>\n      <td>6</td>\n      <td>1</td>\n      <td>1</td>\n      <td>0</td>\n      <td>1</td>\n      <td>CX</td>\n      <td>1</td>\n      <td>9</td>\n      <td>...</td>\n      <td>0</td>\n      <td>1</td>\n      <td>1</td>\n      <td>0</td>\n      <td>0</td>\n      <td>21</td>\n      <td>0</td>\n      <td>0</td>\n      <td>1</td>\n      <td>1</td>\n    </tr>\n    <tr>\n      <th>40046</th>\n      <td>CHN201006200</td>\n      <td>ANA</td>\n      <td>6</td>\n      <td>1</td>\n      <td>2</td>\n      <td>2</td>\n      <td>0</td>\n      <td>BBX</td>\n      <td>1</td>\n      <td>9</td>\n      <td>...</td>\n      <td>1</td>\n      <td>-2</td>\n      <td>1</td>\n      <td>0</td>\n      <td>0</td>\n      <td>21</td>\n      <td>0</td>\n      <td>0</td>\n      <td>2</td>\n      <td>1</td>\n    </tr>\n    <tr>\n      <th>40047</th>\n      <td>CHN201006200</td>\n      <td>ANA</td>\n      <td>7</td>\n      <td>0</td>\n      <td>0</td>\n      <td>0</td>\n      <td>0</td>\n      <td>X</td>\n      <td>1</td>\n      <td>9</td>\n      <td>...</td>\n      <td>0</td>\n      <td>0</td>\n      <td>0</td>\n      <td>0</td>\n      <td>0</td>\n      <td>100</td>\n      <td>0</td>\n      <td>0</td>\n      <td>0</td>\n      <td>0</td>\n    </tr>\n    <tr>\n      <th>40048</th>\n      <td>CHN201006200</td>\n      <td>ANA</td>\n      <td>7</td>\n      <td>0</td>\n      <td>0</td>\n      <td>2</td>\n      <td>0</td>\n      <td>BBX</td>\n      <td>1</td>\n      <td>9</td>\n      <td>...</td>\n      <td>0</td>\n      <td>0</td>\n      <td>0</td>\n      <td>0</td>\n      <td>0</td>\n      <td>94</td>\n      <td>0</td>\n      <td>0</td>\n      <td>0</td>\n      <td>0</td>\n    </tr>\n    <tr>\n      <th>40049</th>\n      <td>CHN201006200</td>\n      <td>ANA</td>\n      <td>7</td>\n      <td>0</td>\n      <td>0</td>\n      <td>0</td>\n      <td>2</td>\n      <td>SFS</td>\n      <td>1</td>\n      <td>9</td>\n      <td>...</td>\n      <td>0</td>\n      <td>1</td>\n      <td>1</td>\n      <td>0</td>\n      <td>0</td>\n      <td>72</td>\n      <td>0</td>\n      <td>0</td>\n      <td>0</td>\n      <td>1</td>\n    </tr>\n    <tr>\n      <th>40050</th>\n      <td>CHN201006200</td>\n      <td>ANA</td>\n      <td>7</td>\n      <td>0</td>\n      <td>1</td>\n      <td>0</td>\n      <td>2</td>\n      <td>CSX</td>\n      <td>1</td>\n      <td>9</td>\n      <td>...</td>\n      <td>0</td>\n      <td>0</td>\n      <td>0</td>\n      <td>0</td>\n      <td>0</td>\n      <td>101</td>\n      <td>0</td>\n      <td>0</td>\n      <td>1</td>\n      <td>0</td>\n    </tr>\n    <tr>\n      <th>40051</th>\n      <td>CHN201006200</td>\n      <td>ANA</td>\n      <td>7</td>\n      <td>0</td>\n      <td>1</td>\n      <td>1</td>\n      <td>0</td>\n      <td>BX</td>\n      <td>1</td>\n      <td>9</td>\n      <td>...</td>\n      <td>0</td>\n      <td>-1</td>\n      <td>2</td>\n      <td>0</td>\n      <td>0</td>\n      <td>1</td>\n      <td>0</td>\n      <td>0</td>\n      <td>1</td>\n      <td>2</td>\n    </tr>\n    <tr>\n      <th>40052</th>\n      <td>CHN201006200</td>\n      <td>ANA</td>\n      <td>7</td>\n      <td>1</td>\n      <td>0</td>\n      <td>3</td>\n      <td>2</td>\n      <td>BBBCFX</td>\n      <td>1</td>\n      <td>9</td>\n      <td>...</td>\n      <td>0</td>\n      <td>0</td>\n      <td>0</td>\n      <td>0</td>\n      <td>0</td>\n      <td>94</td>\n      <td>0</td>\n      <td>0</td>\n      <td>0</td>\n      <td>0</td>\n    </tr>\n    <tr>\n      <th>40053</th>\n      <td>CHN201006200</td>\n      <td>ANA</td>\n      <td>7</td>\n      <td>1</td>\n      <td>0</td>\n      <td>0</td>\n      <td>1</td>\n      <td>CX</td>\n      <td>1</td>\n      <td>9</td>\n      <td>...</td>\n      <td>0</td>\n      <td>0</td>\n      <td>0</td>\n      <td>0</td>\n      <td>0</td>\n      <td>94</td>\n      <td>0</td>\n      <td>0</td>\n      <td>0</td>\n      <td>0</td>\n    </tr>\n    <tr>\n      <th>40054</th>\n      <td>CHN201006200</td>\n      <td>ANA</td>\n      <td>7</td>\n      <td>1</td>\n      <td>0</td>\n      <td>1</td>\n      <td>1</td>\n      <td>BCX</td>\n      <td>1</td>\n      <td>9</td>\n      <td>...</td>\n      <td>0</td>\n      <td>1</td>\n      <td>1</td>\n      <td>0</td>\n      <td>0</td>\n      <td>32</td>\n      <td>0</td>\n      <td>0</td>\n      <td>0</td>\n      <td>1</td>\n    </tr>\n    <tr>\n      <th>40055</th>\n      <td>CHN201006200</td>\n      <td>ANA</td>\n      <td>7</td>\n      <td>1</td>\n      <td>1</td>\n      <td>2</td>\n      <td>2</td>\n      <td>FBBCS</td>\n      <td>1</td>\n      <td>9</td>\n      <td>...</td>\n      <td>0</td>\n      <td>1</td>\n      <td>1</td>\n      <td>0</td>\n      <td>0</td>\n      <td>72</td>\n      <td>0</td>\n      <td>0</td>\n      <td>1</td>\n      <td>1</td>\n    </tr>\n    <tr>\n      <th>40056</th>\n      <td>CHN201006200</td>\n      <td>ANA</td>\n      <td>7</td>\n      <td>1</td>\n      <td>2</td>\n      <td>0</td>\n      <td>0</td>\n      <td>X</td>\n      <td>1</td>\n      <td>9</td>\n      <td>...</td>\n      <td>1</td>\n      <td>-2</td>\n      <td>1</td>\n      <td>0</td>\n      <td>0</td>\n      <td>21</td>\n      <td>0</td>\n      <td>0</td>\n      <td>2</td>\n      <td>1</td>\n    </tr>\n    <tr>\n      <th>40057</th>\n      <td>CHN201006200</td>\n      <td>ANA</td>\n      <td>8</td>\n      <td>0</td>\n      <td>0</td>\n      <td>2</td>\n      <td>2</td>\n      <td>BBCCS</td>\n      <td>1</td>\n      <td>9</td>\n      <td>...</td>\n      <td>0</td>\n      <td>1</td>\n      <td>1</td>\n      <td>0</td>\n      <td>0</td>\n      <td>72</td>\n      <td>0</td>\n      <td>0</td>\n      <td>0</td>\n      <td>1</td>\n    </tr>\n    <tr>\n      <th>40058</th>\n      <td>CHN201006200</td>\n      <td>ANA</td>\n      <td>8</td>\n      <td>0</td>\n      <td>1</td>\n      <td>1</td>\n      <td>2</td>\n      <td>BSFX</td>\n      <td>1</td>\n      <td>9</td>\n      <td>...</td>\n      <td>0</td>\n      <td>0</td>\n      <td>0</td>\n      <td>0</td>\n      <td>0</td>\n      <td>100</td>\n      <td>0</td>\n      <td>0</td>\n      <td>1</td>\n      <td>0</td>\n    </tr>\n    <tr>\n      <th>40059</th>\n      <td>CHN201006200</td>\n      <td>ANA</td>\n      <td>8</td>\n      <td>0</td>\n      <td>1</td>\n      <td>2</td>\n      <td>1</td>\n      <td>BBFX</td>\n      <td>1</td>\n      <td>9</td>\n      <td>...</td>\n      <td>0</td>\n      <td>1</td>\n      <td>1</td>\n      <td>0</td>\n      <td>0</td>\n      <td>32</td>\n      <td>0</td>\n      <td>0</td>\n      <td>1</td>\n      <td>1</td>\n    </tr>\n  </tbody>\n</table>\n<p>60 rows × 64 columns</p>\n</div>"
     },
     "metadata": {},
     "execution_count": 7
    }
   ],
   "source": [
    "df.iloc[40000:40060]"
   ]
  },
  {
   "cell_type": "code",
   "execution_count": 8,
   "metadata": {},
   "outputs": [],
   "source": [
    "samples = inds.shape[0]-1\n",
    "\n",
    "p = np.random.permutation(samples)\n",
    "train_inds = inds[p[:samples//5 * 4]]\n",
    "test_inds = inds[p[samples//5 * 4:]]"
   ]
  },
  {
   "cell_type": "code",
   "execution_count": 9,
   "metadata": {},
   "outputs": [],
   "source": [
    "situation_train = situation[train_inds, 3:]\n",
    "# outcome_train = outcome_onehot[train_inds]\n",
    "outcome_train = df['event_final_code'].values[train_inds]\n",
    "y_train = [outs_diff_onehot[train_inds].astype(float), \n",
    "           visiting_score_onehot[train_inds].astype(float), \n",
    "           home_score_onehot[train_inds].astype(float),\n",
    "           first[train_inds+1].astype(float),\n",
    "           second[train_inds+1].astype(float),\n",
    "           third[train_inds+1].astype(float)]\n",
    "\n",
    "situation_test = situation[test_inds, 3:]\n",
    "# outcome_test = outcome_onehot[test_inds]\n",
    "outcome_test = df['event_final_code'].values[test_inds]\n",
    "y_test = [outs_diff_onehot[test_inds].astype(float), \n",
    "          visiting_score_onehot[test_inds].astype(float), \n",
    "          home_score_onehot[test_inds].astype(float),\n",
    "          first[test_inds+1].astype(float),\n",
    "          second[test_inds+1].astype(float),\n",
    "          third[test_inds+1].astype(float)]"
   ]
  },
  {
   "cell_type": "code",
   "execution_count": 10,
   "metadata": {},
   "outputs": [],
   "source": [
    "X_train = [situation_train.astype(float), np.expand_dims(outcome_train, axis=1).astype(np.int32)]\n",
    "X_test = [situation_test.astype(float), np.expand_dims(outcome_test, axis=1).astype(np.int32)]"
   ]
  },
  {
   "cell_type": "code",
   "execution_count": 11,
   "metadata": {},
   "outputs": [],
   "source": [
    "def build_model(sit_shape_in, outcome_size, hidden, activations):\n",
    "    \n",
    "    situation = Input(shape=(sit_shape_in,))\n",
    "\n",
    "    outcome = Input(shape=(1,))\n",
    "\n",
    "    out_emb = Embedding(outcome_size, 8)(outcome)\n",
    "    \n",
    "    out_emb = Reshape((8,))(out_emb)\n",
    "\n",
    "    X = concatenate([situation, out_emb], axis=-1)\n",
    "    \n",
    "    X_int = Dense(hidden, activation=activations)(X)\n",
    "\n",
    "    X_int = Dense(hidden, activation=activations)(X_int)\n",
    "\n",
    "    #X_int = Dropout(0.25)(X_int)\n",
    "    \n",
    "    X_int = Dense(hidden, activation=activations)(X_int)\n",
    "\n",
    "    inning_diff = Dense(1, activation='sigmoid')(X_int)\n",
    "\n",
    "    half_inning = Dense(1, activation='sigmoid')(X_int)\n",
    "\n",
    "    outs = Dense(3, activation='softmax')(X_int)\n",
    "\n",
    "    visiting_score = Dense(5, activation='softmax')(X_int)\n",
    "\n",
    "    home_score = Dense(5, activation='softmax')(X_int)\n",
    "\n",
    "    first = Dense(1, activation='sigmoid')(X_int)\n",
    "\n",
    "    second = Dense(1, activation='sigmoid')(X_int)\n",
    "\n",
    "    third = Dense(1, activation='sigmoid')(X_int)\n",
    "\n",
    "    return Model(inputs=[situation, outcome], \n",
    "                 outputs=[outs, visiting_score, home_score, first, second, third])"
   ]
  },
  {
   "cell_type": "code",
   "execution_count": 12,
   "metadata": {},
   "outputs": [],
   "source": [
    "model = build_model(situation_train.shape[1], np.max(outcome_train)+1, 64, 'tanh')"
   ]
  },
  {
   "cell_type": "code",
   "execution_count": 13,
   "metadata": {},
   "outputs": [],
   "source": [
    "def compile_model(model, LR):\n",
    "    adam = tf.keras.optimizers.Adam(lr=LR)\n",
    "    model.compile(\n",
    "        optimizer=adam,\n",
    "        loss=['categorical_crossentropy',\n",
    "            'categorical_crossentropy', 'categorical_crossentropy', 'binary_crossentropy',\n",
    "            'binary_crossentropy', 'binary_crossentropy'],\n",
    "        metrics=['accuracy'])\n",
    "    return model"
   ]
  },
  {
   "cell_type": "code",
   "execution_count": 14,
   "metadata": {},
   "outputs": [],
   "source": [
    "# model = load_model('..\\\\models\\\\situation_prediction_relu5')"
   ]
  },
  {
   "cell_type": "code",
   "execution_count": 15,
   "metadata": {
    "tags": [
     "outputPrepend",
     "outputPrepend",
     "outputPrepend",
     "outputPrepend",
     "outputPrepend",
     "outputPrepend",
     "outputPrepend",
     "outputPrepend",
     "outputPrepend",
     "outputPrepend",
     "outputPrepend",
     "outputPrepend",
     "outputPrepend",
     "outputPrepend",
     "outputPrepend",
     "outputPrepend",
     "outputPrepend",
     "outputPrepend",
     "outputPrepend",
     "outputPrepend",
     "outputPrepend",
     "outputPrepend",
     "outputPrepend",
     "outputPrepend",
     "outputPrepend",
     "outputPrepend",
     "outputPrepend",
     "outputPrepend",
     "outputPrepend",
     "outputPrepend",
     "outputPrepend",
     "outputPrepend",
     "outputPrepend",
     "outputPrepend",
     "outputPrepend",
     "outputPrepend",
     "outputPrepend",
     "outputPrepend",
     "outputPrepend",
     "outputPrepend",
     "outputPrepend",
     "outputPrepend",
     "outputPrepend",
     "outputPrepend",
     "outputPrepend",
     "outputPrepend",
     "outputPrepend",
     "outputPrepend",
     "outputPrepend",
     "outputPrepend",
     "outputPrepend",
     "outputPrepend",
     "outputPrepend",
     "outputPrepend",
     "outputPrepend",
     "outputPrepend",
     "outputPrepend",
     "outputPrepend",
     "outputPrepend",
     "outputPrepend",
     "outputPrepend",
     "outputPrepend",
     "outputPrepend",
     "outputPrepend",
     "outputPrepend",
     "outputPrepend",
     "outputPrepend",
     "outputPrepend",
     "outputPrepend",
     "outputPrepend",
     "outputPrepend",
     "outputPrepend",
     "outputPrepend",
     "outputPrepend",
     "outputPrepend",
     "outputPrepend",
     "outputPrepend",
     "outputPrepend",
     "outputPrepend",
     "outputPrepend",
     "outputPrepend",
     "outputPrepend",
     "outputPrepend",
     "outputPrepend",
     "outputPrepend",
     "outputPrepend",
     "outputPrepend",
     "outputPrepend",
     "outputPrepend",
     "outputPrepend",
     "outputPrepend",
     "outputPrepend",
     "outputPrepend",
     "outputPrepend",
     "outputPrepend",
     "outputPrepend",
     "outputPrepend",
     "outputPrepend",
     "outputPrepend",
     "outputPrepend",
     "outputPrepend",
     "outputPrepend",
     "outputPrepend",
     "outputPrepend",
     "outputPrepend",
     "outputPrepend",
     "outputPrepend",
     "outputPrepend",
     "outputPrepend",
     "outputPrepend",
     "outputPrepend",
     "outputPrepend",
     "outputPrepend",
     "outputPrepend",
     "outputPrepend",
     "outputPrepend",
     "outputPrepend",
     "outputPrepend",
     "outputPrepend",
     "outputPrepend",
     "outputPrepend",
     "outputPrepend",
     "outputPrepend",
     "outputPrepend",
     "outputPrepend",
     "outputPrepend",
     "outputPrepend",
     "outputPrepend",
     "outputPrepend",
     "outputPrepend",
     "outputPrepend",
     "outputPrepend",
     "outputPrepend",
     "outputPrepend",
     "outputPrepend",
     "outputPrepend",
     "outputPrepend",
     "outputPrepend",
     "outputPrepend",
     "outputPrepend",
     "outputPrepend",
     "outputPrepend",
     "outputPrepend",
     "outputPrepend",
     "outputPrepend",
     "outputPrepend",
     "outputPrepend",
     "outputPrepend",
     "outputPrepend",
     "outputPrepend",
     "outputPrepend",
     "outputPrepend",
     "outputPrepend",
     "outputPrepend",
     "outputPrepend",
     "outputPrepend",
     "outputPrepend",
     "outputPrepend",
     "outputPrepend",
     "outputPrepend",
     "outputPrepend",
     "outputPrepend"
    ]
   },
   "outputs": [
    {
     "output_type": "stream",
     "name": "stdout",
     "text": "on 1323296 samples\n1323296/1323296 [==============================] - 3s 3us/sample - loss: 0.6230 - dense_5_loss: 0.1222 - dense_6_loss: 0.0263 - dense_7_loss: 0.0290 - dense_8_loss: 0.1565 - dense_9_loss: 0.1565 - dense_10_loss: 0.1091 - dense_5_accuracy: 0.9600 - dense_6_accuracy: 0.9891 - dense_7_accuracy: 0.9881 - dense_8_accuracy: 0.9459 - dense_9_accuracy: 0.9410 - dense_10_accuracy: 0.9523\nepoch: 44\nTrain on 1323296 samples\n1323296/1323296 [==============================] - 3s 3us/sample - loss: 0.6205 - dense_5_loss: 0.1214 - dense_6_loss: 0.0320 - dense_7_loss: 0.0292 - dense_8_loss: 0.1568 - dense_9_loss: 0.1548 - dense_10_loss: 0.1120 - dense_5_accuracy: 0.9609 - dense_6_accuracy: 0.9891 - dense_7_accuracy: 0.9881 - dense_8_accuracy: 0.9459 - dense_9_accuracy: 0.9412 - dense_10_accuracy: 0.9528\nepoch: 45\nTrain on 1323296 samples\n1323296/1323296 [==============================] - 3s 3us/sample - loss: 0.6232 - dense_5_loss: 0.1316 - dense_6_loss: 0.0333 - dense_7_loss: 0.0291 - dense_8_loss: 0.1684 - dense_9_loss: 0.1565 - dense_10_loss: 0.1111 - dense_5_accuracy: 0.9611 - dense_6_accuracy: 0.9870 - dense_7_accuracy: 0.9880 - dense_8_accuracy: 0.9459 - dense_9_accuracy: 0.9411 - dense_10_accuracy: 0.9523\nepoch: 46\nTrain on 1323296 samples\n1323296/1323296 [==============================] - 4s 3us/sample - loss: 0.6223 - dense_5_loss: 0.1231 - dense_6_loss: 0.0276 - dense_7_loss: 0.0306 - dense_8_loss: 0.1646 - dense_9_loss: 0.1580 - dense_10_loss: 0.1138 - dense_5_accuracy: 0.9610 - dense_6_accuracy: 0.9879 - dense_7_accuracy: 0.9880 - dense_8_accuracy: 0.9459 - dense_9_accuracy: 0.9413 - dense_10_accuracy: 0.9526\nepoch: 47\nTrain on 1323296 samples\n1323296/1323296 [==============================] - 4s 3us/sample - loss: 0.6232 - dense_5_loss: 0.1238 - dense_6_loss: 0.0303 - dense_7_loss: 0.0421 - dense_8_loss: 0.1611 - dense_9_loss: 0.1653 - dense_10_loss: 0.1208 - dense_5_accuracy: 0.9608 - dense_6_accuracy: 0.9887 - dense_7_accuracy: 0.9876 - dense_8_accuracy: 0.9459 - dense_9_accuracy: 0.9411 - dense_10_accuracy: 0.9517\nepoch: 48\nTrain on 1323296 samples\n1323296/1323296 [==============================] - 4s 3us/sample - loss: 0.6268 - dense_5_loss: 0.1220 - dense_6_loss: 0.0273 - dense_7_loss: 0.0330 - dense_8_loss: 0.1582 - dense_9_loss: 0.1578 - dense_10_loss: 0.1113 - dense_5_accuracy: 0.9609 - dense_6_accuracy: 0.9882 - dense_7_accuracy: 0.9873 - dense_8_accuracy: 0.9454 - dense_9_accuracy: 0.9406 - dense_10_accuracy: 0.9523\nepoch: 49\nTrain on 1323296 samples\n1323296/1323296 [==============================] - 3s 3us/sample - loss: 0.6221 - dense_5_loss: 0.1227 - dense_6_loss: 0.0263 - dense_7_loss: 0.0304 - dense_8_loss: 0.1567 - dense_9_loss: 0.1656 - dense_10_loss: 0.1156 - dense_5_accuracy: 0.9609 - dense_6_accuracy: 0.9888 - dense_7_accuracy: 0.9876 - dense_8_accuracy: 0.9458 - dense_9_accuracy: 0.9411 - dense_10_accuracy: 0.9527\nepoch: 50\nTrain on 1323296 samples\n1323296/1323296 [==============================] - 4s 3us/sample - loss: 0.6197 - dense_5_loss: 0.1346 - dense_6_loss: 0.0285 - dense_7_loss: 0.0291 - dense_8_loss: 0.1665 - dense_9_loss: 0.1559 - dense_10_loss: 0.1091 - dense_5_accuracy: 0.9606 - dense_6_accuracy: 0.9889 - dense_7_accuracy: 0.9881 - dense_8_accuracy: 0.9459 - dense_9_accuracy: 0.9410 - dense_10_accuracy: 0.9528\nepoch: 51\nTrain on 1323296 samples\n1323296/1323296 [==============================] - 3s 3us/sample - loss: 0.6207 - dense_5_loss: 0.1223 - dense_6_loss: 0.0262 - dense_7_loss: 0.0322 - dense_8_loss: 0.1634 - dense_9_loss: 0.1621 - dense_10_loss: 0.1097 - dense_5_accuracy: 0.9608 - dense_6_accuracy: 0.9887 - dense_7_accuracy: 0.9880 - dense_8_accuracy: 0.9457 - dense_9_accuracy: 0.9410 - dense_10_accuracy: 0.9527\nepoch: 52\nTrain on 1323296 samples\n1323296/1323296 [==============================] - 4s 3us/sample - loss: 0.6211 - dense_5_loss: 0.1214 - dense_6_loss: 0.0262 - dense_7_loss: 0.0300 - dense_8_loss: 0.1688 - dense_9_loss: 0.1681 - dense_10_loss: 0.1086 - dense_5_accuracy: 0.9611 - dense_6_accuracy: 0.9889 - dense_7_accuracy: 0.9872 - dense_8_accuracy: 0.9459 - dense_9_accuracy: 0.9411 - dense_10_accuracy: 0.9516\nepoch: 53\nTrain on 1323296 samples\n1323296/1323296 [==============================] - 3s 3us/sample - loss: 0.6195 - dense_5_loss: 0.1450 - dense_6_loss: 0.0259 - dense_7_loss: 0.0305 - dense_8_loss: 0.1869 - dense_9_loss: 0.1558 - dense_10_loss: 0.1076 - dense_5_accuracy: 0.9611 - dense_6_accuracy: 0.9891 - dense_7_accuracy: 0.9878 - dense_8_accuracy: 0.9459 - dense_9_accuracy: 0.9410 - dense_10_accuracy: 0.9523\nepoch: 54\nTrain on 1323296 samples\n1323296/1323296 [==============================] - 4s 3us/sample - loss: 0.6241 - dense_5_loss: 0.1232 - dense_6_loss: 0.0261 - dense_7_loss: 0.0295 - dense_8_loss: 0.1587 - dense_9_loss: 0.1569 - dense_10_loss: 0.1095 - dense_5_accuracy: 0.9608 - dense_6_accuracy: 0.9889 - dense_7_accuracy: 0.9877 - dense_8_accuracy: 0.9457 - dense_9_accuracy: 0.9412 - dense_10_accuracy: 0.9527\nepoch: 55\nTrain on 1323296 samples\n1323296/1323296 [==============================] - 3s 3us/sample - loss: 0.6190 - dense_5_loss: 0.1220 - dense_6_loss: 0.0280 - dense_7_loss: 0.0330 - dense_8_loss: 0.1671 - dense_9_loss: 0.1562 - dense_10_loss: 0.1229 - dense_5_accuracy: 0.9607 - dense_6_accuracy: 0.9892 - dense_7_accuracy: 0.9880 - dense_8_accuracy: 0.9459 - dense_9_accuracy: 0.9413 - dense_10_accuracy: 0.9530\nepoch: 56\nTrain on 1323296 samples\n1323296/1323296 [==============================] - 3s 3us/sample - loss: 0.6234 - dense_5_loss: 0.1253 - dense_6_loss: 0.0283 - dense_7_loss: 0.0306 - dense_8_loss: 0.1615 - dense_9_loss: 0.1627 - dense_10_loss: 0.1165 - dense_5_accuracy: 0.9610 - dense_6_accuracy: 0.9889 - dense_7_accuracy: 0.9868 - dense_8_accuracy: 0.9459 - dense_9_accuracy: 0.9413 - dense_10_accuracy: 0.9516\nepoch: 57\nTrain on 1323296 samples\n1323296/1323296 [==============================] - 3s 3us/sample - loss: 0.6219 - dense_5_loss: 0.1241 - dense_6_loss: 0.0301 - dense_7_loss: 0.0303 - dense_8_loss: 0.1663 - dense_9_loss: 0.1648 - dense_10_loss: 0.1139 - dense_5_accuracy: 0.9604 - dense_6_accuracy: 0.9887 - dense_7_accuracy: 0.9877 - dense_8_accuracy: 0.9459 - dense_9_accuracy: 0.9408 - dense_10_accuracy: 0.9525\nepoch: 58\nTrain on 1323296 samples\n1323296/1323296 [==============================] - 3s 3us/sample - loss: 0.6208 - dense_5_loss: 0.1362 - dense_6_loss: 0.0268 - dense_7_loss: 0.0411 - dense_8_loss: 0.1838 - dense_9_loss: 0.1747 - dense_10_loss: 0.1071 - dense_5_accuracy: 0.9609 - dense_6_accuracy: 0.9884 - dense_7_accuracy: 0.9879 - dense_8_accuracy: 0.9459 - dense_9_accuracy: 0.9412 - dense_10_accuracy: 0.9522\nepoch: 59\nTrain on 1323296 samples\n1323296/1323296 [==============================] - 3s 3us/sample - loss: 0.6262 - dense_5_loss: 0.1271 - dense_6_loss: 0.0262 - dense_7_loss: 0.0359 - dense_8_loss: 0.1600 - dense_9_loss: 0.1596 - dense_10_loss: 0.1077 - dense_5_accuracy: 0.9604 - dense_6_accuracy: 0.9888 - dense_7_accuracy: 0.9862 - dense_8_accuracy: 0.9459 - dense_9_accuracy: 0.9410 - dense_10_accuracy: 0.9526\nepoch: 60\nTrain on 1323296 samples\n1323296/1323296 [==============================] - 3s 3us/sample - loss: 0.6199 - dense_5_loss: 0.1384 - dense_6_loss: 0.0260 - dense_7_loss: 0.0329 - dense_8_loss: 0.1690 - dense_9_loss: 0.1565 - dense_10_loss: 0.1107 - dense_5_accuracy: 0.9612 - dense_6_accuracy: 0.9891 - dense_7_accuracy: 0.9873 - dense_8_accuracy: 0.9459 - dense_9_accuracy: 0.9412 - dense_10_accuracy: 0.9528\nepoch: 61\nTrain on 1323296 samples\n1323296/1323296 [==============================] - 5s 4us/sample - loss: 0.6174 - dense_5_loss: 0.1214 - dense_6_loss: 0.0274 - dense_7_loss: 0.0292 - dense_8_loss: 0.1572 - dense_9_loss: 0.1628 - dense_10_loss: 0.1120 - dense_5_accuracy: 0.9612 - dense_6_accuracy: 0.9894 - dense_7_accuracy: 0.9879 - dense_8_accuracy: 0.9459 - dense_9_accuracy: 0.9413 - dense_10_accuracy: 0.9528\nepoch: 62\nTrain on 1323296 samples\n1323296/1323296 [==============================] - 3s 3us/sample - loss: 0.6166 - dense_5_loss: 0.1283 - dense_6_loss: 0.0312 - dense_7_loss: 0.0397 - dense_8_loss: 0.1669 - dense_9_loss: 0.1638 - dense_10_loss: 0.1165 - dense_5_accuracy: 0.9610 - dense_6_accuracy: 0.9894 - dense_7_accuracy: 0.9879 - dense_8_accuracy: 0.9459 - dense_9_accuracy: 0.9414 - dense_10_accuracy: 0.9529\nepoch: 63\nTrain on 1323296 samples\n1323296/1323296 [==============================] - 3s 3us/sample - loss: 0.6164 - dense_5_loss: 0.1212 - dense_6_loss: 0.0259 - dense_7_loss: 0.0286 - dense_8_loss: 0.1568 - dense_9_loss: 0.1543 - dense_10_loss: 0.1064 - dense_5_accuracy: 0.9610 - dense_6_accuracy: 0.9894 - dense_7_accuracy: 0.9880 - dense_8_accuracy: 0.9459 - dense_9_accuracy: 0.9414 - dense_10_accuracy: 0.9529\nepoch: 64\nTrain on 1323296 samples\n1323296/1323296 [==============================] - 3s 3us/sample - loss: 0.6162 - dense_5_loss: 0.1253 - dense_6_loss: 0.0257 - dense_7_loss: 0.0287 - dense_8_loss: 0.1656 - dense_9_loss: 0.1574 - dense_10_loss: 0.1074 - dense_5_accuracy: 0.9610 - dense_6_accuracy: 0.9894 - dense_7_accuracy: 0.9880 - dense_8_accuracy: 0.9459 - dense_9_accuracy: 0.9414 - dense_10_accuracy: 0.9528\nepoch: 65\nTrain on 1323296 samples\n1323296/1323296 [==============================] - 3s 3us/sample - loss: 0.6161 - dense_5_loss: 0.1323 - dense_6_loss: 0.0258 - dense_7_loss: 0.0285 - dense_8_loss: 0.1654 - dense_9_loss: 0.1589 - dense_10_loss: 0.1074 - dense_5_accuracy: 0.9611 - dense_6_accuracy: 0.9894 - dense_7_accuracy: 0.9881 - dense_8_accuracy: 0.9459 - dense_9_accuracy: 0.9414 - dense_10_accuracy: 0.9530\nepoch: 66\nTrain on 1323296 samples\n1323296/1323296 [==============================] - 3s 3us/sample - loss: 0.6159 - dense_5_loss: 0.1337 - dense_6_loss: 0.0256 - dense_7_loss: 0.0297 - dense_8_loss: 0.1628 - dense_9_loss: 0.1677 - dense_10_loss: 0.1094 - dense_5_accuracy: 0.9612 - dense_6_accuracy: 0.9894 - dense_7_accuracy: 0.9881 - dense_8_accuracy: 0.9459 - dense_9_accuracy: 0.9412 - dense_10_accuracy: 0.9528\nepoch: 67\nTrain on 1323296 samples\n1323296/1323296 [==============================] - 3s 3us/sample - loss: 0.6160 - dense_5_loss: 0.1232 - dense_6_loss: 0.0256 - dense_7_loss: 0.0287 - dense_8_loss: 0.1593 - dense_9_loss: 0.1589 - dense_10_loss: 0.1120 - dense_5_accuracy: 0.9609 - dense_6_accuracy: 0.9894 - dense_7_accuracy: 0.9880 - dense_8_accuracy: 0.9459 - dense_9_accuracy: 0.9413 - dense_10_accuracy: 0.9531\nepoch: 68\nTrain on 1323296 samples\n1323296/1323296 [==============================] - 3s 3us/sample - loss: 0.6160 - dense_5_loss: 0.1314 - dense_6_loss: 0.0294 - dense_7_loss: 0.0285 - dense_8_loss: 0.1635 - dense_9_loss: 0.1569 - dense_10_loss: 0.1136 - dense_5_accuracy: 0.9607 - dense_6_accuracy: 0.9894 - dense_7_accuracy: 0.9881 - dense_8_accuracy: 0.9459 - dense_9_accuracy: 0.9414 - dense_10_accuracy: 0.9531\nepoch: 69\nTrain on 1323296 samples\n1323296/1323296 [==============================] - 3s 3us/sample - loss: 0.6158 - dense_5_loss: 0.1317 - dense_6_loss: 0.0256 - dense_7_loss: 0.0290 - dense_8_loss: 0.1633 - dense_9_loss: 0.1561 - dense_10_loss: 0.1080 - dense_5_accuracy: 0.9609 - dense_6_accuracy: 0.9894 - dense_7_accuracy: 0.9881 - dense_8_accuracy: 0.9459 - dense_9_accuracy: 0.9414 - dense_10_accuracy: 0.9531\nepoch: 70\nTrain on 1323296 samples\n1323296/1323296 [==============================] - 3s 3us/sample - loss: 0.6158 - dense_5_loss: 0.1326 - dense_6_loss: 0.0272 - dense_7_loss: 0.0285 - dense_8_loss: 0.1650 - dense_9_loss: 0.1592 - dense_10_loss: 0.1093 - dense_5_accuracy: 0.9611 - dense_6_accuracy: 0.9893 - dense_7_accuracy: 0.9882 - dense_8_accuracy: 0.9459 - dense_9_accuracy: 0.9414 - dense_10_accuracy: 0.9531\nepoch: 71\nTrain on 1323296 samples\n1323296/1323296 [==============================] - 3s 3us/sample - loss: 0.6158 - dense_5_loss: 0.1345 - dense_6_loss: 0.0255 - dense_7_loss: 0.0293 - dense_8_loss: 0.1768 - dense_9_loss: 0.1679 - dense_10_loss: 0.1116 - dense_5_accuracy: 0.9612 - dense_6_accuracy: 0.9893 - dense_7_accuracy: 0.9882 - dense_8_accuracy: 0.9459 - dense_9_accuracy: 0.9414 - dense_10_accuracy: 0.9532\nepoch: 72\nTrain on 1323296 samples\n1323296/1323296 [==============================] - 3s 3us/sample - loss: 0.6158 - dense_5_loss: 0.1220 - dense_6_loss: 0.0255 - dense_7_loss: 0.0307 - dense_8_loss: 0.1560 - dense_9_loss: 0.1587 - dense_10_loss: 0.1117 - dense_5_accuracy: 0.9612 - dense_6_accuracy: 0.9894 - dense_7_accuracy: 0.9881 - dense_8_accuracy: 0.9459 - dense_9_accuracy: 0.9414 - dense_10_accuracy: 0.9531\nepoch: 73\nTrain on 1323296 samples\n1323296/1323296 [==============================] - 3s 3us/sample - loss: 0.6156 - dense_5_loss: 0.1227 - dense_6_loss: 0.0259 - dense_7_loss: 0.0290 - dense_8_loss: 0.1633 - dense_9_loss: 0.1629 - dense_10_loss: 0.1076 - dense_5_accuracy: 0.9612 - dense_6_accuracy: 0.9894 - dense_7_accuracy: 0.9882 - dense_8_accuracy: 0.9459 - dense_9_accuracy: 0.9414 - dense_10_accuracy: 0.9530\nepoch: 74\nTrain on 1323296 samples\n1323296/1323296 [==============================] - 3s 3us/sample - loss: 0.6155 - dense_5_loss: 0.1230 - dense_6_loss: 0.0254 - dense_7_loss: 0.0285 - dense_8_loss: 0.1613 - dense_9_loss: 0.1579 - dense_10_loss: 0.1054 - dense_5_accuracy: 0.9612 - dense_6_accuracy: 0.9894 - dense_7_accuracy: 0.9882 - dense_8_accuracy: 0.9459 - dense_9_accuracy: 0.9413 - dense_10_accuracy: 0.9531\nepoch: 75\nTrain on 1323296 samples\n1323296/1323296 [==============================] - 3s 3us/sample - loss: 0.6154 - dense_5_loss: 0.1328 - dense_6_loss: 0.0256 - dense_7_loss: 0.0285 - dense_8_loss: 0.1670 - dense_9_loss: 0.1544 - dense_10_loss: 0.1058 - dense_5_accuracy: 0.9612 - dense_6_accuracy: 0.9894 - dense_7_accuracy: 0.9882 - dense_8_accuracy: 0.9459 - dense_9_accuracy: 0.9414 - dense_10_accuracy: 0.9532\nepoch: 76\nTrain on 1323296 samples\n1323296/1323296 [==============================] - 3s 3us/sample - loss: 0.6154 - dense_5_loss: 0.1388 - dense_6_loss: 0.0423 - dense_7_loss: 0.0303 - dense_8_loss: 0.1811 - dense_9_loss: 0.1590 - dense_10_loss: 0.1392 - dense_5_accuracy: 0.9612 - dense_6_accuracy: 0.9894 - dense_7_accuracy: 0.9882 - dense_8_accuracy: 0.9459 - dense_9_accuracy: 0.9414 - dense_10_accuracy: 0.9532\nepoch: 77\nTrain on 1323296 samples\n1323296/1323296 [==============================] - 3s 3us/sample - loss: 0.6155 - dense_5_loss: 0.1211 - dense_6_loss: 0.0255 - dense_7_loss: 0.0286 - dense_8_loss: 0.1635 - dense_9_loss: 0.1606 - dense_10_loss: 0.1285 - dense_5_accuracy: 0.9612 - dense_6_accuracy: 0.9894 - dense_7_accuracy: 0.9881 - dense_8_accuracy: 0.9459 - dense_9_accuracy: 0.9414 - dense_10_accuracy: 0.9532\nepoch: 78\nTrain on 1323296 samples\n1323296/1323296 [==============================] - 3s 3us/sample - loss: 0.6154 - dense_5_loss: 0.1211 - dense_6_loss: 0.0255 - dense_7_loss: 0.0296 - dense_8_loss: 0.1620 - dense_9_loss: 0.1620 - dense_10_loss: 0.1057 - dense_5_accuracy: 0.9612 - dense_6_accuracy: 0.9893 - dense_7_accuracy: 0.9881 - dense_8_accuracy: 0.9459 - dense_9_accuracy: 0.9414 - dense_10_accuracy: 0.9533\nepoch: 79\nTrain on 1323296 samples\n1323296/1323296 [==============================] - 3s 3us/sample - loss: 0.6153 - dense_5_loss: 0.1208 - dense_6_loss: 0.0287 - dense_7_loss: 0.0308 - dense_8_loss: 0.1554 - dense_9_loss: 0.1683 - dense_10_loss: 0.1085 - dense_5_accuracy: 0.9611 - dense_6_accuracy: 0.9894 - dense_7_accuracy: 0.9882 - dense_8_accuracy: 0.9459 - dense_9_accuracy: 0.9414 - dense_10_accuracy: 0.9533\nepoch: 80\nTrain on 1323296 samples\n1323296/1323296 [==============================] - 3s 3us/sample - loss: 0.6153 - dense_5_loss: 0.1261 - dense_6_loss: 0.0291 - dense_7_loss: 0.0286 - dense_8_loss: 0.1678 - dense_9_loss: 0.1597 - dense_10_loss: 0.1186 - dense_5_accuracy: 0.9610 - dense_6_accuracy: 0.9894 - dense_7_accuracy: 0.9881 - dense_8_accuracy: 0.9459 - dense_9_accuracy: 0.9414 - dense_10_accuracy: 0.9532\nepoch: 81\nTrain on 1323296 samples\n1323296/1323296 [==============================] - 4s 3us/sample - loss: 0.6154 - dense_5_loss: 0.1213 - dense_6_loss: 0.0264 - dense_7_loss: 0.0288 - dense_8_loss: 0.1576 - dense_9_loss: 0.1554 - dense_10_loss: 0.1081 - dense_5_accuracy: 0.9610 - dense_6_accuracy: 0.9892 - dense_7_accuracy: 0.9881 - dense_8_accuracy: 0.9459 - dense_9_accuracy: 0.9415 - dense_10_accuracy: 0.9532\nepoch: 82\nTrain on 1323296 samples\n1323296/1323296 [==============================] - 3s 3us/sample - loss: 0.6153 - dense_5_loss: 0.1481 - dense_6_loss: 0.0417 - dense_7_loss: 0.0318 - dense_8_loss: 0.1812 - dense_9_loss: 0.1658 - dense_10_loss: 0.1069 - dense_5_accuracy: 0.9610 - dense_6_accuracy: 0.9892 - dense_7_accuracy: 0.9881 - dense_8_accuracy: 0.9459 - dense_9_accuracy: 0.9415 - dense_10_accuracy: 0.9533\nepoch: 83\nTrain on 1323296 samples\n1323296/1323296 [==============================] - 3s 3us/sample - loss: 0.6152 - dense_5_loss: 0.1208 - dense_6_loss: 0.0295 - dense_7_loss: 0.0287 - dense_8_loss: 0.1565 - dense_9_loss: 0.1541 - dense_10_loss: 0.1070 - dense_5_accuracy: 0.9610 - dense_6_accuracy: 0.9893 - dense_7_accuracy: 0.9880 - dense_8_accuracy: 0.9459 - dense_9_accuracy: 0.9414 - dense_10_accuracy: 0.9532\nepoch: 84\nTrain on 1323296 samples\n1323296/1323296 [==============================] - 4s 3us/sample - loss: 0.6154 - dense_5_loss: 0.1238 - dense_6_loss: 0.0287 - dense_7_loss: 0.0293 - dense_8_loss: 0.1588 - dense_9_loss: 0.1585 - dense_10_loss: 0.1093 - dense_5_accuracy: 0.9610 - dense_6_accuracy: 0.9892 - dense_7_accuracy: 0.9880 - dense_8_accuracy: 0.9459 - dense_9_accuracy: 0.9415 - dense_10_accuracy: 0.9531\nepoch: 85\nTrain on 1323296 samples\n1323296/1323296 [==============================] - 3s 3us/sample - loss: 0.6152 - dense_5_loss: 0.1208 - dense_6_loss: 0.0256 - dense_7_loss: 0.0285 - dense_8_loss: 0.1561 - dense_9_loss: 0.1546 - dense_10_loss: 0.1072 - dense_5_accuracy: 0.9610 - dense_6_accuracy: 0.9893 - dense_7_accuracy: 0.9880 - dense_8_accuracy: 0.9459 - dense_9_accuracy: 0.9414 - dense_10_accuracy: 0.9532\nepoch: 86\nTrain on 1323296 samples\n1323296/1323296 [==============================] - 3s 3us/sample - loss: 0.6151 - dense_5_loss: 0.1213 - dense_6_loss: 0.0254 - dense_7_loss: 0.0294 - dense_8_loss: 0.1621 - dense_9_loss: 0.1751 - dense_10_loss: 0.1153 - dense_5_accuracy: 0.9610 - dense_6_accuracy: 0.9893 - dense_7_accuracy: 0.9880 - dense_8_accuracy: 0.9459 - dense_9_accuracy: 0.9415 - dense_10_accuracy: 0.9532\nepoch: 87\nTrain on 1323296 samples\n1323296/1323296 [==============================] - 3s 3us/sample - loss: 0.6150 - dense_5_loss: 0.1227 - dense_6_loss: 0.0254 - dense_7_loss: 0.0285 - dense_8_loss: 0.1566 - dense_9_loss: 0.1552 - dense_10_loss: 0.1067 - dense_5_accuracy: 0.9610 - dense_6_accuracy: 0.9893 - dense_7_accuracy: 0.9882 - dense_8_accuracy: 0.9459 - dense_9_accuracy: 0.9415 - dense_10_accuracy: 0.9533\nepoch: 88\nTrain on 1323296 samples\n1323296/1323296 [==============================] - 3s 3us/sample - loss: 0.6150 - dense_5_loss: 0.1224 - dense_6_loss: 0.0290 - dense_7_loss: 0.0284 - dense_8_loss: 0.1627 - dense_9_loss: 0.1555 - dense_10_loss: 0.1088 - dense_5_accuracy: 0.9610 - dense_6_accuracy: 0.9894 - dense_7_accuracy: 0.9882 - dense_8_accuracy: 0.9459 - dense_9_accuracy: 0.9415 - dense_10_accuracy: 0.9533\nepoch: 89\nTrain on 1323296 samples\n1323296/1323296 [==============================] - 3s 3us/sample - loss: 0.6150 - dense_5_loss: 0.1213 - dense_6_loss: 0.0276 - dense_7_loss: 0.0302 - dense_8_loss: 0.1633 - dense_9_loss: 0.1628 - dense_10_loss: 0.1086 - dense_5_accuracy: 0.9611 - dense_6_accuracy: 0.9894 - dense_7_accuracy: 0.9882 - dense_8_accuracy: 0.9459 - dense_9_accuracy: 0.9415 - dense_10_accuracy: 0.9534\nepoch: 90\nTrain on 1323296 samples\n1323296/1323296 [==============================] - 3s 3us/sample - loss: 0.6151 - dense_5_loss: 0.1319 - dense_6_loss: 0.0255 - dense_7_loss: 0.0312 - dense_8_loss: 0.1703 - dense_9_loss: 0.1631 - dense_10_loss: 0.1189 - dense_5_accuracy: 0.9610 - dense_6_accuracy: 0.9894 - dense_7_accuracy: 0.9880 - dense_8_accuracy: 0.9459 - dense_9_accuracy: 0.9415 - dense_10_accuracy: 0.9534\n"
    }
   ],
   "source": [
    "model = compile_model(model, 1e-2)\n",
    "for i in range(90):\n",
    "    if i == 30:\n",
    "        model = compile_model(model, 1e-3)\n",
    "    elif i == 60:\n",
    "        model = compile_model(model, 1e-4)\n",
    "    print('epoch: '+str(i+1))\n",
    "    model.fit(x=X_train,\n",
    "              y=y_train, \n",
    "              batch_size=situation_train.shape[0]//20,\n",
    "              epochs=1,\n",
    "              shuffle=True,\n",
    "              verbose=1)"
   ]
  },
  {
   "cell_type": "code",
   "execution_count": 16,
   "metadata": {},
   "outputs": [
    {
     "output_type": "stream",
     "name": "stdout",
     "text": "Model: \"model\"\n__________________________________________________________________________________________________\nLayer (type)                    Output Shape         Param #     Connected to                     \n==================================================================================================\ninput_2 (InputLayer)            [(None, 1)]          0                                            \n__________________________________________________________________________________________________\nembedding (Embedding)           (None, 1, 8)         904         input_2[0][0]                    \n__________________________________________________________________________________________________\ninput_1 (InputLayer)            [(None, 5)]          0                                            \n__________________________________________________________________________________________________\nreshape (Reshape)               (None, 8)            0           embedding[0][0]                  \n__________________________________________________________________________________________________\nconcatenate (Concatenate)       (None, 13)           0           input_1[0][0]                    \n                                                                 reshape[0][0]                    \n__________________________________________________________________________________________________\ndense (Dense)                   (None, 64)           896         concatenate[0][0]                \n__________________________________________________________________________________________________\ndense_1 (Dense)                 (None, 64)           4160        dense[0][0]                      \n__________________________________________________________________________________________________\ndense_2 (Dense)                 (None, 64)           4160        dense_1[0][0]                    \n__________________________________________________________________________________________________\ndense_5 (Dense)                 (None, 3)            195         dense_2[0][0]                    \n__________________________________________________________________________________________________\ndense_6 (Dense)                 (None, 5)            325         dense_2[0][0]                    \n__________________________________________________________________________________________________\ndense_7 (Dense)                 (None, 5)            325         dense_2[0][0]                    \n__________________________________________________________________________________________________\ndense_8 (Dense)                 (None, 1)            65          dense_2[0][0]                    \n__________________________________________________________________________________________________\ndense_9 (Dense)                 (None, 1)            65          dense_2[0][0]                    \n__________________________________________________________________________________________________\ndense_10 (Dense)                (None, 1)            65          dense_2[0][0]                    \n==================================================================================================\nTotal params: 11,160\nTrainable params: 11,160\nNon-trainable params: 0\n__________________________________________________________________________________________________\n"
    }
   ],
   "source": [
    "model.summary()"
   ]
  },
  {
   "cell_type": "code",
   "execution_count": 17,
   "metadata": {},
   "outputs": [
    {
     "output_type": "stream",
     "name": "stdout",
     "text": "330826/330826 [==============================] - 1s 3us/sample - loss: 0.6215 - dense_5_loss: 0.1231 - dense_6_loss: 0.0269 - dense_7_loss: 0.0287 - dense_8_loss: 0.2000 - dense_9_loss: 0.1849 - dense_10_loss: 0.1648 - dense_5_accuracy: 0.9603 - dense_6_accuracy: 0.9889 - dense_7_accuracy: 0.9881 - dense_8_accuracy: 0.9458 - dense_9_accuracy: 0.9412 - dense_10_accuracy: 0.9529\n"
    }
   ],
   "source": [
    "[loss, l3, l4, l5, l6, l7, l8, \n",
    " outs_acc, \n",
    " visiting_score_acc, home_score_acc, \n",
    " first_acc, second_acc, third_acc] = model.evaluate(X_test, y_test, batch_size=situation_test.shape[0]//20)"
   ]
  },
  {
   "cell_type": "code",
   "execution_count": 18,
   "metadata": {},
   "outputs": [
    {
     "output_type": "stream",
     "name": "stdout",
     "text": "outs accuracy: 0.96034473\nvisiting score accuracy: 0.9889428\nhome score accuracy: 0.98809946\nfirst accuracy: 0.94584465\nsecond accuracy: 0.94121987\nthird accuracy: 0.9528695\n"
    }
   ],
   "source": [
    "#print('inning accuracy: '+str(inning_acc))\n",
    "#print('half inning accuracy: '+str(half_inning_acc))\n",
    "print('outs accuracy: '+str(outs_acc))\n",
    "print('visiting score accuracy: '+str(visiting_score_acc))\n",
    "print('home score accuracy: '+str(home_score_acc))\n",
    "print('first accuracy: '+str(first_acc))\n",
    "print('second accuracy: '+str(second_acc))\n",
    "print('third accuracy: '+str(third_acc))"
   ]
  },
  {
   "cell_type": "code",
   "execution_count": 34,
   "metadata": {},
   "outputs": [
    {
     "output_type": "stream",
     "name": "stdout",
     "text": "outs accuracy: 0.9601941\nvisiting score accuracy: 0.988743\nhome score accuracy: 0.9875422\nfirst accuracy: 0.9456364\nsecond accuracy: 0.94013107\nthird accuracy: 0.952595\n"
    }
   ],
   "source": [
    "# print('inning accuracy: '+str(inning_acc))\n",
    "# print('half inning accuracy: '+str(half_inning_acc))\n",
    "print('outs accuracy: '+str(outs_acc))\n",
    "print('visiting score accuracy: '+str(visiting_score_acc))\n",
    "print('home score accuracy: '+str(home_score_acc))\n",
    "print('first accuracy: '+str(first_acc))\n",
    "print('second accuracy: '+str(second_acc))\n",
    "print('third accuracy: '+str(third_acc))"
   ]
  },
  {
   "cell_type": "code",
   "execution_count": 42,
   "metadata": {},
   "outputs": [
    {
     "output_type": "stream",
     "name": "stdout",
     "text": "outs accuracy: 0.12330812\nvisiting score accuracy: 0.027783116\nhome score accuracy: 0.030062685\nfirst accuracy: 0.15806599\nsecond accuracy: 0.15753484\nthird accuracy: 0.10959541\n"
    }
   ],
   "source": [
    "print('outs accuracy: '+str(l3))\n",
    "print('visiting score accuracy: '+str(l4))\n",
    "print('home score accuracy: '+str(l5))\n",
    "print('first accuracy: '+str(l6))\n",
    "print('second accuracy: '+str(l7))\n",
    "print('third accuracy: '+str(l8))"
   ]
  },
  {
   "cell_type": "code",
   "execution_count": 35,
   "metadata": {},
   "outputs": [
    {
     "output_type": "stream",
     "name": "stdout",
     "text": "outs accuracy: 0.12205936\nvisiting score accuracy: 0.026567861\nhome score accuracy: 0.028697474\nfirst accuracy: 0.15731363\nsecond accuracy: 0.15605888\nthird accuracy: 0.10687726\n"
    }
   ],
   "source": [
    "print('outs accuracy: '+str(l3))\n",
    "print('visiting score accuracy: '+str(l4))\n",
    "print('home score accuracy: '+str(l5))\n",
    "print('first accuracy: '+str(l6))\n",
    "print('second accuracy: '+str(l7))\n",
    "print('third accuracy: '+str(l8))"
   ]
  },
  {
   "cell_type": "code",
   "execution_count": 19,
   "metadata": {},
   "outputs": [],
   "source": [
    "y_pred = model(X_test)"
   ]
  },
  {
   "cell_type": "code",
   "execution_count": 20,
   "metadata": {},
   "outputs": [],
   "source": [
    "y_pred = np.concatenate((y_pred), axis=1)"
   ]
  },
  {
   "cell_type": "code",
   "execution_count": 21,
   "metadata": {},
   "outputs": [
    {
     "output_type": "stream",
     "name": "stderr",
     "text": "WARNING:root:Limited tf.compat.v2.summary API due to missing TensorBoard installation.\nWARNING:root:Limited tf.compat.v2.summary API due to missing TensorBoard installation.\nWARNING:root:Limited tf.compat.v2.summary API due to missing TensorBoard installation.\nWARNING:tensorflow:From C:\\Users\\rcpat\\Anaconda3\\envs\\retro\\lib\\site-packages\\tensorflow_core\\python\\ops\\resource_variable_ops.py:1786: calling BaseResourceVariable.__init__ (from tensorflow.python.ops.resource_variable_ops) with constraint is deprecated and will be removed in a future version.\nInstructions for updating:\nIf using Keras pass *_constraint arguments to layers.\nWARNING:tensorflow:From C:\\Users\\rcpat\\Anaconda3\\envs\\retro\\lib\\site-packages\\tensorflow_core\\python\\ops\\resource_variable_ops.py:1786: calling BaseResourceVariable.__init__ (from tensorflow.python.ops.resource_variable_ops) with constraint is deprecated and will be removed in a future version.\nInstructions for updating:\nIf using Keras pass *_constraint arguments to layers.\nINFO:tensorflow:Assets written to: ..\\models\\situation_prediction_tanh3\\assets\nINFO:tensorflow:Assets written to: ..\\models\\situation_prediction_tanh3\\assets\n"
    }
   ],
   "source": [
    "model.save('..\\\\models\\\\situation_prediction_tanh3')"
   ]
  },
  {
   "cell_type": "code",
   "execution_count": 22,
   "metadata": {},
   "outputs": [],
   "source": [
    "model2 = tf.keras.models.load_model('..\\\\models\\\\situation_prediction_tanh3')"
   ]
  },
  {
   "cell_type": "code",
   "execution_count": 23,
   "metadata": {},
   "outputs": [],
   "source": [
    "cats = df['event_final'].astype('category')\n",
    "\n",
    "outcome_dict = {}\n",
    "for i, cat in enumerate(cats.cat.categories):\n",
    "    outcome_dict[cat] = i\n",
    "outcome_dict_rev = dict(enumerate(cats.cat.categories))\n",
    "N_outcomes = len(outcome_dict)"
   ]
  },
  {
   "cell_type": "code",
   "execution_count": 24,
   "metadata": {},
   "outputs": [
    {
     "output_type": "execute_result",
     "data": {
      "text/plain": "{'1B': 0,\n '1G': 1,\n '1L': 2,\n '1P': 3,\n '1SH': 4,\n '2B': 5,\n '2G': 6,\n '2P': 7,\n '2SH': 8,\n '34G': 9,\n '3B': 10,\n '3EG': 11,\n '3G': 12,\n '3L': 13,\n '3P': 14,\n '3SH': 15,\n '4B': 16,\n '4G': 17,\n '4L': 18,\n '4P': 19,\n '5B': 20,\n '5G': 21,\n '5L': 22,\n '5P': 23,\n '5SH': 24,\n '6G': 25,\n '6L': 26,\n '6P': 27,\n '6SF': 28,\n '7F': 29,\n '7L': 30,\n '7SF': 31,\n '8F': 32,\n '8L': 33,\n '8SF': 34,\n '9F': 35,\n '9G': 36,\n '9L': 37,\n '9SF': 38,\n 'C': 39,\n 'D1G': 40,\n 'D3G': 41,\n 'D4G': 42,\n 'D5G': 43,\n 'D7F': 44,\n 'D7G': 45,\n 'D7L': 46,\n 'D8F': 47,\n 'D8G': 48,\n 'D8L': 49,\n 'D9F': 50,\n 'D9G': 51,\n 'D9L': 52,\n 'DG': 53,\n 'DG7': 54,\n 'DG8': 55,\n 'DG89': 56,\n 'DG9': 57,\n 'FC1': 58,\n 'FC2': 59,\n 'FC3': 60,\n 'FC4': 61,\n 'FC5': 62,\n 'FC6': 63,\n 'H': 64,\n 'H7': 65,\n 'H78': 66,\n 'H8': 67,\n 'H89': 68,\n 'H9': 69,\n 'HF': 70,\n 'IW': 71,\n 'K': 72,\n 'S1B': 73,\n 'S1G': 74,\n 'S1L': 75,\n 'S2B': 76,\n 'S2G': 77,\n 'S3B': 78,\n 'S3G': 79,\n 'S3L': 80,\n 'S3P': 81,\n 'S4B': 82,\n 'S4G': 83,\n 'S4L': 84,\n 'S4P': 85,\n 'S5B': 86,\n 'S5G': 87,\n 'S5L': 88,\n 'S6B': 89,\n 'S6G': 90,\n 'S6L': 91,\n 'S6P': 92,\n 'S7F': 93,\n 'S7G': 94,\n 'S7L': 95,\n 'S8F': 96,\n 'S8G': 97,\n 'S8L': 98,\n 'S9F': 99,\n 'S9G': 100,\n 'S9L': 101,\n 'SB': 102,\n 'T7F': 103,\n 'T7G': 104,\n 'T7L': 105,\n 'T8F': 106,\n 'T8L': 107,\n 'T9F': 108,\n 'T9G': 109,\n 'T9L': 110,\n 'W': 111,\n 'other': 112}"
     },
     "metadata": {},
     "execution_count": 24
    }
   ],
   "source": [
    "outcome_dict"
   ]
  },
  {
   "cell_type": "code",
   "execution_count": 25,
   "metadata": {},
   "outputs": [],
   "source": [
    "def update_situation(situation, outcome, model=model2):\n",
    "    vals = np.array(list(situation.values()))[3:].astype(np.float32)\n",
    "    pred = model([vals.reshape(1, -1), outcome.astype(np.int32)])\n",
    "    pred = [np.squeeze(p.numpy()) for p in pred]\n",
    "    valid = False\n",
    "    count = 0\n",
    "    while not valid and count < 20:\n",
    "        count += 1\n",
    "        inning = np.random.choice(2, p=[1-pred[0], pred[0]])\n",
    "        half_inning = np.random.choice(2, p=[1-pred[1], pred[1]])\n",
    "        outs = np.random.choice(pred[2].shape[0], p=pred[2])\n",
    "        visiting_score = np.random.choice(pred[3].shape[0], p=pred[3])\n",
    "        home_score = np.random.choice(pred[4].shape[0], p=pred[4])\n",
    "        first = np.random.choice(2, p=[1-pred[5], pred[5]])\n",
    "        second = np.random.choice(2, p=[1-pred[6], pred[6]])\n",
    "        third = np.random.choice(2, p=[1-pred[7], pred[7]])\n",
    "        situation_out = {'inning diff' : inning,\n",
    "                         'home score diff' : home_score,\n",
    "                         'visiting score diff' : visiting_score,\n",
    "                         'half inning' : half_inning,\n",
    "                         'outs' : outs,\n",
    "                         'first' : first,\n",
    "                         'second' : second,\n",
    "                         'third' : third}\n",
    "        valid = compare_situation(situation, situation_out)\n",
    "        if not valid:\n",
    "            print('reject')\n",
    "    return situation_out, pred\n",
    "\n",
    "def compare_situation(situation, update):\n",
    "    base_runners = situation['first'] + situation['second'] + situation['third']\n",
    "    base_runners_update = update['first'] + update['second'] + update['third']\n",
    "    base_runners_diff = base_runners_update - base_runners\n",
    "    if update['half inning'] != situation['half inning']:\n",
    "        if update['outs'] != 0:\n",
    "            print('reset outs')\n",
    "            return False\n",
    "        elif (not update['half inning']) & (update['inning diff'] != 1):\n",
    "            print('reset inning')\n",
    "            return False\n",
    "        elif update['first'] or update['second'] or update['third']:\n",
    "            print('reset base runners')\n",
    "            return False\n",
    "        else:\n",
    "            return True\n",
    "    elif (update['half inning'] == situation['half inning']) & (update['outs'] < situation['outs']):\n",
    "        print('outs decreasing')\n",
    "        return False\n",
    "    elif update['half inning'] & \\\n",
    "        (update['outs'] - situation['outs'] + update['home score diff'] - 1 != -base_runners_diff):\n",
    "        print('more outs than base runner change')\n",
    "        return False\n",
    "    elif (not update['half inning']) & \\\n",
    "        (update['outs'] - situation['outs'] + update['visiting score diff'] - 1 != -base_runners_diff):\n",
    "        print('more outs than base runner change')\n",
    "        return False\n",
    "    else:\n",
    "        return True\n"
   ]
  },
  {
   "cell_type": "code",
   "execution_count": 26,
   "metadata": {},
   "outputs": [],
   "source": [
    "def get_sit_feed(sit, out, outcome_dict):\n",
    "    sit_feed = {'inning' : sit[0],\n",
    "                'home_score' : sit[1], \n",
    "                'visiting_score' : sit[2],\n",
    "                'half inning' : sit[3],\n",
    "                'outs' : sit[4],\n",
    "                'first' : sit[5],\n",
    "                'second' : sit[6],\n",
    "                'third' : sit[7]}\n",
    "    return sit_feed, outcome_dict[out]\n",
    "\n",
    "def get_sit_out_test(y_test, ind):\n",
    "    test = [t[ind] for t in y_test]\n",
    "    sit_out = {'inning_diff' : int(round(test[0])),\n",
    "               'home score diff' : np.where(test[4])[0][0],\n",
    "               'visiting score diff' : np.where(test[3])[0][0],\n",
    "               'half inning' : int(round(test[1])),\n",
    "               'outs' : np.where(test[2])[0][0],\n",
    "               'first' : int(round(test[5])),\n",
    "               'second' : int(round(test[6])),\n",
    "               'third' : int(round(test[7]))}\n",
    "    return sit_out"
   ]
  },
  {
   "cell_type": "code",
   "execution_count": 27,
   "metadata": {},
   "outputs": [],
   "source": [
    "ind = 13040"
   ]
  },
  {
   "cell_type": "code",
   "execution_count": 28,
   "metadata": {},
   "outputs": [],
   "source": [
    "ind += 1"
   ]
  },
  {
   "cell_type": "code",
   "execution_count": 29,
   "metadata": {},
   "outputs": [
    {
     "output_type": "stream",
     "name": "stdout",
     "text": "{'inning': 2, 'home_score': 0, 'visiting_score': 1, 'half inning': 1, 'outs': 0, 'first': 1, 'second': 0, 'third': 0}\n6G\n"
    }
   ],
   "source": [
    "sit_feed, outcome = get_sit_feed(situation[test_inds[ind]], outcome_test[ind], outcome_dict_rev)\n",
    "print(sit_feed)\n",
    "print(outcome)"
   ]
  },
  {
   "cell_type": "code",
   "execution_count": 30,
   "metadata": {},
   "outputs": [
    {
     "output_type": "error",
     "ename": "TypeError",
     "evalue": "type numpy.ndarray doesn't define __round__ method",
     "traceback": [
      "\u001b[1;31m---------------------------------------------------------------------------\u001b[0m",
      "\u001b[1;31mTypeError\u001b[0m                                 Traceback (most recent call last)",
      "\u001b[1;32m<ipython-input-30-4e54b37ba334>\u001b[0m in \u001b[0;36m<module>\u001b[1;34m\u001b[0m\n\u001b[1;32m----> 1\u001b[1;33m \u001b[0msit_out\u001b[0m \u001b[1;33m=\u001b[0m \u001b[0mget_sit_out_test\u001b[0m\u001b[1;33m(\u001b[0m\u001b[0my_test\u001b[0m\u001b[1;33m,\u001b[0m \u001b[0mind\u001b[0m\u001b[1;33m)\u001b[0m\u001b[1;33m\u001b[0m\u001b[1;33m\u001b[0m\u001b[0m\n\u001b[0m\u001b[0;32m      2\u001b[0m \u001b[0msit_pred\u001b[0m\u001b[1;33m,\u001b[0m \u001b[0mpred\u001b[0m \u001b[1;33m=\u001b[0m \u001b[0mupdate_situation\u001b[0m\u001b[1;33m(\u001b[0m\u001b[0msit_feed\u001b[0m\u001b[1;33m,\u001b[0m \u001b[0mnp\u001b[0m\u001b[1;33m.\u001b[0m\u001b[0marray\u001b[0m\u001b[1;33m(\u001b[0m\u001b[1;33m[\u001b[0m\u001b[1;33m[\u001b[0m\u001b[0moutcome_dict\u001b[0m\u001b[1;33m[\u001b[0m\u001b[0moutcome\u001b[0m\u001b[1;33m]\u001b[0m\u001b[1;33m]\u001b[0m\u001b[1;33m]\u001b[0m\u001b[1;33m)\u001b[0m\u001b[1;33m,\u001b[0m \u001b[0mmodel\u001b[0m\u001b[1;33m)\u001b[0m\u001b[1;33m\u001b[0m\u001b[1;33m\u001b[0m\u001b[0m\n\u001b[0;32m      3\u001b[0m \u001b[0mprint\u001b[0m\u001b[1;33m(\u001b[0m\u001b[0moutcome\u001b[0m\u001b[1;33m)\u001b[0m\u001b[1;33m\u001b[0m\u001b[1;33m\u001b[0m\u001b[0m\n\u001b[0;32m      4\u001b[0m \u001b[0mprint\u001b[0m\u001b[1;33m(\u001b[0m\u001b[0msit_out\u001b[0m\u001b[1;33m)\u001b[0m\u001b[1;33m\u001b[0m\u001b[1;33m\u001b[0m\u001b[0m\n\u001b[0;32m      5\u001b[0m \u001b[0mprint\u001b[0m\u001b[1;33m(\u001b[0m\u001b[0msit_pred\u001b[0m\u001b[1;33m)\u001b[0m\u001b[1;33m\u001b[0m\u001b[1;33m\u001b[0m\u001b[0m\n",
      "\u001b[1;32m<ipython-input-26-10d6c01d068c>\u001b[0m in \u001b[0;36mget_sit_out_test\u001b[1;34m(y_test, ind)\u001b[0m\n\u001b[0;32m     12\u001b[0m \u001b[1;32mdef\u001b[0m \u001b[0mget_sit_out_test\u001b[0m\u001b[1;33m(\u001b[0m\u001b[0my_test\u001b[0m\u001b[1;33m,\u001b[0m \u001b[0mind\u001b[0m\u001b[1;33m)\u001b[0m\u001b[1;33m:\u001b[0m\u001b[1;33m\u001b[0m\u001b[1;33m\u001b[0m\u001b[0m\n\u001b[0;32m     13\u001b[0m     \u001b[0mtest\u001b[0m \u001b[1;33m=\u001b[0m \u001b[1;33m[\u001b[0m\u001b[0mt\u001b[0m\u001b[1;33m[\u001b[0m\u001b[0mind\u001b[0m\u001b[1;33m]\u001b[0m \u001b[1;32mfor\u001b[0m \u001b[0mt\u001b[0m \u001b[1;32min\u001b[0m \u001b[0my_test\u001b[0m\u001b[1;33m]\u001b[0m\u001b[1;33m\u001b[0m\u001b[1;33m\u001b[0m\u001b[0m\n\u001b[1;32m---> 14\u001b[1;33m     sit_out = {'inning_diff' : int(round(test[0])),\n\u001b[0m\u001b[0;32m     15\u001b[0m                \u001b[1;34m'home score diff'\u001b[0m \u001b[1;33m:\u001b[0m \u001b[0mnp\u001b[0m\u001b[1;33m.\u001b[0m\u001b[0mwhere\u001b[0m\u001b[1;33m(\u001b[0m\u001b[0mtest\u001b[0m\u001b[1;33m[\u001b[0m\u001b[1;36m4\u001b[0m\u001b[1;33m]\u001b[0m\u001b[1;33m)\u001b[0m\u001b[1;33m[\u001b[0m\u001b[1;36m0\u001b[0m\u001b[1;33m]\u001b[0m\u001b[1;33m[\u001b[0m\u001b[1;36m0\u001b[0m\u001b[1;33m]\u001b[0m\u001b[1;33m,\u001b[0m\u001b[1;33m\u001b[0m\u001b[1;33m\u001b[0m\u001b[0m\n\u001b[0;32m     16\u001b[0m                \u001b[1;34m'visiting score diff'\u001b[0m \u001b[1;33m:\u001b[0m \u001b[0mnp\u001b[0m\u001b[1;33m.\u001b[0m\u001b[0mwhere\u001b[0m\u001b[1;33m(\u001b[0m\u001b[0mtest\u001b[0m\u001b[1;33m[\u001b[0m\u001b[1;36m3\u001b[0m\u001b[1;33m]\u001b[0m\u001b[1;33m)\u001b[0m\u001b[1;33m[\u001b[0m\u001b[1;36m0\u001b[0m\u001b[1;33m]\u001b[0m\u001b[1;33m[\u001b[0m\u001b[1;36m0\u001b[0m\u001b[1;33m]\u001b[0m\u001b[1;33m,\u001b[0m\u001b[1;33m\u001b[0m\u001b[1;33m\u001b[0m\u001b[0m\n",
      "\u001b[1;31mTypeError\u001b[0m: type numpy.ndarray doesn't define __round__ method"
     ]
    }
   ],
   "source": [
    "sit_out = get_sit_out_test(y_test, ind)\n",
    "sit_pred, pred = update_situation(sit_feed, np.array([[outcome_dict[outcome]]]), model)\n",
    "print(outcome)\n",
    "print(sit_out)\n",
    "print(sit_pred)"
   ]
  },
  {
   "cell_type": "code",
   "execution_count": 31,
   "metadata": {},
   "outputs": [
    {
     "output_type": "error",
     "ename": "NameError",
     "evalue": "name 'pred' is not defined",
     "traceback": [
      "\u001b[1;31m---------------------------------------------------------------------------\u001b[0m",
      "\u001b[1;31mNameError\u001b[0m                                 Traceback (most recent call last)",
      "\u001b[1;32m<ipython-input-31-60fe438a039c>\u001b[0m in \u001b[0;36m<module>\u001b[1;34m\u001b[0m\n\u001b[1;32m----> 1\u001b[1;33m \u001b[0mplt\u001b[0m\u001b[1;33m.\u001b[0m\u001b[0mbar\u001b[0m\u001b[1;33m(\u001b[0m\u001b[0mnp\u001b[0m\u001b[1;33m.\u001b[0m\u001b[0marange\u001b[0m\u001b[1;33m(\u001b[0m\u001b[1;36m3\u001b[0m\u001b[1;33m)\u001b[0m\u001b[1;33m,\u001b[0m \u001b[1;33m[\u001b[0m\u001b[0mpred\u001b[0m\u001b[1;33m[\u001b[0m\u001b[1;36m5\u001b[0m\u001b[1;33m]\u001b[0m\u001b[1;33m,\u001b[0m \u001b[0mpred\u001b[0m\u001b[1;33m[\u001b[0m\u001b[1;36m6\u001b[0m\u001b[1;33m]\u001b[0m\u001b[1;33m,\u001b[0m \u001b[0mpred\u001b[0m\u001b[1;33m[\u001b[0m\u001b[1;36m7\u001b[0m\u001b[1;33m]\u001b[0m\u001b[1;33m]\u001b[0m\u001b[1;33m)\u001b[0m\u001b[1;33m\u001b[0m\u001b[1;33m\u001b[0m\u001b[0m\n\u001b[0m\u001b[0;32m      2\u001b[0m \u001b[0mplt\u001b[0m\u001b[1;33m.\u001b[0m\u001b[0mylim\u001b[0m\u001b[1;33m(\u001b[0m\u001b[1;33m[\u001b[0m\u001b[1;36m0\u001b[0m\u001b[1;33m,\u001b[0m \u001b[1;36m1\u001b[0m\u001b[1;33m]\u001b[0m\u001b[1;33m)\u001b[0m\u001b[1;33m\u001b[0m\u001b[1;33m\u001b[0m\u001b[0m\n\u001b[0;32m      3\u001b[0m \u001b[0mplt\u001b[0m\u001b[1;33m.\u001b[0m\u001b[0mxticks\u001b[0m\u001b[1;33m(\u001b[0m\u001b[0mnp\u001b[0m\u001b[1;33m.\u001b[0m\u001b[0marange\u001b[0m\u001b[1;33m(\u001b[0m\u001b[1;36m3\u001b[0m\u001b[1;33m)\u001b[0m\u001b[1;33m,\u001b[0m \u001b[1;33m[\u001b[0m\u001b[1;34m'1st'\u001b[0m\u001b[1;33m,\u001b[0m \u001b[1;34m'2nd'\u001b[0m\u001b[1;33m,\u001b[0m \u001b[1;34m'3rd'\u001b[0m\u001b[1;33m]\u001b[0m\u001b[1;33m)\u001b[0m\u001b[1;33m\u001b[0m\u001b[1;33m\u001b[0m\u001b[0m\n\u001b[0;32m      4\u001b[0m \u001b[0mplt\u001b[0m\u001b[1;33m.\u001b[0m\u001b[0mtitle\u001b[0m\u001b[1;33m(\u001b[0m\u001b[1;34m'Probability of base runners'\u001b[0m\u001b[1;33m)\u001b[0m\u001b[1;33m\u001b[0m\u001b[1;33m\u001b[0m\u001b[0m\n\u001b[0;32m      5\u001b[0m \u001b[0mplt\u001b[0m\u001b[1;33m.\u001b[0m\u001b[0mshow\u001b[0m\u001b[1;33m(\u001b[0m\u001b[1;33m)\u001b[0m\u001b[1;33m\u001b[0m\u001b[1;33m\u001b[0m\u001b[0m\n",
      "\u001b[1;31mNameError\u001b[0m: name 'pred' is not defined"
     ]
    }
   ],
   "source": [
    "plt.bar(np.arange(3), [pred[5], pred[6], pred[7]])\n",
    "plt.ylim([0, 1])\n",
    "plt.xticks(np.arange(3), ['1st', '2nd', '3rd'])\n",
    "plt.title('Probability of base runners')\n",
    "plt.show()\n",
    "\n",
    "plt.bar(np.arange(3), pred[2])\n",
    "plt.ylim([0, 1])\n",
    "plt.xticks(np.arange(3), ['0', '1', '2'])\n",
    "plt.title('Probability of outs')\n",
    "plt.show()"
   ]
  },
  {
   "cell_type": "code",
   "execution_count": null,
   "metadata": {},
   "outputs": [],
   "source": []
  }
 ],
 "metadata": {
  "language_info": {
   "name": "python",
   "codemirror_mode": {
    "name": "ipython",
    "version": 3
   },
   "version": "3.7.6-final"
  },
  "orig_nbformat": 2,
  "file_extension": ".py",
  "mimetype": "text/x-python",
  "name": "python",
  "npconvert_exporter": "python",
  "pygments_lexer": "ipython3",
  "version": 3,
  "kernelspec": {
   "name": "python37664bitretroconda5edbee28fa404aa59e7e2665892ecb3c",
   "display_name": "Python 3.7.6 64-bit ('retro': conda)"
  }
 },
 "nbformat": 4,
 "nbformat_minor": 2
}